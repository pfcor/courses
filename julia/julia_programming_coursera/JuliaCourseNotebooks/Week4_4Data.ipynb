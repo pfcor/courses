{
 "cells": [
  {
   "cell_type": "code",
   "execution_count": 1,
   "metadata": {},
   "outputs": [
    {
     "data": {
      "text/html": [
       "<link href='http://fonts.googleapis.com/css?family=Alegreya+Sans:100,300,400,500,700,800,900,100italic,300italic,400italic,500italic,700italic,800italic,900italic' rel='stylesheet' type='text/css'>\n",
       "<link href='http://fonts.googleapis.com/css?family=Arvo:400,700,400italic' rel='stylesheet' type='text/css'>\n",
       "<link href='http://fonts.googleapis.com/css?family=PT+Mono' rel='stylesheet' type='text/css'>\n",
       "<link href='http://fonts.googleapis.com/css?family=Shadows+Into+Light' rel='stylesheet' type='text/css'>\n",
       "<link href='http://fonts.googleapis.com/css?family=Philosopher:400,700,400italic,700italic' rel='stylesheet' type='text/css'>\n",
       "\n",
       "<style>\n",
       "\n",
       "@font-face {\n",
       "    font-family: \"Computer Modern\";\n",
       "    src: url('http://mirrors.ctan.org/fonts/cm-unicode/fonts/otf/cmunss.otf');\n",
       "}\n",
       "\n",
       "\n",
       "\n",
       "/* Formatting for header cells */\n",
       ".text_cell_render h1 {\n",
       "    font-family: 'Philosopher', sans-serif;\n",
       "    font-weight: 400;\n",
       "    font-size: 2.2em;\n",
       "    line-height: 100%;\n",
       "    color: rgb(0, 80, 120);\n",
       "    margin-bottom: 0.1em;\n",
       "    margin-top: 0.1em;\n",
       "    display: block;\n",
       "}\t\n",
       ".text_cell_render h2 {\n",
       "    font-family: 'Philosopher', serif;\n",
       "    font-weight: 400;\n",
       "    font-size: 1.9em;\n",
       "    line-height: 100%;\n",
       "    color: rgb(200,100,0);\n",
       "    margin-bottom: 0.1em;\n",
       "    margin-top: 0.1em;\n",
       "    display: block;\n",
       "}\t\n",
       "\n",
       ".text_cell_render h3 {\n",
       "    font-family: 'Philosopher', serif;\n",
       "    margin-top:12px;\n",
       "    margin-bottom: 3px;\n",
       "    font-style: italic;\n",
       "    color: rgb(94,127,192);\n",
       "}\n",
       "\n",
       ".text_cell_render h4 {\n",
       "    font-family: 'Philosopher', serif;\n",
       "}\n",
       "\n",
       ".text_cell_render h5 {\n",
       "    font-family: 'Alegreya Sans', sans-serif;\n",
       "    font-weight: 300;\n",
       "    font-size: 16pt;\n",
       "    color: grey;\n",
       "    font-style: italic;\n",
       "    margin-bottom: .1em;\n",
       "    margin-top: 0.1em;\n",
       "    display: block;\n",
       "}\n",
       "\n",
       ".text_cell_render h6 {\n",
       "    font-family: 'PT Mono', sans-serif;\n",
       "    font-weight: 300;\n",
       "    font-size: 10pt;\n",
       "    color: grey;\n",
       "    margin-bottom: 1px;\n",
       "    margin-top: 1px;\n",
       "}\n",
       "\n",
       ".CodeMirror{\n",
       "        font-family: \"PT Mono\";\n",
       "        font-size: 100%;\n",
       "}\n",
       "\n",
       "</style>\n",
       "\n"
      ],
      "text/plain": [
       "HTML{String}(\"<link href='http://fonts.googleapis.com/css?family=Alegreya+Sans:100,300,400,500,700,800,900,100italic,300italic,400italic,500italic,700italic,800italic,900italic' rel='stylesheet' type='text/css'>\\n<link href='http://fonts.googleapis.com/css?family=Arvo:400,700,400italic' rel='stylesheet' type='text/css'>\\n<link href='http://fonts.googleapis.com/css?family=PT+Mono' rel='stylesheet' type='text/css'>\\n<link href='http://fonts.googleapis.com/css?family=Shadows+Into+Light' rel='stylesheet' type='text/css'>\\n<link href='http://fonts.googleapis.com/css?family=Philosopher:400,700,400italic,700italic' rel='stylesheet' type='text/css'>\\n\\n<style>\\n\\n@font-face {\\n    font-family: \\\"Computer Modern\\\";\\n    src: url('http://mirrors.ctan.org/fonts/cm-unicode/fonts/otf/cmunss.otf');\\n}\\n\\n\\n\\n/* Formatting for header cells */\\n.text_cell_render h1 {\\n    font-family: 'Philosopher', sans-serif;\\n    font-weight: 400;\\n    font-size: 2.2em;\\n    line-height: 100%;\\n    color: rgb(0, 80, 120);\\n    margin-bottom: 0.1em;\\n    margin-top: 0.1em;\\n    display: block;\\n}\\t\\n.text_cell_render h2 {\\n    font-family: 'Philosopher', serif;\\n    font-weight: 400;\\n    font-size: 1.9em;\\n    line-height: 100%;\\n    color: rgb(200,100,0);\\n    margin-bottom: 0.1em;\\n    margin-top: 0.1em;\\n    display: block;\\n}\\t\\n\\n.text_cell_render h3 {\\n    font-family: 'Philosopher', serif;\\n    margin-top:12px;\\n    margin-bottom: 3px;\\n    font-style: italic;\\n    color: rgb(94,127,192);\\n}\\n\\n.text_cell_render h4 {\\n    font-family: 'Philosopher', serif;\\n}\\n\\n.text_cell_render h5 {\\n    font-family: 'Alegreya Sans', sans-serif;\\n    font-weight: 300;\\n    font-size: 16pt;\\n    color: grey;\\n    font-style: italic;\\n    margin-bottom: .1em;\\n    margin-top: 0.1em;\\n    display: block;\\n}\\n\\n.text_cell_render h6 {\\n    font-family: 'PT Mono', sans-serif;\\n    font-weight: 300;\\n    font-size: 10pt;\\n    color: grey;\\n    margin-bottom: 1px;\\n    margin-top: 1px;\\n}\\n\\n.CodeMirror{\\n        font-family: \\\"PT Mono\\\";\\n        font-size: 100%;\\n}\\n\\n</style>\\n\\n\")"
      ]
     },
     "execution_count": 1,
     "metadata": {},
     "output_type": "execute_result"
    }
   ],
   "source": [
    "# Setting up a custom stylesheet in IJulia\n",
    "file = open(\"style.css\") # A .css file in the same folder as this notebook file\n",
    "styl = readstring(file) # Read the file\n",
    "HTML(\"$styl\") # Output as HTML"
   ]
  },
  {
   "cell_type": "markdown",
   "metadata": {},
   "source": [
    "# Data"
   ]
  },
  {
   "cell_type": "markdown",
   "metadata": {},
   "source": [
    "<h2>In this lesson</h2>"
   ]
  },
  {
   "cell_type": "markdown",
   "metadata": {},
   "source": [
    "- [Introduction](#Introduction)\n",
    "- [Importing the packages for this lesson](#Importing-the-packages-for-this-lesson)\n",
    "- [Outcome](#Outcome)\n",
    "- [The standard normal distribution](#The-standard-normal-distribution)\n",
    "- [Using the Distributions package](#Using-the-Distributions-package)\n",
    "- [Comparing samples](#Comparing-samples)\n",
    "- [Plotly](#Plotly)"
   ]
  },
  {
   "cell_type": "markdown",
   "metadata": {},
   "source": [
    "<hr>\n",
    "<h2>Introduction</h2>"
   ]
  },
  {
   "cell_type": "markdown",
   "metadata": {},
   "source": [
    "Data is everywhere and working with data is very important in scientific computing.  Data point values come in patterns, called distributions.  Whether you are modelling, getting data from a research project, or simply want ot manufactor some data, Julia is the place to go."
   ]
  },
  {
   "cell_type": "markdown",
   "metadata": {},
   "source": [
    "We know about the `rand()` and `randn()` functions, but by using the `Distributions` package we can do much, much more."
   ]
  },
  {
   "cell_type": "markdown",
   "metadata": {},
   "source": [
    "[Back to the top](#In-this-lesson)"
   ]
  },
  {
   "cell_type": "markdown",
   "metadata": {},
   "source": [
    "<hr>\n",
    "<h2>Importing the packages for this lesson</h2>"
   ]
  },
  {
   "cell_type": "code",
   "execution_count": 2,
   "metadata": {},
   "outputs": [
    {
     "name": "stderr",
     "output_type": "stream",
     "text": [
      "\u001b[1m\u001b[36mINFO: \u001b[39m\u001b[22m\u001b[36mRecompiling stale cache file /home/pfcor/.julia/lib/v0.6/DataStructures.ji for module DataStructures.\n",
      "\u001b[39m\u001b[1m\u001b[36mINFO: \u001b[39m\u001b[22m\u001b[36mRecompiling stale cache file /home/pfcor/.julia/lib/v0.6/QuadGK.ji for module QuadGK.\n",
      "\u001b[39m\u001b[1m\u001b[36mINFO: \u001b[39m\u001b[22m\u001b[36mRecompiling stale cache file /home/pfcor/.julia/lib/v0.6/Distributions.ji for module Distributions.\n",
      "\u001b[39m"
     ]
    }
   ],
   "source": [
    "using Distributions"
   ]
  },
  {
   "cell_type": "markdown",
   "metadata": {},
   "source": [
    "You should have the `PlotlyJS` package installed."
   ]
  },
  {
   "cell_type": "code",
   "execution_count": 24,
   "metadata": {},
   "outputs": [
    {
     "data": {
      "text/plain": [
       "Plots.PlotlyJSBackend()"
      ]
     },
     "execution_count": 24,
     "metadata": {},
     "output_type": "execute_result"
    }
   ],
   "source": [
    "using Plots\n",
    "plotlyjs()"
   ]
  },
  {
   "cell_type": "code",
   "execution_count": 4,
   "metadata": {},
   "outputs": [
    {
     "name": "stderr",
     "output_type": "stream",
     "text": [
      "\u001b[1m\u001b[36mINFO: \u001b[39m\u001b[22m\u001b[36mPrecompiling module DataFrames.\n",
      "\u001b[39m\u001b[1m\u001b[36mINFO: \u001b[39m\u001b[22m\u001b[36mPrecompiling module IterableTables.\n",
      "\u001b[39m\u001b[1m\u001b[36mINFO: \u001b[39m\u001b[22m\u001b[36mPrecompiling module DataValues.\n",
      "\u001b[39m\u001b[1m\u001b[36mINFO: \u001b[39m\u001b[22m\u001b[36mPrecompiling module TableTraitsUtils.\n",
      "\u001b[39m\u001b[1m\u001b[36mINFO: \u001b[39m\u001b[22m\u001b[36mPrecompiling module KernelDensity.\n",
      "\u001b[39mWARNING: StatsBase.WeightVec is deprecated, use StatsBase.Weights{#1#S, #2#T, #3#V} where #3#V<:AbstractArray{#2#T, 1} where #2#T<:Real where #1#S<:Real instead.\n",
      "  likely near /home/pfcor/.julia/v0.6/KernelDensity/src/univariate.jl:80\n",
      "\u001b[1m\u001b[36mINFO: \u001b[39m\u001b[22m\u001b[36mPrecompiling module Loess.\n",
      "\u001b[39m"
     ]
    }
   ],
   "source": [
    "using StatPlots"
   ]
  },
  {
   "cell_type": "code",
   "execution_count": 5,
   "metadata": {},
   "outputs": [
    {
     "name": "stderr",
     "output_type": "stream",
     "text": [
      "\u001b[1m\u001b[36mINFO: \u001b[39m\u001b[22m\u001b[36mPrecompiling module HypothesisTests.\n",
      "\u001b[39m"
     ]
    }
   ],
   "source": [
    "using HypothesisTests"
   ]
  },
  {
   "cell_type": "code",
   "execution_count": 6,
   "metadata": {},
   "outputs": [],
   "source": [
    "using DataFrames"
   ]
  },
  {
   "cell_type": "code",
   "execution_count": 7,
   "metadata": {},
   "outputs": [
    {
     "name": "stderr",
     "output_type": "stream",
     "text": [
      "\u001b[1m\u001b[36mINFO: \u001b[39m\u001b[22m\u001b[36mPrecompiling module GLM.\n",
      "\u001b[39m"
     ]
    }
   ],
   "source": [
    "using GLM"
   ]
  },
  {
   "cell_type": "markdown",
   "metadata": {},
   "source": [
    "<hr>\n",
    "<h2>Outcome</h2>"
   ]
  },
  {
   "cell_type": "markdown",
   "metadata": {
    "collapsed": true
   },
   "source": [
    "After successfully completing this lecture, you will be able to:\n",
    "\n",
    "- Understand and plot the standard normal distribution\n",
    "- Create a variety of random value from different distributions using the `Distributions` package\n",
    "- Plot some of the distributions in the `Distributions` package\n",
    "- Create your own data using a distribution and its parameters\n",
    "- Use the online plotting library `Plotly`"
   ]
  },
  {
   "cell_type": "markdown",
   "metadata": {},
   "source": [
    "<hr>\n",
    "<h2>The standard normal distribution</h2>"
   ]
  },
  {
   "cell_type": "markdown",
   "metadata": {},
   "source": [
    "The Julie function `rand()` allows us to return an array of randomly selected values.  The values come from a specific distribution, namely the **standard normal** distribution.  The majority of values cluster around the mean of $ 0 $ and a standard deviation of $ 1 $.  Let's get $ 1000 $ such values and attach this array to the variable `norm1`."
   ]
  },
  {
   "cell_type": "code",
   "execution_count": 8,
   "metadata": {},
   "outputs": [],
   "source": [
    "# We will put a semicolon at the end to supress the output\n",
    "norm1 = randn(1000);"
   ]
  },
  {
   "cell_type": "markdown",
   "metadata": {},
   "source": [
    "We can plot this as histogram.  In the example below, we will use the keyword argument `bins`.  Setting it to $ 10 $ means that between the minimum and maximum value we create $ 10 $ equally sized ranges and count how many values occur in each range."
   ]
  },
  {
   "cell_type": "code",
   "execution_count": 9,
   "metadata": {},
   "outputs": [
    {
     "data": {
      "text/html": [
       "<div id=\"89cf9f6c-fa72-4c98-a631-6c38ddac58f5\" class=\"plotly-graph-div\"></div>\n",
       "\n",
       "<script>\n",
       "    window.PLOTLYENV=window.PLOTLYENV || {};\n",
       "    window.PLOTLYENV.BASE_URL=\"https://plot.ly\";\n",
       "    require(['plotly'], function(Plotly) {\n",
       "        Plotly.newPlot('89cf9f6c-fa72-4c98-a631-6c38ddac58f5', [{\"xaxis\":\"x\",\"colorbar\":{\"title\":\"\"},\"yaxis\":\"y\",\"orientation\":\"v\",\"x\":[-2.75,-2.25,-1.75,-1.25,-0.75,-0.25,0.25,0.75,1.25,1.75,2.25,2.75,3.25],\"showlegend\":true,\"name\":\"Standard normal distribution\",\"marker\":{\"color\":\"rgba(0, 154, 250, 1.000)\",\"line\":{\"width\":1}},\"y\":[3.0,13.0,52.0,95.0,146.0,186.0,190.0,148.0,101.0,47.0,13.0,5.0,1.0],\"type\":\"bar\",\"width\":[0.5,0.5,0.5,0.5,0.5,0.5,0.5,0.5,0.5,0.5,0.5,0.5,0.5]}],\n",
       "               {\"showlegend\":true,\"xaxis\":{\"showticklabels\":true,\"gridwidth\":0.5,\"tickvals\":[-3.0,-2.0,-1.0,0.0,1.0,2.0,3.0],\"visible\":true,\"ticks\":\"inside\",\"range\":[-3.0,3.5],\"domain\":[0.05100612423447069,0.9934383202099737],\"tickmode\":\"array\",\"linecolor\":\"rgba(0, 0, 0, 1.000)\",\"showgrid\":true,\"title\":\"\",\"mirror\":false,\"tickangle\":0,\"showline\":true,\"gridcolor\":\"rgba(0, 0, 0, 0.100)\",\"titlefont\":{\"color\":\"rgba(0, 0, 0, 1.000)\",\"family\":\"sans-serif\",\"size\":15},\"tickcolor\":\"rgb(0, 0, 0)\",\"ticktext\":[\"-3\",\"-2\",\"-1\",\"0\",\"1\",\"2\",\"3\"],\"zeroline\":false,\"type\":\"-\",\"tickfont\":{\"color\":\"rgba(0, 0, 0, 1.000)\",\"family\":\"sans-serif\",\"size\":11},\"zerolinecolor\":\"rgba(0, 0, 0, 1.000)\",\"anchor\":\"y\"},\"paper_bgcolor\":\"rgba(255, 255, 255, 1.000)\",\"annotations\":[{\"yanchor\":\"top\",\"xanchor\":\"center\",\"rotation\":-0.0,\"y\":1.0,\"font\":{\"color\":\"rgba(0, 0, 0, 1.000)\",\"family\":\"sans-serif\",\"size\":20},\"yref\":\"paper\",\"showarrow\":false,\"text\":\"Histogram\",\"xref\":\"paper\",\"x\":0.5222222222222223}],\"height\":400,\"margin\":{\"l\":0,\"b\":20,\"r\":0,\"t\":20},\"plot_bgcolor\":\"rgba(255, 255, 255, 1.000)\",\"yaxis\":{\"showticklabels\":true,\"gridwidth\":0.5,\"tickvals\":[0.0,50.0,100.0,150.0],\"visible\":true,\"ticks\":\"inside\",\"range\":[0.0,190.0],\"domain\":[0.03762029746281716,0.9415463692038496],\"tickmode\":\"array\",\"linecolor\":\"rgba(0, 0, 0, 1.000)\",\"showgrid\":true,\"title\":\"\",\"mirror\":false,\"tickangle\":0,\"showline\":true,\"gridcolor\":\"rgba(0, 0, 0, 0.100)\",\"titlefont\":{\"color\":\"rgba(0, 0, 0, 1.000)\",\"family\":\"sans-serif\",\"size\":15},\"tickcolor\":\"rgb(0, 0, 0)\",\"ticktext\":[\"0\",\"50\",\"100\",\"150\"],\"zeroline\":false,\"type\":\"-\",\"tickfont\":{\"color\":\"rgba(0, 0, 0, 1.000)\",\"family\":\"sans-serif\",\"size\":11},\"zerolinecolor\":\"rgba(0, 0, 0, 1.000)\",\"anchor\":\"x\"},\"legend\":{\"bordercolor\":\"rgba(0, 0, 0, 1.000)\",\"bgcolor\":\"rgba(255, 255, 255, 1.000)\",\"font\":{\"color\":\"rgba(0, 0, 0, 1.000)\",\"family\":\"sans-serif\",\"size\":11},\"y\":1.0,\"x\":1.0},\"width\":600}, {showLink: false});\n",
       "\n",
       "    });\n",
       " </script>\n"
      ]
     },
     "execution_count": 9,
     "metadata": {},
     "output_type": "execute_result"
    }
   ],
   "source": [
    "# Beware the pink text box!!!\n",
    "histogram(norm1, bins = 20, label = \"Standard normal distribution\", title = \"Histogram\")"
   ]
  },
  {
   "cell_type": "markdown",
   "metadata": {},
   "source": [
    "These values were selected at random.  We can check how close we came to a real mean of $ 0 $ and a standard deviation of $ 1 $."
   ]
  },
  {
   "cell_type": "code",
   "execution_count": 10,
   "metadata": {},
   "outputs": [
    {
     "data": {
      "text/html": [
       "0.019804019056217412"
      ],
      "text/plain": [
       "0.019804019056217412"
      ]
     },
     "execution_count": 10,
     "metadata": {},
     "output_type": "execute_result"
    }
   ],
   "source": [
    "# Using mean()\n",
    "mean(norm1)"
   ]
  },
  {
   "cell_type": "code",
   "execution_count": 11,
   "metadata": {},
   "outputs": [
    {
     "data": {
      "text/html": [
       "0.992406652259057"
      ],
      "text/plain": [
       "0.992406652259057"
      ]
     },
     "execution_count": 11,
     "metadata": {},
     "output_type": "execute_result"
    }
   ],
   "source": [
    "# Standard deviation using std()\n",
    "std(norm1)"
   ]
  },
  {
   "cell_type": "markdown",
   "metadata": {},
   "source": [
    "[Back to the top](#In-this-lesson)"
   ]
  },
  {
   "cell_type": "markdown",
   "metadata": {},
   "source": [
    "<hr>\n",
    "<h2>Using the Distributions package</h2>"
   ]
  },
  {
   "cell_type": "markdown",
   "metadata": {},
   "source": [
    "We can ask for random data point values for a variable to be taken from any number of discrete or continuous distributions.  This greatly expands on the standard normal distribution provided by the `randn()` function.  In this lesson we will concentrate on the continuous random variables and start with the normal distribution."
   ]
  },
  {
   "cell_type": "markdown",
   "metadata": {},
   "source": [
    "### The normal distribution"
   ]
  },
  {
   "cell_type": "markdown",
   "metadata": {},
   "source": [
    "The `Normal()` function from the Distribution package takes two arguments.  The first is the mean and the second is the required standard deviation.  We use it in conjunction with the `rand()` function so that we can specifiy how many data point values we want."
   ]
  },
  {
   "cell_type": "code",
   "execution_count": 16,
   "metadata": {},
   "outputs": [],
   "source": [
    "# Recreating the standard normal distribution\n",
    "norm2 = rand(Normal(0, 1), 1000);"
   ]
  },
  {
   "cell_type": "code",
   "execution_count": 17,
   "metadata": {},
   "outputs": [
    {
     "data": {
      "text/html": [
       "<div id=\"fffea22e-15cc-45eb-a293-380a7ef00881\" class=\"plotly-graph-div\"></div>\n",
       "\n",
       "<script>\n",
       "    window.PLOTLYENV=window.PLOTLYENV || {};\n",
       "    window.PLOTLYENV.BASE_URL=\"https://plot.ly\";\n",
       "    require(['plotly'], function(Plotly) {\n",
       "        Plotly.newPlot('fffea22e-15cc-45eb-a293-380a7ef00881', [{\"xaxis\":\"x\",\"colorbar\":{\"title\":\"\"},\"yaxis\":\"y\",\"orientation\":\"v\",\"x\":[-3.75,-3.25,-2.75,-2.25,-1.75,-1.25,-0.75,-0.25,0.25,0.75,1.25,1.75,2.25,2.75,3.25],\"showlegend\":true,\"name\":\"Standard normal distribution\",\"marker\":{\"color\":\"rgba(0, 154, 250, 1.000)\",\"line\":{\"width\":1}},\"y\":[1.0,1.0,3.0,16.0,44.0,84.0,169.0,175.0,185.0,165.0,99.0,45.0,7.0,5.0,1.0],\"type\":\"bar\",\"width\":[0.5,0.5,0.5,0.5,0.5,0.5,0.5,0.5,0.5,0.5,0.5,0.5,0.5,0.5,0.5]}],\n",
       "               {\"showlegend\":true,\"xaxis\":{\"showticklabels\":true,\"gridwidth\":0.5,\"tickvals\":[-4.0,-2.0,0.0,2.0],\"visible\":true,\"ticks\":\"inside\",\"range\":[-4.0,3.5],\"domain\":[0.05100612423447069,0.9934383202099737],\"tickmode\":\"array\",\"linecolor\":\"rgba(0, 0, 0, 1.000)\",\"showgrid\":true,\"title\":\"\",\"mirror\":false,\"tickangle\":0,\"showline\":true,\"gridcolor\":\"rgba(0, 0, 0, 0.100)\",\"titlefont\":{\"color\":\"rgba(0, 0, 0, 1.000)\",\"family\":\"sans-serif\",\"size\":15},\"tickcolor\":\"rgb(0, 0, 0)\",\"ticktext\":[\"-4\",\"-2\",\"0\",\"2\"],\"zeroline\":false,\"type\":\"-\",\"tickfont\":{\"color\":\"rgba(0, 0, 0, 1.000)\",\"family\":\"sans-serif\",\"size\":11},\"zerolinecolor\":\"rgba(0, 0, 0, 1.000)\",\"anchor\":\"y\"},\"paper_bgcolor\":\"rgba(255, 255, 255, 1.000)\",\"annotations\":[{\"yanchor\":\"top\",\"xanchor\":\"center\",\"rotation\":-0.0,\"y\":1.0,\"font\":{\"color\":\"rgba(0, 0, 0, 1.000)\",\"family\":\"sans-serif\",\"size\":20},\"yref\":\"paper\",\"showarrow\":false,\"text\":\"Histogram\",\"xref\":\"paper\",\"x\":0.5222222222222223}],\"height\":400,\"margin\":{\"l\":0,\"b\":20,\"r\":0,\"t\":20},\"plot_bgcolor\":\"rgba(255, 255, 255, 1.000)\",\"yaxis\":{\"showticklabels\":true,\"gridwidth\":0.5,\"tickvals\":[0.0,50.0,100.0,150.0],\"visible\":true,\"ticks\":\"inside\",\"range\":[0.0,185.0],\"domain\":[0.03762029746281716,0.9415463692038496],\"tickmode\":\"array\",\"linecolor\":\"rgba(0, 0, 0, 1.000)\",\"showgrid\":true,\"title\":\"\",\"mirror\":false,\"tickangle\":0,\"showline\":true,\"gridcolor\":\"rgba(0, 0, 0, 0.100)\",\"titlefont\":{\"color\":\"rgba(0, 0, 0, 1.000)\",\"family\":\"sans-serif\",\"size\":15},\"tickcolor\":\"rgb(0, 0, 0)\",\"ticktext\":[\"0\",\"50\",\"100\",\"150\"],\"zeroline\":false,\"type\":\"-\",\"tickfont\":{\"color\":\"rgba(0, 0, 0, 1.000)\",\"family\":\"sans-serif\",\"size\":11},\"zerolinecolor\":\"rgba(0, 0, 0, 1.000)\",\"anchor\":\"x\"},\"legend\":{\"bordercolor\":\"rgba(0, 0, 0, 1.000)\",\"bgcolor\":\"rgba(255, 255, 255, 1.000)\",\"font\":{\"color\":\"rgba(0, 0, 0, 1.000)\",\"family\":\"sans-serif\",\"size\":11},\"y\":1.0,\"x\":1.0},\"width\":600}, {showLink: false});\n",
       "\n",
       "    });\n",
       " </script>\n"
      ]
     },
     "execution_count": 17,
     "metadata": {},
     "output_type": "execute_result"
    }
   ],
   "source": [
    "# Histogram\n",
    "histogram(norm2, bins = 20, label = \"Standard normal distribution\",\n",
    "title = \"Histogram\")"
   ]
  },
  {
   "cell_type": "markdown",
   "metadata": {},
   "source": [
    "Just to belabor the point, we can use `Plots` to show us the theoretical normal distribution."
   ]
  },
  {
   "cell_type": "code",
   "execution_count": 19,
   "metadata": {},
   "outputs": [
    {
     "data": {
      "text/html": [
       "<div id=\"3a0afd43-1687-4a0e-9ace-8ce6eb0b10f0\" class=\"plotly-graph-div\"></div>\n",
       "\n",
       "<script>\n",
       "    window.PLOTLYENV=window.PLOTLYENV || {};\n",
       "    window.PLOTLYENV.BASE_URL=\"https://plot.ly\";\n",
       "    require(['plotly'], function(Plotly) {\n",
       "        Plotly.newPlot('3a0afd43-1687-4a0e-9ace-8ce6eb0b10f0', [{\"showlegend\":true,\"mode\":\"lines\",\"xaxis\":\"x\",\"colorbar\":{\"title\":\"\"},\"line\":{\"color\":\"rgba(0, 154, 250, 1.000)\",\"width\":1,\"dash\":\"solid\",\"shape\":\"linear\"},\"y\":[0.00045279637948431874,0.0005172548843439674,0.0016635141117062604,0.004779359160850095,0.008535979822317361,0.01463687574764495,0.02236954350687503,0.03320634751084899,0.040654193883506856,0.04934684410243188,0.05938587999843854,0.07085602636157629,0.08275168522000596,0.09594150167145825,0.1104245880896179,0.12616958523138108,0.163830040139458,0.20571032310635518,0.2567856476006645,0.30642126358070687,0.3266950498945385,0.3452256205982121,0.36157658107824536,0.37534823572672477,0.38502686503833405,0.39226269403731073,0.3969102361639889,0.3988750862378772,0.3979147990819599,0.3937422942284996,0.3864584777724775,0.37623778226095467,0.3632369690436703,0.3478118524082642,0.33031280391985435,0.3111237298822949,0.26471023170980135,0.21633964421866178,0.1720017911042186,0.13185972425937212,0.11320287713237802,0.09623378740610392,0.08100699155400093,0.06752152471816633,0.048601214989126056,0.03402000140897644,0.021192154157779607,0.012663498233631075,0.007514033085259529,0.004297657101446053,0.001626422920737797,0.0005601050793793009,0.00047139402935018497],\"type\":\"scatter\",\"name\":\"Standard normal distribution\",\"yaxis\":\"y\",\"x\":[-3.6826972435271172,-3.6463780015985483,-3.31055416696218,-2.974730332325811,-2.772914205529732,-2.571098078733653,-2.400465112002723,-2.2298321452717933,-2.13715453093097,-2.044476916590147,-1.9517993022493236,-1.8591216879085006,-1.7736811249664992,-1.688240562024498,-1.6027999990824968,-1.5173594361404954,-1.3341568093283183,-1.1509541825161411,-0.9386959730701322,-0.7264377636241233,-0.632122739858629,-0.5378077160931347,-0.44349269232764044,-0.3491776685621462,-0.26647189196534554,-0.18376611536854487,-0.1010603387717442,-0.01835456217494353,0.07181693488643287,0.16198843194780926,0.25215992900918566,0.34233142607056205,0.4330388370937691,0.5237462481169761,0.6144536591401831,0.7051610701633901,0.9057383543900093,1.1063156386166284,1.2971598634105286,1.488004088204429,1.5872209449018801,1.6864378015993313,1.7856546582967825,1.8848715149942337,2.051910434403631,2.2189493538130285,2.4228849413439932,2.626820528874958,2.818525996149993,3.010231463425028,3.317358488200199,3.62448551297537,3.6717509992155417]}],\n",
       "               {\"showlegend\":true,\"xaxis\":{\"showticklabels\":true,\"gridwidth\":0.5,\"tickvals\":[-3.0,-2.0,-1.0,0.0,1.0,2.0,3.0],\"visible\":true,\"ticks\":\"inside\",\"range\":[-3.6826972435271172,3.6717509992155417],\"domain\":[0.0658209390492855,0.9934383202099738],\"tickmode\":\"array\",\"linecolor\":\"rgba(0, 0, 0, 1.000)\",\"showgrid\":true,\"title\":\"\",\"mirror\":false,\"tickangle\":0,\"showline\":true,\"gridcolor\":\"rgba(0, 0, 0, 0.100)\",\"titlefont\":{\"color\":\"rgba(0, 0, 0, 1.000)\",\"family\":\"sans-serif\",\"size\":15},\"tickcolor\":\"rgb(0, 0, 0)\",\"ticktext\":[\"-3\",\"-2\",\"-1\",\"0\",\"1\",\"2\",\"3\"],\"zeroline\":false,\"type\":\"-\",\"tickfont\":{\"color\":\"rgba(0, 0, 0, 1.000)\",\"family\":\"sans-serif\",\"size\":11},\"zerolinecolor\":\"rgba(0, 0, 0, 1.000)\",\"anchor\":\"y\"},\"paper_bgcolor\":\"rgba(255, 255, 255, 1.000)\",\"annotations\":[{\"yanchor\":\"top\",\"xanchor\":\"center\",\"rotation\":-0.0,\"y\":1.0,\"font\":{\"color\":\"rgba(0, 0, 0, 1.000)\",\"family\":\"sans-serif\",\"size\":20},\"yref\":\"paper\",\"showarrow\":false,\"text\":\"Density\",\"xref\":\"paper\",\"x\":0.5296296296296296}],\"height\":400,\"margin\":{\"l\":0,\"b\":20,\"r\":0,\"t\":20},\"plot_bgcolor\":\"rgba(255, 255, 255, 1.000)\",\"yaxis\":{\"showticklabels\":true,\"gridwidth\":0.5,\"tickvals\":[0.05,0.1,0.15000000000000002,0.2,0.25,0.30000000000000004,0.35000000000000003],\"visible\":true,\"ticks\":\"inside\",\"range\":[0.00045279637948431874,0.3988750862378772],\"domain\":[0.03762029746281716,0.9415463692038496],\"tickmode\":\"array\",\"linecolor\":\"rgba(0, 0, 0, 1.000)\",\"showgrid\":true,\"title\":\"\",\"mirror\":false,\"tickangle\":0,\"showline\":true,\"gridcolor\":\"rgba(0, 0, 0, 0.100)\",\"titlefont\":{\"color\":\"rgba(0, 0, 0, 1.000)\",\"family\":\"sans-serif\",\"size\":15},\"tickcolor\":\"rgb(0, 0, 0)\",\"ticktext\":[\"0.05\",\"0.10\",\"0.15\",\"0.20\",\"0.25\",\"0.30\",\"0.35\"],\"zeroline\":false,\"type\":\"-\",\"tickfont\":{\"color\":\"rgba(0, 0, 0, 1.000)\",\"family\":\"sans-serif\",\"size\":11},\"zerolinecolor\":\"rgba(0, 0, 0, 1.000)\",\"anchor\":\"x\"},\"legend\":{\"bordercolor\":\"rgba(0, 0, 0, 1.000)\",\"bgcolor\":\"rgba(255, 255, 255, 1.000)\",\"font\":{\"color\":\"rgba(0, 0, 0, 1.000)\",\"family\":\"sans-serif\",\"size\":11},\"y\":1.0,\"x\":1.0},\"width\":600}, {showLink: false});\n",
       "\n",
       "    });\n",
       " </script>\n"
      ]
     },
     "execution_count": 19,
     "metadata": {},
     "output_type": "execute_result"
    }
   ],
   "source": [
    "plot(Normal(0, 1), fill = (0.5, :blue), label = \"Standard normal distribution\",\n",
    "title = \"Density\")"
   ]
  },
  {
   "cell_type": "markdown",
   "metadata": {},
   "source": [
    "We can also fit some data to a distribution.  In the example below we use the `norm1` array and fit it to the standard normal distribution."
   ]
  },
  {
   "cell_type": "code",
   "execution_count": 20,
   "metadata": {},
   "outputs": [
    {
     "data": {
      "text/plain": [
       "Distributions.Normal{Float64}(μ=0.01980401905621741, σ=0.9919103248200316)"
      ]
     },
     "execution_count": 20,
     "metadata": {},
     "output_type": "execute_result"
    }
   ],
   "source": [
    "fit(Normal, norm1)"
   ]
  },
  {
   "cell_type": "markdown",
   "metadata": {
    "collapsed": true
   },
   "source": [
    "We can plot other distributions as well.  Here is the $ {\\chi}^{2} $ distribution with different degrees of freedom."
   ]
  },
  {
   "cell_type": "code",
   "execution_count": 23,
   "metadata": {},
   "outputs": [
    {
     "ename": "LoadError",
     "evalue": "\u001b[91mArgumentError: Module Plotly not found in current path.\nRun `Pkg.add(\"Plotly\")` to install the Plotly package.\u001b[39m",
     "output_type": "error",
     "traceback": [
      "\u001b[91mArgumentError: Module Plotly not found in current path.\nRun `Pkg.add(\"Plotly\")` to install the Plotly package.\u001b[39m",
      "",
      "Stacktrace:",
      " [1] \u001b[1m_require\u001b[22m\u001b[22m\u001b[1m(\u001b[22m\u001b[22m::Symbol\u001b[1m)\u001b[22m\u001b[22m at \u001b[1m./loading.jl:435\u001b[22m\u001b[22m",
      " [2] \u001b[1mrequire\u001b[22m\u001b[22m\u001b[1m(\u001b[22m\u001b[22m::Symbol\u001b[1m)\u001b[22m\u001b[22m at \u001b[1m./loading.jl:405\u001b[22m\u001b[22m",
      " [3] \u001b[1minclude_string\u001b[22m\u001b[22m\u001b[1m(\u001b[22m\u001b[22m::String, ::String\u001b[1m)\u001b[22m\u001b[22m at \u001b[1m./loading.jl:522\u001b[22m\u001b[22m"
     ]
    }
   ],
   "source": [
    "using Plotly"
   ]
  },
  {
   "cell_type": "code",
   "execution_count": 22,
   "metadata": {},
   "outputs": [
    {
     "data": {
      "text/html": [
       "<div id=\"d0756eb3-2bcc-49ad-ab1d-7221eaea54df\" class=\"plotly-graph-div\"></div>\n",
       "\n",
       "<script>\n",
       "    window.PLOTLYENV=window.PLOTLYENV || {};\n",
       "    window.PLOTLYENV.BASE_URL=\"https://plot.ly\";\n",
       "    require(['plotly'], function(Plotly) {\n",
       "        Plotly.newPlot('d0756eb3-2bcc-49ad-ab1d-7221eaea54df', [{\"showlegend\":true,\"mode\":\"lines\",\"xaxis\":\"x\",\"colorbar\":{\"title\":\"\"},\"line\":{\"color\":\"rgba(0, 154, 250, 1.000)\",\"width\":1,\"dash\":\"solid\",\"shape\":\"linear\"},\"y\":[0.04499097278867118,0.06321830057777347,0.07692914085319272,0.08825974863587392,0.09804379843229243,0.10671198220870241,0.11452202472122057,0.1216430852861188,0.1342602046030015,0.1451920372568883,0.1501503289153677,0.15481786186017127,0.15922274710783602,0.16338865966552807,0.18005551001518608,0.19337240763243793,0.2041624266054525,0.21295686949493597,0.22012579797990386,0.2259411974618534,0.2306110993156816,0.2342995642852437,0.2392389879710035,0.24157111358886804,0.24187644880491568,0.24058821542206033,0.2380397297513768,0.2344932741553016,0.2301587500944273,0.22520630489039611,0.21398030397478426,0.2016638937507022,0.18623239473183456,0.17075160905748005,0.155664663526585,0.14125012862538244,0.11883244362088778,0.09913200463891025,0.08081061711921998,0.06547054618201435,0.05368253493667979,0.04386085424746626,0.035199880794570794,0.02816566970593092,0.021685414842468057,0.016647387668529426,0.010343177721677648,0.006778451399086975,0.004256623484719897,0.0026550017791642268,0.0015693293660276465,0.0009485111477029927,0.0005603201969616189,0.0003590427315946245,0.00020808214637538765,0.00012436824346822925,5.434560034935063e-5],\"type\":\"scatter\",\"name\":\"3 degrees of freedom\",\"yaxis\":\"y\",\"x\":[0.012883259779266486,0.02576651955853297,0.03864977933779946,0.05153303911706594,0.06441629889633244,0.07729955867559891,0.0901828184548654,0.10306607823413189,0.12883259779266487,0.15459911735119783,0.16748237713046432,0.1803656369097308,0.19324889668899728,0.20613215646826377,0.2656943261605574,0.325256495852851,0.38481866554514454,0.44438083523743815,0.5039430049297318,0.5635051746220253,0.6230673443143189,0.6826295140066125,0.8017538533911998,0.920878192775787,1.0400025321603743,1.1591268715449614,1.2782512109295485,1.3973755503141359,1.516499889698723,1.63562422908331,1.8738729078524845,2.112121586621659,2.3984766371233115,2.684831687624964,2.9711867381266166,3.257541788628269,3.7417608902549038,4.225979991881538,4.75197765829706,5.277975324712581,5.762898647829726,6.2478219709468705,6.767711023280578,7.287600075614284,7.8899425271342,8.492284978654116,9.562866753151134,10.501670493372965,11.525218571705096,12.554849877261566,13.693238949850064,14.776387427553736,15.902610528205011,16.85065048839215,18.008099823955327,19.096136337874825,20.839255207236164]},{\"showlegend\":true,\"mode\":\"lines\",\"xaxis\":\"x\",\"colorbar\":{\"title\":\"\"},\"line\":{\"color\":\"rgba(227, 111, 71, 1.000)\",\"width\":1,\"dash\":\"solid\",\"shape\":\"linear\"},\"y\":[0.00203071121921122,0.005566015431870757,0.009909061847304257,0.01478399777002723,0.040467373971612125,0.06662671587052188,0.07886454192782275,0.09027611700757315,0.10075591920791421,0.1102465028537481,0.11872496954149521,0.12619345895029727,0.13267225028377647,0.13819464363537842,0.1428031012592205,0.14654630712698555,0.14947691134098104,0.15164979464344944,0.15333753234779554,0.15410767848023893,0.15405454560288767,0.15326896424394906,0.15183736135609488,0.14984116217485433,0.14735643793282643,0.14445373987853896,0.1387737004346357,0.1323610645846849,0.1254527593260578,0.11824690090625618,0.10230511928361162,0.08689083737390613,0.07375650235034939,0.061943779709653195,0.050859548965578136,0.04138964053172844,0.03229182034578875,0.02497385112414394,0.01974836824254759,0.01553397030434693,0.012536487160473318,0.010084201868122812,0.006210640978822116,0.0037685779646503786,0.0021439372370033512,0.0012414478445627512,0.0006974185419773737,0.00042670058979003947,0.00023272575313423592,0.00013088489813958083,5.153731040990713e-5],\"type\":\"scatter\",\"name\":\"5 degrees of feedom\",\"yaxis\":\"y\",\"x\":[0.0628548424017499,0.1257096848034998,0.18856452720524972,0.2514193696069996,0.5420112580932033,0.8326031465794068,0.9778990908225086,1.1231950350656104,1.2684909793087122,1.413786923551814,1.5590828677949156,1.7043788120380174,1.8496747562811193,1.9949707005242212,2.140266644767323,2.285562589010425,2.4308585332535264,2.5761544774966283,2.75078809001596,2.9254217025352913,3.100055315054623,3.274688927573955,3.4493225400932865,3.6239561526126183,3.7985897651319496,3.9732233776512813,4.268524371364457,4.563825365077633,4.8591263587908085,5.154427352503983,5.795986651017914,6.437545949531846,7.0290068758362505,7.620467802140656,8.25457642470021,8.888685047259763,9.623362072151743,10.358039097043722,11.010933336032155,11.663827575020587,12.236356986722555,12.808886398424521,14.057307882126121,15.313149077434703,16.70164210977613,18.022758194335047,19.396412391981684,20.5527366319078,21.964477464998712,23.29155548681699,25.417637388804792]},{\"showlegend\":true,\"mode\":\"lines\",\"xaxis\":\"x\",\"colorbar\":{\"title\":\"\"},\"line\":{\"color\":\"rgba(62, 164, 78, 1.000)\",\"width\":1,\"dash\":\"solid\",\"shape\":\"linear\"},\"y\":[7.086342565621064e-8,1.085644608786475e-6,5.2625746649441e-6,1.592570883589822e-5,0.0002814289568247655,0.0012820927829459616,0.0022067812731393346,0.0034739189119414567,0.0051116883241692085,0.007134549101037929,0.009543844237871189,0.012328973200137181,0.015468910841484036,0.01893390534045444,0.026686910686201,0.03524075032172974,0.04604075542923837,0.056793641522664966,0.06692405280118548,0.07597197373331648,0.08252996747874454,0.0879499941529498,0.09021052107213669,0.0921661924571796,0.09381696621595734,0.0951655361230924,0.0962940605766675,0.09708151118490344,0.0975398745661859,0.09768327454184297,0.0970900229270564,0.09544315077227736,0.09312354021253963,0.09016124109871808,0.08667673347153655,0.08278490354387678,0.07355148576003744,0.06381900265988541,0.05278707491452186,0.04265312237247687,0.0346968265040514,0.027829804882143268,0.022699370381862503,0.018353132944959775,0.014425339592401734,0.011240529288410342,0.008676505315746888,0.006648503767425836,0.0036057781070566986,0.001963155445456715,0.0010197715839694655,0.0005784096761087218,0.000284553056096428,0.00014387743706906762,4.6987545441641624e-5],\"type\":\"scatter\",\"name\":\"10 degrees of freedom\",\"yaxis\":\"y\",\"x\":[0.08682793094358222,0.17365586188716445,0.2604837928307467,0.3473117237743289,0.7487365219620781,1.1501613201498273,1.350873719243702,1.5515861183375765,1.7522985174314512,1.9530109165253255,2.1537233156192,2.3544357147130746,2.555148113806949,2.755860512900824,3.157285311088573,3.5587101092763223,4.041189252294098,4.523668395311874,5.00614753832965,5.488626681347425,5.896556656349398,6.304486631351372,6.508451618852359,6.7124166063533455,6.916381593854332,7.120346581355319,7.341909727244417,7.563472873133515,7.785036019022613,8.00659916491171,8.449725456689906,8.892851748468102,9.3013749942726,9.709898240077097,10.118421485881594,10.526944731686092,11.402904921649085,12.278865111612081,13.293750895199398,14.308636678786716,15.2105473944959,16.112458110205086,16.903352531746812,17.694246953288534,18.556534171212647,19.41882138913676,20.286233416720837,21.153645444304914,23.071715278243918,24.896710326761355,26.79428173504323,28.391632669613386,30.34181710858416,32.17504800110128,35.112026052629375]}],\n",
       "               {\"showlegend\":true,\"xaxis\":{\"showticklabels\":true,\"gridwidth\":0.5,\"tickvals\":[5.0,10.0,15.0,20.0,25.0,30.0,35.0],\"visible\":true,\"ticks\":\"inside\",\"range\":[0.012883259779266486,35.112026052629375],\"domain\":[0.0658209390492855,0.9934383202099738],\"tickmode\":\"array\",\"linecolor\":\"rgba(0, 0, 0, 1.000)\",\"showgrid\":true,\"title\":\"\",\"mirror\":false,\"tickangle\":0,\"showline\":true,\"gridcolor\":\"rgba(0, 0, 0, 0.100)\",\"titlefont\":{\"color\":\"rgba(0, 0, 0, 1.000)\",\"family\":\"sans-serif\",\"size\":15},\"tickcolor\":\"rgb(0, 0, 0)\",\"ticktext\":[\"5\",\"10\",\"15\",\"20\",\"25\",\"30\",\"35\"],\"zeroline\":false,\"type\":\"-\",\"tickfont\":{\"color\":\"rgba(0, 0, 0, 1.000)\",\"family\":\"sans-serif\",\"size\":11},\"zerolinecolor\":\"rgba(0, 0, 0, 1.000)\",\"anchor\":\"y\"},\"paper_bgcolor\":\"rgba(255, 255, 255, 1.000)\",\"annotations\":[],\"height\":400,\"margin\":{\"l\":0,\"b\":20,\"r\":0,\"t\":20},\"plot_bgcolor\":\"rgba(255, 255, 255, 1.000)\",\"yaxis\":{\"showticklabels\":true,\"gridwidth\":0.5,\"tickvals\":[0.05,0.1,0.15000000000000002,0.2],\"visible\":true,\"ticks\":\"inside\",\"range\":[7.086342565621064e-8,0.24187644880491568],\"domain\":[0.03762029746281716,0.9901574803149606],\"tickmode\":\"array\",\"linecolor\":\"rgba(0, 0, 0, 1.000)\",\"showgrid\":true,\"title\":\"\",\"mirror\":false,\"tickangle\":0,\"showline\":true,\"gridcolor\":\"rgba(0, 0, 0, 0.100)\",\"titlefont\":{\"color\":\"rgba(0, 0, 0, 1.000)\",\"family\":\"sans-serif\",\"size\":15},\"tickcolor\":\"rgb(0, 0, 0)\",\"ticktext\":[\"0.05\",\"0.10\",\"0.15\",\"0.20\"],\"zeroline\":false,\"type\":\"-\",\"tickfont\":{\"color\":\"rgba(0, 0, 0, 1.000)\",\"family\":\"sans-serif\",\"size\":11},\"zerolinecolor\":\"rgba(0, 0, 0, 1.000)\",\"anchor\":\"x\"},\"legend\":{\"bordercolor\":\"rgba(0, 0, 0, 1.000)\",\"bgcolor\":\"rgba(255, 255, 255, 1.000)\",\"font\":{\"color\":\"rgba(0, 0, 0, 1.000)\",\"family\":\"sans-serif\",\"size\":11},\"y\":1.0,\"x\":1.0},\"width\":600}, {showLink: false});\n",
       "\n",
       "    });\n",
       " </script>\n"
      ]
     },
     "execution_count": 22,
     "metadata": {},
     "output_type": "execute_result"
    }
   ],
   "source": [
    "plot(Chisq(3), fill = (0.25, :blue), label = \"3 degrees of freedom\")\n",
    "plot!(Chisq(5), fill = (0.25, :orange), label = \"5 degrees of feedom\")\n",
    "plot!(Chisq(10), fill = (0.25, :deepskyblue), label = \"10 degrees of freedom\")"
   ]
  },
  {
   "cell_type": "markdown",
   "metadata": {},
   "source": [
    "The exponential distribution with scale parameter $ \\theta $."
   ]
  },
  {
   "cell_type": "code",
   "execution_count": 25,
   "metadata": {},
   "outputs": [
    {
     "data": {
      "text/html": [
       "<div id=\"bafd8c4d-c645-428a-ba83-dcdf3c4021bf\" class=\"plotly-graph-div\"></div>\n",
       "\n",
       "<script>\n",
       "    window.PLOTLYENV=window.PLOTLYENV || {};\n",
       "    window.PLOTLYENV.BASE_URL=\"https://plot.ly\";\n",
       "    require(['plotly'], function(Plotly) {\n",
       "        Plotly.newPlot('bafd8c4d-c645-428a-ba83-dcdf3c4021bf', [{\"showlegend\":true,\"mode\":\"lines\",\"xaxis\":\"x\",\"colorbar\":{\"title\":\"\"},\"line\":{\"color\":\"rgba(0, 154, 250, 1.000)\",\"width\":1,\"dash\":\"solid\",\"shape\":\"linear\"},\"y\":[0.48888215525163414,0.47801152344696585,0.46738260763573947,0.4569900330961784,0.41186717334890866,0.3711997115847789,0.3345477250839227,0.30151472877226587,0.27174338622032956,0.2449116441348573,0.2207292485278954,0.198934604876776,0.17556758752146118,0.15494527866179392,0.1367452826487478,0.1206830726833676,0.09769761105601377,0.07908999161046056,0.06286976352751676,0.04997607264233291,0.04044513181816482,0.032731837483425896,0.020793434022303856,0.012292245545490393,0.007704590837654301,0.005114941348771983,0.0032724436558935243,0.00208809805730963,0.001270630728156395,0.0007920566440888561,0.000484540664193761,0.00032038412571527863,0.00019334254028354912,0.00012026465113784584,5.620908921763023e-5],\"type\":\"scatter\",\"name\":\"Scale parameter 2\",\"yaxis\":\"y\",\"x\":[0.04497325859168429,0.08994651718336857,0.13491977577505287,0.17989303436673715,0.38781439167447695,0.5957357489822168,0.8036571062899567,1.0115784635976965,1.2194998209054364,1.4274211782131763,1.6353425355209161,1.843263892828656,2.093168031142532,2.3430721694564083,2.592976307770284,2.8428804460841604,3.265461983008808,3.688043519933455,4.147085514654347,4.60612750937524,5.029323625524034,5.4525197416728295,6.359941667108874,7.411278956625852,8.34558346908869,9.164884331200168,10.058142194437817,10.956708934382906,11.950189369782173,12.895460935666293,13.878324038741942,14.705685417291546,15.715799883019168,16.66533727371212,18.18656980746095]},{\"showlegend\":true,\"mode\":\"lines\",\"xaxis\":\"x\",\"colorbar\":{\"title\":\"\"},\"line\":{\"color\":\"rgba(227, 111, 71, 1.000)\",\"width\":1,\"dash\":\"solid\",\"shape\":\"linear\"},\"y\":[0.24444107762581707,0.23900576172348292,0.23369130381786973,0.2284950165480892,0.20593358667445433,0.18559985579238944,0.16727386254196136,0.15075736438613294,0.13587169311016478,0.12245582206742865,0.1103646242639477,0.099467302438388,0.08778379376073059,0.07747263933089696,0.0683726413243739,0.0603415363416838,0.04884880552800688,0.03954499580523028,0.03143488176375838,0.024988036321166456,0.02022256590908241,0.016365918741712948,0.010396717011151928,0.006146122772745196,0.0038522954188271504,0.0025574706743859916,0.0016362218279467621,0.001044049028654815,0.0006353153640781975,0.00039602832204442805,0.0002422703320968805,0.00016019206285763931,9.667127014177456e-5,6.013232556892292e-5,2.8104544608815114e-5],\"type\":\"scatter\",\"name\":\"Scale parameter 4\",\"yaxis\":\"y\",\"x\":[0.08994651718336857,0.17989303436673715,0.26983955155010575,0.3597860687334743,0.7756287833489539,1.1914714979644336,1.6073142125799134,2.023156927195393,2.438999641810873,2.8548423564263525,3.2706850710418323,3.686527785657312,4.186336062285064,4.686144338912817,5.185952615540568,5.685760892168321,6.530923966017616,7.37608703986691,8.294171029308695,9.21225501875048,10.058647251048068,10.905039483345659,12.719883334217748,14.822557913251703,16.69116693817738,18.329768662400337,20.116284388875634,21.913417868765812,23.900378739564346,25.790921871332586,27.756648077483884,29.411370834583092,31.431599766038335,33.33067454742424,36.3731396149219]},{\"showlegend\":true,\"mode\":\"lines\",\"xaxis\":\"x\",\"colorbar\":{\"title\":\"\"},\"line\":{\"color\":\"rgba(62, 164, 78, 1.000)\",\"width\":1,\"dash\":\"solid\",\"shape\":\"linear\"},\"y\":[0.16296071841721138,0.15933717448232193,0.15579420254524648,0.15233001103205945,0.13728905778296954,0.1237332371949263,0.11151590836130756,0.10050490959075528,0.09058112874010985,0.08163721471161908,0.07357641617596514,0.06631153495892533,0.05852252917382037,0.05164842622059797,0.04558176088291592,0.04022769089445585,0.03256587035200459,0.02636333053682018,0.020956587842505585,0.016658690880777635,0.01348171060605494,0.010910612494475303,0.006931144674101285,0.004097415181830131,0.002568196945884769,0.001704980449590661,0.001090814551964508,0.0006960326857698774,0.0004235435760521313,0.0002640188813629525,0.00016151355473125394,0.00010679470857175943,6.44475134278497e-5,4.0088217045948685e-5,1.8736363072543443e-5],\"type\":\"scatter\",\"name\":\"Scale parameter 6\",\"yaxis\":\"y\",\"x\":[0.13491977577505287,0.26983955155010575,0.4047593273251586,0.5396791031002115,1.163443175023431,1.7872072469466507,2.41097131886987,3.03473539079309,3.6584994627163097,4.2822635346395295,4.906027606562748,5.529791678485968,6.279504093427597,7.029216508369226,7.778928923310854,8.528641338252482,9.796385949026424,11.064130559800367,12.441256543963043,13.81838252812572,15.087970876572104,16.357559225018488,19.079825001326622,22.233836869877557,25.036750407266066,27.494652993600507,30.174426583313455,32.870126803148715,35.850568109346526,38.68638280699887,41.63497211622582,44.117056251874644,47.147399649057505,49.99601182113635,54.55970942238284]}],\n",
       "               {\"showlegend\":true,\"xaxis\":{\"showticklabels\":true,\"gridwidth\":0.5,\"tickvals\":[10.0,20.0,30.0,40.0,50.0],\"visible\":true,\"ticks\":\"inside\",\"range\":[0.04497325859168429,54.55970942238284],\"domain\":[0.05100612423447069,0.9934383202099737],\"tickmode\":\"array\",\"linecolor\":\"rgba(0, 0, 0, 1.000)\",\"showgrid\":true,\"title\":\"\",\"mirror\":false,\"tickangle\":0,\"showline\":true,\"gridcolor\":\"rgba(0, 0, 0, 0.100)\",\"titlefont\":{\"color\":\"rgba(0, 0, 0, 1.000)\",\"family\":\"sans-serif\",\"size\":15},\"tickcolor\":\"rgb(0, 0, 0)\",\"ticktext\":[\"10\",\"20\",\"30\",\"40\",\"50\"],\"zeroline\":false,\"type\":\"-\",\"tickfont\":{\"color\":\"rgba(0, 0, 0, 1.000)\",\"family\":\"sans-serif\",\"size\":11},\"zerolinecolor\":\"rgba(0, 0, 0, 1.000)\",\"anchor\":\"y\"},\"paper_bgcolor\":\"rgba(255, 255, 255, 1.000)\",\"annotations\":[],\"height\":400,\"margin\":{\"l\":0,\"b\":20,\"r\":0,\"t\":20},\"plot_bgcolor\":\"rgba(255, 255, 255, 1.000)\",\"yaxis\":{\"showticklabels\":true,\"gridwidth\":0.5,\"tickvals\":[0.1,0.2,0.30000000000000004,0.4],\"visible\":true,\"ticks\":\"inside\",\"range\":[1.8736363072543443e-5,0.48888215525163414],\"domain\":[0.03762029746281716,0.9901574803149606],\"tickmode\":\"array\",\"linecolor\":\"rgba(0, 0, 0, 1.000)\",\"showgrid\":true,\"title\":\"\",\"mirror\":false,\"tickangle\":0,\"showline\":true,\"gridcolor\":\"rgba(0, 0, 0, 0.100)\",\"titlefont\":{\"color\":\"rgba(0, 0, 0, 1.000)\",\"family\":\"sans-serif\",\"size\":15},\"tickcolor\":\"rgb(0, 0, 0)\",\"ticktext\":[\"0.1\",\"0.2\",\"0.3\",\"0.4\"],\"zeroline\":false,\"type\":\"-\",\"tickfont\":{\"color\":\"rgba(0, 0, 0, 1.000)\",\"family\":\"sans-serif\",\"size\":11},\"zerolinecolor\":\"rgba(0, 0, 0, 1.000)\",\"anchor\":\"x\"},\"legend\":{\"bordercolor\":\"rgba(0, 0, 0, 1.000)\",\"bgcolor\":\"rgba(255, 255, 255, 1.000)\",\"font\":{\"color\":\"rgba(0, 0, 0, 1.000)\",\"family\":\"sans-serif\",\"size\":11},\"y\":1.0,\"x\":1.0},\"width\":600}, {showLink: false});\n",
       "\n",
       "    });\n",
       " </script>\n"
      ]
     },
     "execution_count": 25,
     "metadata": {},
     "output_type": "execute_result"
    }
   ],
   "source": [
    "plot(Exponential(2), fill = (0.25, :blue), label = \"Scale parameter 2\")\n",
    "plot!(Exponential(4), fill = (0.25, :orange), label = \"Scale parameter 4\")\n",
    "plot!(Exponential(6), fill = (0.25, :deepskyblue), label = \"Scale parameter 6\")"
   ]
  },
  {
   "cell_type": "markdown",
   "metadata": {},
   "source": [
    "[Back to the top](#In-this-lesson)"
   ]
  },
  {
   "cell_type": "markdown",
   "metadata": {},
   "source": [
    "<hr>\n",
    "<h2>Comparing samples</h2>"
   ]
  },
  {
   "cell_type": "markdown",
   "metadata": {},
   "source": [
    "The reason for the detour to a quick peek into the distributions package, is that we want to create arrays of data point values or elements that are picked at random, each drawn from a specific distribution."
   ]
  },
  {
   "cell_type": "markdown",
   "metadata": {},
   "source": [
    "So, imagine that we compare the results of two sets of experiments or observed outcomes.  These can take on many, many form.  We have seen data from an Ebola epidemic, but we can consider a lot more.  Let's keep it simple and consider the examination results of a particular course.  Imagine that we have the results of two consecutive years.  Our aim is to learn how to use Julia.  So, we don't need actual results.  We can simply simulate some results.  You can well imagine that these values can be stored as arrays!"
   ]
  },
  {
   "cell_type": "markdown",
   "metadata": {},
   "source": [
    "If $ 100 $ students take the examination each year, we can use the `rand()` function to generate random values.  As argument, though, we pass a specific distribution.  We'll use the normal distribution with a mean and a standard deviation."
   ]
  },
  {
   "cell_type": "code",
   "execution_count": 27,
   "metadata": {},
   "outputs": [],
   "source": [
    "year1 = rand(Normal(67, 10), 100)\n",
    "year2 = rand(Normal(71, 15), 100);"
   ]
  },
  {
   "cell_type": "markdown",
   "metadata": {},
   "source": [
    "Our aim will be to compare these.  The average scored for each year differs.  Are they statistically different, though?  This is not a course in statistics, but using Julia, we'll see how easy it is to tell us if there is such a difference."
   ]
  },
  {
   "cell_type": "markdown",
   "metadata": {},
   "source": [
    "For now, let's plot the examination results as theoretical distributions."
   ]
  },
  {
   "cell_type": "code",
   "execution_count": 28,
   "metadata": {},
   "outputs": [
    {
     "data": {
      "text/html": [
       "<div id=\"24e057a7-f257-4b71-a450-7e1a08f29c6e\" class=\"plotly-graph-div\"></div>\n",
       "\n",
       "<script>\n",
       "    window.PLOTLYENV=window.PLOTLYENV || {};\n",
       "    window.PLOTLYENV.BASE_URL=\"https://plot.ly\";\n",
       "    require(['plotly'], function(Plotly) {\n",
       "        Plotly.newPlot('24e057a7-f257-4b71-a450-7e1a08f29c6e', [{\"showlegend\":true,\"mode\":\"lines\",\"xaxis\":\"x\",\"colorbar\":{\"title\":\"\"},\"line\":{\"color\":\"rgba(0, 154, 250, 1.000)\",\"width\":1,\"dash\":\"solid\",\"shape\":\"linear\"},\"y\":[4.527963794843187e-5,5.172548843439674e-5,0.00016635141117062605,0.00047793591608500947,0.0008535979822317369,0.001463687574764495,0.002236954350687503,0.003320634751084894,0.004065419388350686,0.004934684410243188,0.005938587999843854,0.007085602636157628,0.008275168522000591,0.009594150167145824,0.011042458808961795,0.0126169585231381,0.01638300401394579,0.020571032310635513,0.02567856476006646,0.030642126358070683,0.03266950498945385,0.034522562059821196,0.03615765810782453,0.037534823572672474,0.03850268650383339,0.03922626940373107,0.03969102361639888,0.03988750862378772,0.039791479908195995,0.039374229422849974,0.03864584777724776,0.03762377822609548,0.03632369690436705,0.03478118524082643,0.03303128039198543,0.03111237298822948,0.02647102317098012,0.02163396442186618,0.01720017911042188,0.013185972425937224,0.01132028771323781,0.009623378740610396,0.008100699155400095,0.0067521524718166335,0.004860121498912609,0.0034020001408976487,0.0021192154157779674,0.0012663498233631103,0.0007514033085259539,0.00042976571014460526,0.0001626422920737797,5.601050793793034e-5,4.7139402935018586e-5],\"type\":\"scatter\",\"name\":\"Year 1\",\"yaxis\":\"y\",\"x\":[30.173027564728827,30.536219984014515,33.8944583303782,37.25269667674189,39.27085794470268,41.28901921266347,42.99534887997277,44.701678547282064,45.6284546906903,46.55523083409853,47.482006977506764,48.408783120915,49.263188750335004,50.11759437975502,50.972000009175034,51.82640563859504,53.658431906716814,55.49045817483859,57.61304026929868,59.735622363758765,60.678772601413705,61.621922839068645,62.56507307672359,63.50822331437853,64.33528108034653,65.16233884631454,65.98939661228255,66.81645437825055,67.71816934886431,68.61988431947807,69.52159929009184,70.42331426070561,71.33038837093768,72.23746248116976,73.14453659140183,74.0516107016339,76.0573835439001,78.06315638616628,79.97159863410528,81.88004088204428,82.8722094490188,83.86437801599331,84.85654658296782,85.84871514994234,87.51910434403631,89.18949353813028,91.22884941343992,93.26820528874957,95.18525996149992,97.10231463425028,100.17358488200199,103.24485512975369,103.71750999215541]},{\"showlegend\":true,\"mode\":\"lines\",\"xaxis\":\"x\",\"colorbar\":{\"title\":\"\"},\"line\":{\"color\":\"rgba(227, 111, 71, 1.000)\",\"width\":1,\"dash\":\"solid\",\"shape\":\"linear\"},\"y\":[3.0186425298954534e-5,3.448365895626443e-5,0.00011090094078041735,0.00031862394405667244,0.0005690653214878241,0.0009757917165096633,0.0014913029004583354,0.002213756500723263,0.002710279592233788,0.0032897896068287895,0.003959058666562568,0.004723735090771753,0.005516779014667067,0.00639610011143055,0.00736163920597453,0.008411305682092076,0.01092200267596387,0.013714021540423673,0.017119043173377632,0.020428084238713798,0.02177966999296923,0.023015041373214133,0.024105105405216355,0.025023215715114976,0.025668457669222263,0.026150846269154048,0.026460682410932593,0.02659167241585848,0.02652765327213066,0.026249486281899978,0.02576389851816517,0.025082518817396978,0.02421579793624469,0.02318745682721762,0.022020853594656963,0.020741581992152987,0.017647348780653428,0.014422642947910791,0.011466786073614572,0.008790648283958149,0.007546858475491868,0.006415585827073597,0.005400466103600067,0.004501434981211088,0.0032400809992750705,0.0022680000939317604,0.0014128102771853053,0.0008442332155754039,0.0005009355390173026,0.0002865104734297374,0.00010842819471585313,3.734033862528666e-5,3.1426268623345614e-5],\"type\":\"scatter\",\"name\":\"Year 2\",\"yaxis\":\"y\",\"x\":[15.759541347093236,16.30432997602177,21.3416874955673,26.37904501511283,29.406286917054018,32.43352881899521,34.99302331995915,37.55251782092309,38.94268203603544,40.33284625114779,41.72301046626014,43.11317468137249,44.394783125502514,45.67639156963253,46.95800001376255,48.23960845789257,50.98764786007523,53.735687262257876,56.91956040394801,60.103433545638154,61.51815890212056,62.932884258602975,64.34760961508539,65.7623349715678,67.0029216205198,68.24350826947182,69.48409491842384,70.72468156737584,72.07725402329649,73.42982647921713,74.78239893513778,76.13497139105843,77.49558255640653,78.85619372175464,80.21680488710274,81.57741605245086,84.58607531585014,87.59473457924942,90.45739795115793,93.32006132306643,94.8083141735282,96.29656702398997,97.78481987445173,99.2730727249135,101.77865651605447,104.28424030719543,107.3432741201599,110.40230793312438,113.27788994224989,116.15347195137541,120.76037732300298,125.36728269463056,126.07626498823313]}],\n",
       "               {\"showlegend\":true,\"xaxis\":{\"showticklabels\":true,\"gridwidth\":0.5,\"tickvals\":[25.0,50.0,75.0,100.0,125.0],\"visible\":true,\"ticks\":\"inside\",\"range\":[15.759541347093236,126.07626498823313],\"domain\":[0.08063575386410031,0.9934383202099737],\"tickmode\":\"array\",\"linecolor\":\"rgba(0, 0, 0, 1.000)\",\"showgrid\":true,\"title\":\"\",\"mirror\":false,\"tickangle\":0,\"showline\":true,\"gridcolor\":\"rgba(0, 0, 0, 0.100)\",\"titlefont\":{\"color\":\"rgba(0, 0, 0, 1.000)\",\"family\":\"sans-serif\",\"size\":15},\"tickcolor\":\"rgb(0, 0, 0)\",\"ticktext\":[\"25\",\"50\",\"75\",\"100\",\"125\"],\"zeroline\":false,\"type\":\"-\",\"tickfont\":{\"color\":\"rgba(0, 0, 0, 1.000)\",\"family\":\"sans-serif\",\"size\":11},\"zerolinecolor\":\"rgba(0, 0, 0, 1.000)\",\"anchor\":\"y\"},\"paper_bgcolor\":\"rgba(255, 255, 255, 1.000)\",\"annotations\":[{\"yanchor\":\"top\",\"xanchor\":\"center\",\"rotation\":-0.0,\"y\":1.0,\"font\":{\"color\":\"rgba(0, 0, 0, 1.000)\",\"family\":\"sans-serif\",\"size\":20},\"yref\":\"paper\",\"showarrow\":false,\"text\":\"Boxplot\",\"xref\":\"paper\",\"x\":0.5370370370370371}],\"height\":400,\"margin\":{\"l\":0,\"b\":20,\"r\":0,\"t\":20},\"plot_bgcolor\":\"rgba(255, 255, 255, 1.000)\",\"yaxis\":{\"showticklabels\":true,\"gridwidth\":0.5,\"tickvals\":[0.005,0.01,0.015,0.02,0.025,0.03,0.035],\"visible\":true,\"ticks\":\"inside\",\"range\":[3.0186425298954534e-5,0.03988750862378772],\"domain\":[0.03762029746281716,0.9415463692038496],\"tickmode\":\"array\",\"linecolor\":\"rgba(0, 0, 0, 1.000)\",\"showgrid\":true,\"title\":\"\",\"mirror\":false,\"tickangle\":0,\"showline\":true,\"gridcolor\":\"rgba(0, 0, 0, 0.100)\",\"titlefont\":{\"color\":\"rgba(0, 0, 0, 1.000)\",\"family\":\"sans-serif\",\"size\":15},\"tickcolor\":\"rgb(0, 0, 0)\",\"ticktext\":[\"0.005\",\"0.010\",\"0.015\",\"0.020\",\"0.025\",\"0.030\",\"0.035\"],\"zeroline\":false,\"type\":\"-\",\"tickfont\":{\"color\":\"rgba(0, 0, 0, 1.000)\",\"family\":\"sans-serif\",\"size\":11},\"zerolinecolor\":\"rgba(0, 0, 0, 1.000)\",\"anchor\":\"x\"},\"legend\":{\"bordercolor\":\"rgba(0, 0, 0, 1.000)\",\"bgcolor\":\"rgba(255, 255, 255, 1.000)\",\"font\":{\"color\":\"rgba(0, 0, 0, 1.000)\",\"family\":\"sans-serif\",\"size\":11},\"y\":1.0,\"x\":1.0},\"width\":600}, {showLink: false});\n",
       "\n",
       "    });\n",
       " </script>\n"
      ]
     },
     "execution_count": 28,
     "metadata": {},
     "output_type": "execute_result"
    }
   ],
   "source": [
    "plot(Normal(67, 10), fill = (0.5, :orange), label = \"Year 1\", title = \"Boxplot\")\n",
    "plot!(Normal(71, 15), fill = (0.5, :blue), label = \"Year 2\")"
   ]
  },
  {
   "cell_type": "markdown",
   "metadata": {},
   "source": [
    "We can get more statistical information from these two distributions."
   ]
  },
  {
   "cell_type": "code",
   "execution_count": 29,
   "metadata": {},
   "outputs": [
    {
     "data": {
      "text/plain": [
       "(-0.8185648398587564, -0.28466296980159483)"
      ]
     },
     "execution_count": 29,
     "metadata": {},
     "output_type": "execute_result"
    }
   ],
   "source": [
    "# Skewness\n",
    "skewness(year1), skewness(year2)"
   ]
  },
  {
   "cell_type": "code",
   "execution_count": 30,
   "metadata": {},
   "outputs": [
    {
     "data": {
      "text/plain": [
       "(1.7643303758202808, -0.20629026125205607)"
      ]
     },
     "execution_count": 30,
     "metadata": {},
     "output_type": "execute_result"
    }
   ],
   "source": [
    "# Kurtosis\n",
    "kurtosis(year1), kurtosis(year2)"
   ]
  },
  {
   "cell_type": "markdown",
   "metadata": {},
   "source": [
    "Now let's compare these two year by way of Student's *t*-test."
   ]
  },
  {
   "cell_type": "code",
   "execution_count": 31,
   "metadata": {},
   "outputs": [
    {
     "data": {
      "text/plain": [
       "Two sample t-test (equal variance)\n",
       "----------------------------------\n",
       "Population details:\n",
       "    parameter of interest:   Mean difference\n",
       "    value under h_0:         0\n",
       "    point estimate:          -5.690918876921884\n",
       "    95% confidence interval: (-9.268286525247973, -2.1135512285957967)\n",
       "\n",
       "Test summary:\n",
       "    outcome with 95% confidence: reject h_0\n",
       "    two-sided p-value:           0.0019664855406554974\n",
       "\n",
       "Details:\n",
       "    number of observations:   [100,100]\n",
       "    t-statistic:              -3.1371087887737232\n",
       "    degrees of freedom:       198\n",
       "    empirical standard error: 1.8140648795116951\n"
      ]
     },
     "execution_count": 31,
     "metadata": {},
     "output_type": "execute_result"
    }
   ],
   "source": [
    "EqualVarianceTTest(year1, year2)"
   ]
  },
  {
   "cell_type": "markdown",
   "metadata": {},
   "source": [
    "Imagine instead that these were the same students going on from year $ 1 $ to year $ 2 $.  We want to know if there is a correlation between the marks in the two years."
   ]
  },
  {
   "cell_type": "code",
   "execution_count": 32,
   "metadata": {},
   "outputs": [
    {
     "data": {
      "text/html": [
       "<table class=\"data-frame\"><thead><tr><th></th><th>One</th><th>Two</th></tr></thead><tbody><tr><th>1</th><td>70.9437</td><td>67.9957</td></tr><tr><th>2</th><td>77.0027</td><td>74.8557</td></tr><tr><th>3</th><td>70.3091</td><td>82.9193</td></tr><tr><th>4</th><td>75.9771</td><td>94.0625</td></tr><tr><th>5</th><td>76.5753</td><td>79.3504</td></tr><tr><th>6</th><td>71.3401</td><td>67.7431</td></tr><tr><th>7</th><td>77.3583</td><td>75.3611</td></tr><tr><th>8</th><td>67.7032</td><td>66.7304</td></tr><tr><th>9</th><td>69.7354</td><td>63.0585</td></tr><tr><th>10</th><td>73.9232</td><td>73.3484</td></tr><tr><th>11</th><td>59.6879</td><td>90.558</td></tr><tr><th>12</th><td>50.8474</td><td>88.6881</td></tr><tr><th>13</th><td>72.2014</td><td>57.1429</td></tr><tr><th>14</th><td>68.5276</td><td>78.4614</td></tr><tr><th>15</th><td>61.234</td><td>72.9232</td></tr><tr><th>16</th><td>60.8703</td><td>51.3508</td></tr><tr><th>17</th><td>41.4443</td><td>84.7514</td></tr><tr><th>18</th><td>57.532</td><td>64.5902</td></tr><tr><th>19</th><td>77.7217</td><td>77.7031</td></tr><tr><th>20</th><td>73.3834</td><td>78.6636</td></tr><tr><th>21</th><td>62.1111</td><td>68.7204</td></tr><tr><th>22</th><td>63.9108</td><td>80.2377</td></tr><tr><th>23</th><td>73.5005</td><td>62.4874</td></tr><tr><th>24</th><td>61.3236</td><td>72.312</td></tr><tr><th>25</th><td>46.0867</td><td>61.5119</td></tr><tr><th>26</th><td>49.639</td><td>37.0018</td></tr><tr><th>27</th><td>67.0325</td><td>87.3511</td></tr><tr><th>28</th><td>23.8352</td><td>94.9125</td></tr><tr><th>29</th><td>65.5612</td><td>83.9547</td></tr><tr><th>30</th><td>71.821</td><td>87.045</td></tr><tr><th>&vellip;</th><td>&vellip;</td><td>&vellip;</td></tr></tbody></table>"
      ],
      "text/plain": [
       "100×2 DataFrames.DataFrame\n",
       "│ Row │ One     │ Two     │\n",
       "├─────┼─────────┼─────────┤\n",
       "│ 1   │ 70.9437 │ 67.9957 │\n",
       "│ 2   │ 77.0027 │ 74.8557 │\n",
       "│ 3   │ 70.3091 │ 82.9193 │\n",
       "│ 4   │ 75.9771 │ 94.0625 │\n",
       "│ 5   │ 76.5753 │ 79.3504 │\n",
       "│ 6   │ 71.3401 │ 67.7431 │\n",
       "│ 7   │ 77.3583 │ 75.3611 │\n",
       "│ 8   │ 67.7032 │ 66.7304 │\n",
       "│ 9   │ 69.7354 │ 63.0585 │\n",
       "│ 10  │ 73.9232 │ 73.3484 │\n",
       "│ 11  │ 59.6879 │ 90.558  │\n",
       "⋮\n",
       "│ 89  │ 66.402  │ 101.433 │\n",
       "│ 90  │ 55.5548 │ 66.1275 │\n",
       "│ 91  │ 70.8385 │ 82.1486 │\n",
       "│ 92  │ 56.0658 │ 82.9905 │\n",
       "│ 93  │ 67.9107 │ 76.2389 │\n",
       "│ 94  │ 84.4232 │ 79.7064 │\n",
       "│ 95  │ 74.3408 │ 74.1202 │\n",
       "│ 96  │ 73.1193 │ 39.7968 │\n",
       "│ 97  │ 55.882  │ 67.5808 │\n",
       "│ 98  │ 72.3732 │ 42.3174 │\n",
       "│ 99  │ 70.7853 │ 68.9324 │\n",
       "│ 100 │ 56.1226 │ 83.7592 │"
      ]
     },
     "execution_count": 32,
     "metadata": {},
     "output_type": "execute_result"
    }
   ],
   "source": [
    "data = DataFrame(One = year1, Two = year2)"
   ]
  },
  {
   "cell_type": "code",
   "execution_count": 33,
   "metadata": {},
   "outputs": [
    {
     "data": {
      "text/plain": [
       "StatsModels.DataFrameRegressionModel{GLM.GeneralizedLinearModel{GLM.GlmResp{Array{Float64,1},Distributions.Normal{Float64},GLM.IdentityLink},GLM.DensePredChol{Float64,Base.LinAlg.Cholesky{Float64,Array{Float64,2}}}},Array{Float64,2}}\n",
       "\n",
       "Formula: One ~ 1 + Two\n",
       "\n",
       "Coefficients:\n",
       "             Estimate Std.Error  z value Pr(>|z|)\n",
       "(Intercept)   74.2721   5.42899  13.6807   <1e-41\n",
       "Two          -0.10151 0.0733257 -1.38437   0.1662\n"
      ]
     },
     "execution_count": 33,
     "metadata": {},
     "output_type": "execute_result"
    }
   ],
   "source": [
    "OLS = glm(@formula(One ~ Two), data, Normal(), IdentityLink()) # New in 0.6"
   ]
  },
  {
   "cell_type": "markdown",
   "metadata": {},
   "source": [
    "[Back to the top](#In-this-lesson)"
   ]
  },
  {
   "cell_type": "markdown",
   "metadata": {},
   "source": [
    "## Plotly"
   ]
  },
  {
   "cell_type": "markdown",
   "metadata": {},
   "source": [
    "Plotly is a collabrotaive / social website for plotting.  Let's have a look."
   ]
  },
  {
   "cell_type": "code",
   "execution_count": 34,
   "metadata": {},
   "outputs": [
    {
     "data": {
      "text/html": [
       "<div id=\"ca577271-0d40-41df-8612-39ff4eb24ddc\" class=\"plotly-graph-div\"></div>\n",
       "\n",
       "<script>\n",
       "    window.PLOTLYENV=window.PLOTLYENV || {};\n",
       "    window.PLOTLYENV.BASE_URL=\"https://plot.ly\";\n",
       "    require(['plotly'], function(Plotly) {\n",
       "        Plotly.newPlot('ca577271-0d40-41df-8612-39ff4eb24ddc', [{\"showlegend\":true,\"mode\":\"lines\",\"xaxis\":\"x\",\"colorbar\":{\"title\":\"\"},\"line\":{\"color\":\"rgba(0, 154, 250, 1.000)\",\"width\":1,\"dash\":\"solid\",\"shape\":\"linear\"},\"y\":[0.0,-0.4681423487279756,-0.8271965978894038,-0.7095622054644098,-0.5794718889269542,-1.39290957329665,-2.225032571106939,-2.7094806329325447,-0.37587098792453366,0.6864619646155022,-0.2216171021930543,1.6014539186625762,1.2062327330425209,1.40226245962725,0.7961330964751129,1.670281038964069,1.405627183369729,1.1322155534580485,1.437213560171322,1.3977835950068909,1.4952345780544853,2.295311312022123,-0.22895092238808745,-1.0524846025994403,0.0829824807463927,-0.6027056551929444,-0.12147787590758002,-1.496093230973263,-1.9993494137436327,-1.4842834593232164,-1.1096407454397363,-0.04276020563550631,-0.24759967093644392,0.03058530431119824,0.24228639384601167,-0.672280044907828,-2.376404651608662,-1.3131049993418995,-2.8433076397823336,-3.8782872862512168,-3.524211870545246,-2.2380427552684923,-2.5203252118188804,-1.3992558807384645,-1.1397093611094018,-0.7140115758265901,-2.9055507133184406,-2.4130648713278497,-1.8763564859824307,-0.21078971639211797],\"type\":\"scatter\",\"name\":\"y1\",\"yaxis\":\"y\",\"x\":[1,2,3,4,5,6,7,8,9,10,11,12,13,14,15,16,17,18,19,20,21,22,23,24,25,26,27,28,29,30,31,32,33,34,35,36,37,38,39,40,41,42,43,44,45,46,47,48,49,50]},{\"showlegend\":true,\"mode\":\"lines\",\"xaxis\":\"x\",\"colorbar\":{\"title\":\"\"},\"line\":{\"color\":\"rgba(227, 111, 71, 1.000)\",\"width\":1,\"dash\":\"solid\",\"shape\":\"linear\"},\"y\":[0.0,0.04162968192361651,1.6115227946406496,1.6472041295343245,1.6687271268113386,1.0511627784723303,0.9820440885838203,0.15398976492934258,1.182752252543878,1.1462893412235977,-0.17513770673340368,0.18160879592304546,-0.1016681207508677,-1.0208246235491008,-0.41762650051795347,0.6848569543684547,2.285700116391739,0.23046217050850348,1.1857322521478653,-0.8708228526930721,-1.8129853079874274,-0.5862328712738607,-1.3604666633557856,-1.6025894018213325,-0.633894412786703,-2.2281434959839324,-2.267749910372489,-2.219000375224676,-3.0363945694595964,-5.018253448080385,-4.731934425667185,-3.934892561330394,-6.603384561563247,-5.344372800441037,-6.018631571270223,-6.3221872849837535,-4.434149232197132,-3.2665570395554018,-2.57402855613209,-2.398628135497275,-0.6458232234996122,-0.9102518490585603,-0.763315728290236,-0.8036126959506336,-1.2703009544626154,-1.6270215366377576,-1.3860785315708368,-1.9826584840618573,0.9633795132477396,-0.8197067143595865],\"type\":\"scatter\",\"name\":\"y2\",\"yaxis\":\"y\",\"x\":[1,2,3,4,5,6,7,8,9,10,11,12,13,14,15,16,17,18,19,20,21,22,23,24,25,26,27,28,29,30,31,32,33,34,35,36,37,38,39,40,41,42,43,44,45,46,47,48,49,50]},{\"showlegend\":true,\"mode\":\"lines\",\"xaxis\":\"x\",\"colorbar\":{\"title\":\"\"},\"line\":{\"color\":\"rgba(62, 164, 78, 1.000)\",\"width\":1,\"dash\":\"solid\",\"shape\":\"linear\"},\"y\":[0.0,-0.4587948133297527,-1.821848189204365,1.1582819173226613,0.21696759627523732,-0.07882859384563348,-0.0523704847616808,-0.7296658727702382,-1.5475965528380258,-2.2570752723752117,-2.340798663450062,-0.7970479847681444,-1.2421120605860958,-0.7467038661853994,-0.9206160390374094,-1.754873904031268,-2.3903674657329157,-3.913822563389147,-3.5391857524685357,-3.1428622477302137,-3.1910347863649435,-4.60477008997411,-4.807685659854023,-6.337146141067795,-5.650406286778862,-5.712235588133846,-3.8993346739777985,-3.9212574100682387,-3.4636197283424983,-4.318129591818482,-3.8088940570047836,-1.0737845707060232,-3.044927695226825,-1.8937745429194068,-3.246711435601817,-2.583152191996558,-2.774961602019028,-2.9982831075613143,-3.121567952982797,-3.3175763139219843,-3.371393765442718,-2.889688724921206,-2.403479670728305,-1.0661391508144364,-2.404504482787803,-0.9618769076846059,-2.2145774887587266,-2.416201382908131,-1.6869715466146795,-0.6576733219075545],\"type\":\"scatter\",\"name\":\"y3\",\"yaxis\":\"y\",\"x\":[1,2,3,4,5,6,7,8,9,10,11,12,13,14,15,16,17,18,19,20,21,22,23,24,25,26,27,28,29,30,31,32,33,34,35,36,37,38,39,40,41,42,43,44,45,46,47,48,49,50]},{\"showlegend\":true,\"mode\":\"lines\",\"xaxis\":\"x\",\"colorbar\":{\"title\":\"\"},\"line\":{\"color\":\"rgba(195, 113, 210, 1.000)\",\"width\":1,\"dash\":\"solid\",\"shape\":\"linear\"},\"y\":[0.0,1.006399641177048,1.6300691012118569,0.2665483510306361,0.4382519421476353,-0.5706887044182062,-1.0539089599330969,0.47278785290403813,1.9704614142658936,1.4498151110080868,1.601989630095683,0.8281589545310876,-0.7870671233391453,-1.7100627905897212,-2.701225839508606,-2.563248975683514,-2.477067409318671,-2.3520665288997145,-1.9917825399847529,-0.6893936728094092,0.8383247655419179,1.2016517584230721,-0.38315297732869835,-1.0375630966027942,-0.8759359698043121,-0.653975867787344,0.886288814267858,0.41058661813943353,1.7068081399114094,1.3176851096526916,1.3232827973037748,2.421817546245147,1.4501550268744456,2.089323388654006,4.849816325644496,3.412783600004582,2.80062642190594,1.7609423857089368,2.367016501274466,1.9440409967522718,3.8852512328479265,6.375422843079189,5.087707131479356,5.193568224676945,4.814701768807727,4.787251071659543,4.285897597194401,4.812044297173592,4.680273655794719,3.7425969648346196],\"type\":\"scatter\",\"name\":\"y4\",\"yaxis\":\"y\",\"x\":[1,2,3,4,5,6,7,8,9,10,11,12,13,14,15,16,17,18,19,20,21,22,23,24,25,26,27,28,29,30,31,32,33,34,35,36,37,38,39,40,41,42,43,44,45,46,47,48,49,50]},{\"showlegend\":true,\"mode\":\"lines\",\"xaxis\":\"x\",\"colorbar\":{\"title\":\"\"},\"line\":{\"color\":\"rgba(172, 142, 24, 1.000)\",\"width\":1,\"dash\":\"solid\",\"shape\":\"linear\"},\"y\":[0.0,-0.23191431831679338,-0.3033182773152404,-0.5601446182798269,-0.17454446901314058,-2.4206023828172754,-1.5019836587057114,-1.65610609917631,-0.03836699984603631,0.2508997691715002,-0.06601825928637997,-0.19188306711975855,-0.29090343558285825,-1.906357720478674,-1.48281341217964,-1.6799776766326948,-0.3172246149422071,0.7810502859426927,1.097867395143734,1.14197942080264,0.8295355119155579,1.277204308522258,1.0745410058463467,0.2996314087045804,0.5112485921409213,0.4644855674743093,-0.6752770014753222,-2.135425192892364,-1.462480430399397,-2.3463567070929807,-2.980696769691731,-6.038097130255232,-5.359036517378225,-5.622425474736823,-4.377199886089766,-4.8122028630158304,-3.8637465379754334,-4.219348256905976,-4.215111497558317,-3.4815916182839324,-3.4793110052107488,-2.878685257410953,-4.700508384234256,-4.866312855229613,-4.407577930921978,-4.839042576521868,-5.609587365206499,-3.7697174083906972,-2.7285614670886535,-1.4811978728191322],\"type\":\"scatter\",\"name\":\"y5\",\"yaxis\":\"y\",\"x\":[1,2,3,4,5,6,7,8,9,10,11,12,13,14,15,16,17,18,19,20,21,22,23,24,25,26,27,28,29,30,31,32,33,34,35,36,37,38,39,40,41,42,43,44,45,46,47,48,49,50]}],\n",
       "               {\"showlegend\":true,\"xaxis\":{\"showticklabels\":true,\"gridwidth\":0.5,\"tickvals\":[10.0,20.0,30.0,40.0,50.0],\"visible\":true,\"ticks\":\"inside\",\"range\":[1.0,50.0],\"domain\":[0.0658209390492855,0.9934383202099738],\"tickmode\":\"array\",\"linecolor\":\"rgba(0, 0, 0, 1.000)\",\"showgrid\":true,\"title\":\"\",\"mirror\":false,\"tickangle\":0,\"showline\":true,\"gridcolor\":\"rgba(0, 0, 0, 0.100)\",\"titlefont\":{\"color\":\"rgba(0, 0, 0, 1.000)\",\"family\":\"sans-serif\",\"size\":15},\"tickcolor\":\"rgb(0, 0, 0)\",\"ticktext\":[\"10\",\"20\",\"30\",\"40\",\"50\"],\"zeroline\":false,\"type\":\"-\",\"tickfont\":{\"color\":\"rgba(0, 0, 0, 1.000)\",\"family\":\"sans-serif\",\"size\":11},\"zerolinecolor\":\"rgba(0, 0, 0, 1.000)\",\"anchor\":\"y\"},\"paper_bgcolor\":\"rgba(255, 255, 255, 1.000)\",\"annotations\":[],\"height\":400,\"margin\":{\"l\":0,\"b\":20,\"r\":0,\"t\":20},\"plot_bgcolor\":\"rgba(255, 255, 255, 1.000)\",\"yaxis\":{\"showticklabels\":true,\"gridwidth\":0.5,\"tickvals\":[-5.0,-2.5,0.0,2.5,5.0],\"visible\":true,\"ticks\":\"inside\",\"range\":[-6.603384561563247,6.375422843079189],\"domain\":[0.03762029746281716,0.9901574803149606],\"tickmode\":\"array\",\"linecolor\":\"rgba(0, 0, 0, 1.000)\",\"showgrid\":true,\"title\":\"\",\"mirror\":false,\"tickangle\":0,\"showline\":true,\"gridcolor\":\"rgba(0, 0, 0, 0.100)\",\"titlefont\":{\"color\":\"rgba(0, 0, 0, 1.000)\",\"family\":\"sans-serif\",\"size\":15},\"tickcolor\":\"rgb(0, 0, 0)\",\"ticktext\":[\"-5.0\",\"-2.5\",\"0.0\",\"2.5\",\"5.0\"],\"zeroline\":false,\"type\":\"-\",\"tickfont\":{\"color\":\"rgba(0, 0, 0, 1.000)\",\"family\":\"sans-serif\",\"size\":11},\"zerolinecolor\":\"rgba(0, 0, 0, 1.000)\",\"anchor\":\"x\"},\"legend\":{\"bordercolor\":\"rgba(0, 0, 0, 1.000)\",\"bgcolor\":\"rgba(255, 255, 255, 1.000)\",\"font\":{\"color\":\"rgba(0, 0, 0, 1.000)\",\"family\":\"sans-serif\",\"size\":11},\"y\":1.0,\"x\":1.0},\"width\":600}, {showLink: false});\n",
       "\n",
       "    });\n",
       " </script>\n"
      ]
     },
     "execution_count": 34,
     "metadata": {},
     "output_type": "execute_result"
    }
   ],
   "source": [
    "plot(Plots.fakedata(50, 5), w = 1)"
   ]
  },
  {
   "cell_type": "markdown",
   "metadata": {},
   "source": [
    "[Back to the top](#In-this-lesson)"
   ]
  },
  {
   "cell_type": "code",
   "execution_count": null,
   "metadata": {
    "collapsed": true
   },
   "outputs": [],
   "source": []
  }
 ],
 "metadata": {
  "anaconda-cloud": {},
  "hide_input": false,
  "kernelspec": {
   "display_name": "Julia 0.6.2",
   "language": "julia",
   "name": "julia-0.6"
  },
  "language_info": {
   "file_extension": ".jl",
   "mimetype": "application/julia",
   "name": "julia",
   "version": "0.6.2"
  },
  "varInspector": {
   "cols": {
    "lenName": 16,
    "lenType": 16,
    "lenVar": 40
   },
   "kernels_config": {
    "python": {
     "delete_cmd_postfix": "",
     "delete_cmd_prefix": "del ",
     "library": "var_list.py",
     "varRefreshCmd": "print(var_dic_list())"
    },
    "r": {
     "delete_cmd_postfix": ") ",
     "delete_cmd_prefix": "rm(",
     "library": "var_list.r",
     "varRefreshCmd": "cat(var_dic_list()) "
    }
   },
   "types_to_exclude": [
    "module",
    "function",
    "builtin_function_or_method",
    "instance",
    "_Feature"
   ],
   "window_display": false
  }
 },
 "nbformat": 4,
 "nbformat_minor": 1
}

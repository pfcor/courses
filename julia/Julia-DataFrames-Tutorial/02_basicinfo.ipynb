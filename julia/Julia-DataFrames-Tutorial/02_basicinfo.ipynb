{
 "cells": [
  {
   "cell_type": "markdown",
   "metadata": {},
   "source": [
    "# Introduction to DataFrames\n",
    "**[Bogumił Kamiński](http://bogumilkaminski.pl/about/), Dec 5, 2017**\n",
    "\n",
    "A brief introduction to basic usage of `DataFrames`. Tested under `DataFrames` master on 2017-12-05.\n",
    "I will try to keep it up to date as the package evolves."
   ]
  },
  {
   "cell_type": "code",
   "execution_count": 1,
   "metadata": {
    "collapsed": false
   },
   "outputs": [],
   "source": [
    "using DataFrames # load package"
   ]
  },
  {
   "cell_type": "markdown",
   "metadata": {},
   "source": [
    "## Getting basic information about a data frame"
   ]
  },
  {
   "cell_type": "code",
   "execution_count": 2,
   "metadata": {
    "collapsed": false
   },
   "outputs": [
    {
     "data": {
      "text/html": [
       "<table class=\"data-frame\"><thead><tr><th></th><th>A</th><th>B</th><th>C</th><th>D</th></tr></thead><tbody><tr><th>1</th><td>1</td><td>1.0</td><td>a</td><td>1</td></tr><tr><th>2</th><td>2</td><td>missing</td><td>b</td><td>a</td></tr></tbody></table>"
      ],
      "text/plain": [
       "2×4 DataFrames.DataFrame\n",
       "│ Row │ A │ B       │ C │ D │\n",
       "├─────┼───┼─────────┼───┼───┤\n",
       "│ 1   │ 1 │ 1.0     │ a │ 1 │\n",
       "│ 2   │ 2 │ \u001b[90mmissing\u001b[39m │ b │ a │"
      ]
     },
     "execution_count": 2,
     "metadata": {},
     "output_type": "execute_result"
    }
   ],
   "source": [
    "x = DataFrame(A = [1, 2], B = [1.0, missing], C = [\"a\", \"b\"], D = [1, \"a\"])"
   ]
  },
  {
   "cell_type": "code",
   "execution_count": 3,
   "metadata": {
    "collapsed": false
   },
   "outputs": [
    {
     "data": {
      "text/plain": [
       "((2, 4), 2, 4)"
      ]
     },
     "execution_count": 3,
     "metadata": {},
     "output_type": "execute_result"
    }
   ],
   "source": [
    "size(x), size(x, 1), size(x, 2)"
   ]
  },
  {
   "cell_type": "code",
   "execution_count": 4,
   "metadata": {
    "collapsed": false
   },
   "outputs": [
    {
     "data": {
      "text/plain": [
       "(2, 4, 4)"
      ]
     },
     "execution_count": 4,
     "metadata": {},
     "output_type": "execute_result"
    }
   ],
   "source": [
    "nrow(x), ncol(x), length(x)"
   ]
  },
  {
   "cell_type": "code",
   "execution_count": 5,
   "metadata": {
    "collapsed": false
   },
   "outputs": [
    {
     "name": "stdout",
     "output_type": "stream",
     "text": [
      "A\n",
      "Summary Stats:\n",
      "Mean:           1.500000\n",
      "Minimum:        1.000000\n",
      "1st Quartile:   1.250000\n",
      "Median:         1.500000\n",
      "3rd Quartile:   1.750000\n",
      "Maximum:        2.000000\n",
      "Length:         2\n",
      "Type:           Int64\n",
      "\n",
      "B\n",
      "Summary Stats:\n",
      "Mean:           1.000000\n",
      "Minimum:        1.000000\n",
      "1st Quartile:   1.000000\n",
      "Median:         1.000000\n",
      "3rd Quartile:   1.000000\n",
      "Maximum:        1.000000\n",
      "Length:         2\n",
      "Type:           Union{Float64, Missings.Missing}\n",
      "Number Missing: 1\n",
      "% Missing:      50.000000\n",
      "\n",
      "C\n",
      "Summary Stats:\n",
      "Length:         2\n",
      "Type:           String\n",
      "Number Unique:  2\n",
      "\n",
      "D\n",
      "Summary Stats:\n",
      "Length:         2\n",
      "Type:           Any\n",
      "Number Unique:  2\n",
      "Number Missing: 0\n",
      "% Missing:      0.000000\n",
      "\n"
     ]
    }
   ],
   "source": [
    "describe(x)"
   ]
  },
  {
   "cell_type": "code",
   "execution_count": 6,
   "metadata": {
    "collapsed": false
   },
   "outputs": [
    {
     "name": "stdout",
     "output_type": "stream",
     "text": [
      "2×4 DataFrames.DataFrame\n",
      "│ Col # │ Name │ Eltype                           │ Missing │ Values          │\n",
      "├───────┼──────┼──────────────────────────────────┼─────────┼─────────────────┤\n",
      "│ 1     │ A    │ Int64                            │ 0       │ 1  …  2         │\n",
      "│ 2     │ B    │ Union{Float64, Missings.Missing} │ 1       │ 1.0  …  missing │\n",
      "│ 3     │ C    │ String                           │ 0       │ a  …  b         │\n",
      "│ 4     │ D    │ Any                              │ 0       │ 1  …  a         │"
     ]
    }
   ],
   "source": [
    "showcols(x)"
   ]
  },
  {
   "cell_type": "code",
   "execution_count": 7,
   "metadata": {
    "collapsed": false
   },
   "outputs": [
    {
     "data": {
      "text/plain": [
       "4-element Array{Symbol,1}:\n",
       " :A\n",
       " :B\n",
       " :C\n",
       " :D"
      ]
     },
     "execution_count": 7,
     "metadata": {},
     "output_type": "execute_result"
    }
   ],
   "source": [
    "names(x)"
   ]
  },
  {
   "cell_type": "code",
   "execution_count": 8,
   "metadata": {
    "collapsed": false
   },
   "outputs": [
    {
     "data": {
      "text/plain": [
       "4-element Array{Type,1}:\n",
       " Int64                           \n",
       " Union{Float64, Missings.Missing}\n",
       " String                          \n",
       " Any                             "
      ]
     },
     "execution_count": 8,
     "metadata": {},
     "output_type": "execute_result"
    }
   ],
   "source": [
    "eltypes(x)"
   ]
  },
  {
   "cell_type": "code",
   "execution_count": 9,
   "metadata": {
    "collapsed": false
   },
   "outputs": [
    {
     "data": {
      "text/html": [
       "<table class=\"data-frame\"><thead><tr><th></th><th>x1</th><th>x2</th><th>x3</th><th>x4</th><th>x5</th><th>x6</th><th>x7</th><th>x8</th><th>x9</th><th>x10</th></tr></thead><tbody><tr><th>1</th><td>4</td><td>10</td><td>4</td><td>3</td><td>6</td><td>3</td><td>2</td><td>4</td><td>8</td><td>4</td></tr><tr><th>2</th><td>10</td><td>2</td><td>4</td><td>10</td><td>8</td><td>7</td><td>8</td><td>9</td><td>2</td><td>6</td></tr><tr><th>3</th><td>5</td><td>9</td><td>4</td><td>8</td><td>6</td><td>1</td><td>2</td><td>7</td><td>3</td><td>8</td></tr><tr><th>4</th><td>9</td><td>10</td><td>10</td><td>5</td><td>4</td><td>8</td><td>8</td><td>10</td><td>4</td><td>9</td></tr><tr><th>5</th><td>5</td><td>10</td><td>3</td><td>6</td><td>6</td><td>3</td><td>7</td><td>4</td><td>1</td><td>9</td></tr><tr><th>6</th><td>4</td><td>6</td><td>8</td><td>7</td><td>7</td><td>10</td><td>10</td><td>4</td><td>3</td><td>1</td></tr><tr><th>7</th><td>2</td><td>10</td><td>7</td><td>2</td><td>8</td><td>8</td><td>3</td><td>5</td><td>1</td><td>5</td></tr><tr><th>8</th><td>3</td><td>5</td><td>6</td><td>1</td><td>1</td><td>2</td><td>9</td><td>1</td><td>8</td><td>6</td></tr><tr><th>9</th><td>4</td><td>10</td><td>8</td><td>4</td><td>2</td><td>1</td><td>3</td><td>9</td><td>3</td><td>10</td></tr><tr><th>10</th><td>6</td><td>4</td><td>4</td><td>1</td><td>3</td><td>2</td><td>7</td><td>6</td><td>4</td><td>1</td></tr><tr><th>11</th><td>1</td><td>4</td><td>7</td><td>6</td><td>10</td><td>2</td><td>1</td><td>2</td><td>8</td><td>6</td></tr><tr><th>12</th><td>2</td><td>5</td><td>3</td><td>3</td><td>1</td><td>6</td><td>8</td><td>8</td><td>9</td><td>1</td></tr><tr><th>13</th><td>1</td><td>1</td><td>6</td><td>7</td><td>1</td><td>8</td><td>5</td><td>9</td><td>6</td><td>6</td></tr><tr><th>14</th><td>9</td><td>8</td><td>1</td><td>3</td><td>1</td><td>7</td><td>4</td><td>10</td><td>5</td><td>10</td></tr><tr><th>15</th><td>5</td><td>5</td><td>2</td><td>4</td><td>5</td><td>10</td><td>4</td><td>1</td><td>9</td><td>10</td></tr><tr><th>16</th><td>3</td><td>1</td><td>3</td><td>4</td><td>9</td><td>2</td><td>9</td><td>3</td><td>8</td><td>3</td></tr><tr><th>17</th><td>9</td><td>10</td><td>10</td><td>2</td><td>7</td><td>2</td><td>10</td><td>6</td><td>5</td><td>7</td></tr><tr><th>18</th><td>6</td><td>2</td><td>8</td><td>8</td><td>7</td><td>10</td><td>7</td><td>10</td><td>2</td><td>7</td></tr><tr><th>19</th><td>5</td><td>2</td><td>3</td><td>8</td><td>4</td><td>7</td><td>5</td><td>3</td><td>2</td><td>9</td></tr><tr><th>20</th><td>7</td><td>7</td><td>1</td><td>1</td><td>10</td><td>1</td><td>3</td><td>7</td><td>10</td><td>7</td></tr></tbody></table>"
      ],
      "text/plain": [
       "20×10 DataFrames.DataFrame\n",
       "│ Row │ x1 │ x2 │ x3 │ x4 │ x5 │ x6 │ x7 │ x8 │ x9 │ x10 │\n",
       "├─────┼────┼────┼────┼────┼────┼────┼────┼────┼────┼─────┤\n",
       "│ 1   │ 4  │ 10 │ 4  │ 3  │ 6  │ 3  │ 2  │ 4  │ 8  │ 4   │\n",
       "│ 2   │ 10 │ 2  │ 4  │ 10 │ 8  │ 7  │ 8  │ 9  │ 2  │ 6   │\n",
       "│ 3   │ 5  │ 9  │ 4  │ 8  │ 6  │ 1  │ 2  │ 7  │ 3  │ 8   │\n",
       "│ 4   │ 9  │ 10 │ 10 │ 5  │ 4  │ 8  │ 8  │ 10 │ 4  │ 9   │\n",
       "│ 5   │ 5  │ 10 │ 3  │ 6  │ 6  │ 3  │ 7  │ 4  │ 1  │ 9   │\n",
       "│ 6   │ 4  │ 6  │ 8  │ 7  │ 7  │ 10 │ 10 │ 4  │ 3  │ 1   │\n",
       "│ 7   │ 2  │ 10 │ 7  │ 2  │ 8  │ 8  │ 3  │ 5  │ 1  │ 5   │\n",
       "│ 8   │ 3  │ 5  │ 6  │ 1  │ 1  │ 2  │ 9  │ 1  │ 8  │ 6   │\n",
       "│ 9   │ 4  │ 10 │ 8  │ 4  │ 2  │ 1  │ 3  │ 9  │ 3  │ 10  │\n",
       "│ 10  │ 6  │ 4  │ 4  │ 1  │ 3  │ 2  │ 7  │ 6  │ 4  │ 1   │\n",
       "│ 11  │ 1  │ 4  │ 7  │ 6  │ 10 │ 2  │ 1  │ 2  │ 8  │ 6   │\n",
       "│ 12  │ 2  │ 5  │ 3  │ 3  │ 1  │ 6  │ 8  │ 8  │ 9  │ 1   │\n",
       "│ 13  │ 1  │ 1  │ 6  │ 7  │ 1  │ 8  │ 5  │ 9  │ 6  │ 6   │\n",
       "│ 14  │ 9  │ 8  │ 1  │ 3  │ 1  │ 7  │ 4  │ 10 │ 5  │ 10  │\n",
       "│ 15  │ 5  │ 5  │ 2  │ 4  │ 5  │ 10 │ 4  │ 1  │ 9  │ 10  │\n",
       "│ 16  │ 3  │ 1  │ 3  │ 4  │ 9  │ 2  │ 9  │ 3  │ 8  │ 3   │\n",
       "│ 17  │ 9  │ 10 │ 10 │ 2  │ 7  │ 2  │ 10 │ 6  │ 5  │ 7   │\n",
       "│ 18  │ 6  │ 2  │ 8  │ 8  │ 7  │ 10 │ 7  │ 10 │ 2  │ 7   │\n",
       "│ 19  │ 5  │ 2  │ 3  │ 8  │ 4  │ 7  │ 5  │ 3  │ 2  │ 9   │\n",
       "│ 20  │ 7  │ 7  │ 1  │ 1  │ 10 │ 1  │ 3  │ 7  │ 10 │ 7   │"
      ]
     },
     "execution_count": 9,
     "metadata": {},
     "output_type": "execute_result"
    }
   ],
   "source": [
    "y = DataFrame(rand(1:10, 20, 10))"
   ]
  },
  {
   "cell_type": "code",
   "execution_count": 10,
   "metadata": {
    "collapsed": false
   },
   "outputs": [
    {
     "data": {
      "text/html": [
       "<table class=\"data-frame\"><thead><tr><th></th><th>x1</th><th>x2</th><th>x3</th><th>x4</th><th>x5</th><th>x6</th><th>x7</th><th>x8</th><th>x9</th><th>x10</th></tr></thead><tbody><tr><th>1</th><td>4</td><td>10</td><td>4</td><td>3</td><td>6</td><td>3</td><td>2</td><td>4</td><td>8</td><td>4</td></tr><tr><th>2</th><td>10</td><td>2</td><td>4</td><td>10</td><td>8</td><td>7</td><td>8</td><td>9</td><td>2</td><td>6</td></tr><tr><th>3</th><td>5</td><td>9</td><td>4</td><td>8</td><td>6</td><td>1</td><td>2</td><td>7</td><td>3</td><td>8</td></tr><tr><th>4</th><td>9</td><td>10</td><td>10</td><td>5</td><td>4</td><td>8</td><td>8</td><td>10</td><td>4</td><td>9</td></tr><tr><th>5</th><td>5</td><td>10</td><td>3</td><td>6</td><td>6</td><td>3</td><td>7</td><td>4</td><td>1</td><td>9</td></tr><tr><th>6</th><td>4</td><td>6</td><td>8</td><td>7</td><td>7</td><td>10</td><td>10</td><td>4</td><td>3</td><td>1</td></tr></tbody></table>"
      ],
      "text/plain": [
       "6×10 DataFrames.DataFrame\n",
       "│ Row │ x1 │ x2 │ x3 │ x4 │ x5 │ x6 │ x7 │ x8 │ x9 │ x10 │\n",
       "├─────┼────┼────┼────┼────┼────┼────┼────┼────┼────┼─────┤\n",
       "│ 1   │ 4  │ 10 │ 4  │ 3  │ 6  │ 3  │ 2  │ 4  │ 8  │ 4   │\n",
       "│ 2   │ 10 │ 2  │ 4  │ 10 │ 8  │ 7  │ 8  │ 9  │ 2  │ 6   │\n",
       "│ 3   │ 5  │ 9  │ 4  │ 8  │ 6  │ 1  │ 2  │ 7  │ 3  │ 8   │\n",
       "│ 4   │ 9  │ 10 │ 10 │ 5  │ 4  │ 8  │ 8  │ 10 │ 4  │ 9   │\n",
       "│ 5   │ 5  │ 10 │ 3  │ 6  │ 6  │ 3  │ 7  │ 4  │ 1  │ 9   │\n",
       "│ 6   │ 4  │ 6  │ 8  │ 7  │ 7  │ 10 │ 10 │ 4  │ 3  │ 1   │"
      ]
     },
     "execution_count": 10,
     "metadata": {},
     "output_type": "execute_result"
    }
   ],
   "source": [
    "head(y)"
   ]
  },
  {
   "cell_type": "code",
   "execution_count": 11,
   "metadata": {
    "collapsed": false
   },
   "outputs": [
    {
     "data": {
      "text/html": [
       "<table class=\"data-frame\"><thead><tr><th></th><th>x1</th><th>x2</th><th>x3</th><th>x4</th><th>x5</th><th>x6</th><th>x7</th><th>x8</th><th>x9</th><th>x10</th></tr></thead><tbody><tr><th>1</th><td>6</td><td>2</td><td>8</td><td>8</td><td>7</td><td>10</td><td>7</td><td>10</td><td>2</td><td>7</td></tr><tr><th>2</th><td>5</td><td>2</td><td>3</td><td>8</td><td>4</td><td>7</td><td>5</td><td>3</td><td>2</td><td>9</td></tr><tr><th>3</th><td>7</td><td>7</td><td>1</td><td>1</td><td>10</td><td>1</td><td>3</td><td>7</td><td>10</td><td>7</td></tr></tbody></table>"
      ],
      "text/plain": [
       "3×10 DataFrames.DataFrame\n",
       "│ Row │ x1 │ x2 │ x3 │ x4 │ x5 │ x6 │ x7 │ x8 │ x9 │ x10 │\n",
       "├─────┼────┼────┼────┼────┼────┼────┼────┼────┼────┼─────┤\n",
       "│ 1   │ 6  │ 2  │ 8  │ 8  │ 7  │ 10 │ 7  │ 10 │ 2  │ 7   │\n",
       "│ 2   │ 5  │ 2  │ 3  │ 8  │ 4  │ 7  │ 5  │ 3  │ 2  │ 9   │\n",
       "│ 3   │ 7  │ 7  │ 1  │ 1  │ 10 │ 1  │ 3  │ 7  │ 10 │ 7   │"
      ]
     },
     "execution_count": 11,
     "metadata": {},
     "output_type": "execute_result"
    }
   ],
   "source": [
    "tail(y, 3)"
   ]
  },
  {
   "cell_type": "markdown",
   "metadata": {},
   "source": [
    "### Most elementary get and set operations"
   ]
  },
  {
   "cell_type": "code",
   "execution_count": 12,
   "metadata": {
    "collapsed": false
   },
   "outputs": [
    {
     "data": {
      "text/plain": [
       "([1, 2], [1, 2], [1, 2])"
      ]
     },
     "execution_count": 12,
     "metadata": {},
     "output_type": "execute_result"
    }
   ],
   "source": [
    "x[1], x[:A], x[:, 1] # get one column"
   ]
  },
  {
   "cell_type": "code",
   "execution_count": 13,
   "metadata": {
    "collapsed": false
   },
   "outputs": [
    {
     "data": {
      "text/html": [
       "<table class=\"data-frame\"><thead><tr><th></th><th>A</th><th>B</th><th>C</th><th>D</th></tr></thead><tbody><tr><th>1</th><td>1</td><td>1.0</td><td>a</td><td>1</td></tr></tbody></table>"
      ],
      "text/plain": [
       "1×4 DataFrames.DataFrame\n",
       "│ Row │ A │ B   │ C │ D │\n",
       "├─────┼───┼─────┼───┼───┤\n",
       "│ 1   │ 1 │ 1.0 │ a │ 1 │"
      ]
     },
     "execution_count": 13,
     "metadata": {},
     "output_type": "execute_result"
    }
   ],
   "source": [
    "x[1, :] # get one row"
   ]
  },
  {
   "cell_type": "code",
   "execution_count": 14,
   "metadata": {
    "collapsed": false
   },
   "outputs": [
    {
     "data": {
      "text/plain": [
       "1"
      ]
     },
     "execution_count": 14,
     "metadata": {},
     "output_type": "execute_result"
    }
   ],
   "source": [
    "x[1, 1] # get one cell"
   ]
  },
  {
   "cell_type": "code",
   "execution_count": 15,
   "metadata": {
    "collapsed": false
   },
   "outputs": [
    {
     "data": {
      "text/html": [
       "<table class=\"data-frame\"><thead><tr><th></th><th>A</th><th>B</th><th>C</th><th>D</th></tr></thead><tbody><tr><th>1</th><td>1</td><td>1.0</td><td>a</td><td>1</td></tr><tr><th>2</th><td>1</td><td>1.0</td><td>b</td><td>a</td></tr></tbody></table>"
      ],
      "text/plain": [
       "2×4 DataFrames.DataFrame\n",
       "│ Row │ A │ B   │ C │ D │\n",
       "├─────┼───┼─────┼───┼───┤\n",
       "│ 1   │ 1 │ 1.0 │ a │ 1 │\n",
       "│ 2   │ 1 │ 1.0 │ b │ a │"
      ]
     },
     "execution_count": 15,
     "metadata": {},
     "output_type": "execute_result"
    }
   ],
   "source": [
    "x[1:2, 1:2] = 1 # assignment can be done in ranges by a scalar\n",
    "x"
   ]
  },
  {
   "cell_type": "code",
   "execution_count": 16,
   "metadata": {
    "collapsed": false
   },
   "outputs": [
    {
     "data": {
      "text/html": [
       "<table class=\"data-frame\"><thead><tr><th></th><th>A</th><th>B</th><th>C</th><th>D</th></tr></thead><tbody><tr><th>1</th><td>1</td><td>1.0</td><td>a</td><td>1</td></tr><tr><th>2</th><td>2</td><td>2.0</td><td>b</td><td>a</td></tr></tbody></table>"
      ],
      "text/plain": [
       "2×4 DataFrames.DataFrame\n",
       "│ Row │ A │ B   │ C │ D │\n",
       "├─────┼───┼─────┼───┼───┤\n",
       "│ 1   │ 1 │ 1.0 │ a │ 1 │\n",
       "│ 2   │ 2 │ 2.0 │ b │ a │"
      ]
     },
     "execution_count": 16,
     "metadata": {},
     "output_type": "execute_result"
    }
   ],
   "source": [
    "x[1:2, 1:2] = [1,2] # by a vector of length equal to number of rows\n",
    "x"
   ]
  },
  {
   "cell_type": "code",
   "execution_count": 17,
   "metadata": {
    "collapsed": false
   },
   "outputs": [
    {
     "data": {
      "text/html": [
       "<table class=\"data-frame\"><thead><tr><th></th><th>A</th><th>B</th><th>C</th><th>D</th></tr></thead><tbody><tr><th>1</th><td>5</td><td>6.0</td><td>a</td><td>1</td></tr><tr><th>2</th><td>7</td><td>8.0</td><td>b</td><td>a</td></tr></tbody></table>"
      ],
      "text/plain": [
       "2×4 DataFrames.DataFrame\n",
       "│ Row │ A │ B   │ C │ D │\n",
       "├─────┼───┼─────┼───┼───┤\n",
       "│ 1   │ 5 │ 6.0 │ a │ 1 │\n",
       "│ 2   │ 7 │ 8.0 │ b │ a │"
      ]
     },
     "execution_count": 17,
     "metadata": {},
     "output_type": "execute_result"
    }
   ],
   "source": [
    "x[1:2, 1:2] = DataFrame([5 6; 7 8]) # by another data frame of matching size \n",
    "x"
   ]
  }
 ],
 "metadata": {
  "kernelspec": {
   "display_name": "Julia 0.6.0",
   "language": "julia",
   "name": "julia-0.6"
  },
  "language_info": {
   "file_extension": ".jl",
   "mimetype": "application/julia",
   "name": "julia",
   "version": "0.6.1"
  }
 },
 "nbformat": 4,
 "nbformat_minor": 0
}

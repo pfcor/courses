{
 "cells": [
  {
   "cell_type": "code",
   "execution_count": 1,
   "metadata": {},
   "outputs": [],
   "source": [
    "import pymongo\n",
    "import pprint"
   ]
  },
  {
   "cell_type": "code",
   "execution_count": 2,
   "metadata": {},
   "outputs": [],
   "source": [
    "# Replace XXXX with your connection URI from the Atlas UI\n",
    "with open(\"atlas_uri.txt\") as f: course_cluster_uri = f.read()"
   ]
  },
  {
   "cell_type": "code",
   "execution_count": 3,
   "metadata": {},
   "outputs": [],
   "source": [
    "course_client = pymongo.MongoClient(course_cluster_uri)\n",
    "movies = course_client['mflix']['movies']"
   ]
  },
  {
   "cell_type": "code",
   "execution_count": 4,
   "metadata": {},
   "outputs": [],
   "source": [
    "movie = movies.find_one()"
   ]
  },
  {
   "cell_type": "code",
   "execution_count": 5,
   "metadata": {},
   "outputs": [
    {
     "name": "stdout",
     "output_type": "stream",
     "text": [
      "{'_id': ObjectId('5a513f4ca98c11e3ede8a9d9'),\n",
      " 'cast': ['Carmencita'],\n",
      " 'countries': ['USA'],\n",
      " 'directors': ['William K.L. Dickson'],\n",
      " 'fullPlot': 'Performing on what looks like a small wooden stage, wearing a '\n",
      "             'dress with a hoop skirt and white high-heeled pumps, Carmencita '\n",
      "             'does a dance with kicks and twirls, a smile always on her face.',\n",
      " 'genres': ['Documentary', 'Short'],\n",
      " 'imdb': {'id': 1, 'rating': 5.9, 'votes': 1032},\n",
      " 'lastupdated': '2015-08-26 00:03:45.040000000',\n",
      " 'plot': 'Performing on what looks like a small wooden stage, wearing a dress '\n",
      "         'with a hoop skirt and white high-heeled pumps, Carmencita does a '\n",
      "         'dance with kicks and twirls, a smile always on her face.',\n",
      " 'poster': 'http://ia.media-imdb.com/images/M/MV5BMjAzNDEwMzk3OV5BMl5BanBnXkFtZTcwOTk4OTM5Ng@@._V1_SX300.jpg',\n",
      " 'rated': 'NOT RATED',\n",
      " 'runtime': 1,\n",
      " 'title': 'Carmencita',\n",
      " 'type': 'movie',\n",
      " 'year': 1894}\n"
     ]
    }
   ],
   "source": [
    "pprint.pprint(movie)"
   ]
  },
  {
   "cell_type": "code",
   "execution_count": null,
   "metadata": {
    "collapsed": true
   },
   "outputs": [],
   "source": [
    "movie['_id']"
   ]
  },
  {
   "cell_type": "code",
   "execution_count": null,
   "metadata": {
    "collapsed": true
   },
   "outputs": [],
   "source": [
    "from datetime import datetime\n",
    "dates = course_client['test']['dates']"
   ]
  },
  {
   "cell_type": "code",
   "execution_count": null,
   "metadata": {
    "collapsed": true
   },
   "outputs": [],
   "source": [
    "dates.insert_one({ \"dt\": datetime.utcnow() })"
   ]
  },
  {
   "cell_type": "code",
   "execution_count": null,
   "metadata": {
    "collapsed": true
   },
   "outputs": [],
   "source": [
    "dates.find_one()"
   ]
  },
  {
   "cell_type": "code",
   "execution_count": null,
   "metadata": {
    "collapsed": true
   },
   "outputs": [],
   "source": [
    "from bson.decimal128 import Decimal128\n",
    "decimals = course_client['test']['decimals']"
   ]
  },
  {
   "cell_type": "code",
   "execution_count": null,
   "metadata": {
    "collapsed": true
   },
   "outputs": [],
   "source": [
    "decimals.insert_one({ \"money\": Decimal128(\"99.99\") })"
   ]
  },
  {
   "cell_type": "code",
   "execution_count": null,
   "metadata": {
    "collapsed": true
   },
   "outputs": [],
   "source": [
    "decimals.find_one()"
   ]
  },
  {
   "cell_type": "code",
   "execution_count": null,
   "metadata": {
    "collapsed": true
   },
   "outputs": [],
   "source": [
    "movies.find_one({ \"year\": { \"$type\": \"int\" } })"
   ]
  }
 ],
 "metadata": {
  "kernelspec": {
   "display_name": "Python [intro-to-mongodb]",
   "language": "python",
   "name": "intro-to-mongodb"
  },
  "language_info": {
   "codemirror_mode": {
    "name": "ipython",
    "version": 3
   },
   "file_extension": ".py",
   "mimetype": "text/x-python",
   "name": "python",
   "nbconvert_exporter": "python",
   "pygments_lexer": "ipython3",
   "version": "3.6.4"
  }
 },
 "nbformat": 4,
 "nbformat_minor": 2
}

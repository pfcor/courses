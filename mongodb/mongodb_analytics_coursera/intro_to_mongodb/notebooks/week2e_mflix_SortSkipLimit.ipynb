{
 "cells": [
  {
   "cell_type": "code",
   "execution_count": 1,
   "metadata": {},
   "outputs": [],
   "source": [
    "from pymongo import MongoClient, DESCENDING\n",
    "import pprint"
   ]
  },
  {
   "cell_type": "code",
   "execution_count": 2,
   "metadata": {},
   "outputs": [],
   "source": [
    "with open(\"atlas_uri.txt\") as f: atlas_uri = f.read()\n",
    "client = MongoClient(atlas_uri)"
   ]
  },
  {
   "cell_type": "code",
   "execution_count": 4,
   "metadata": {},
   "outputs": [],
   "source": [
    "# course_client = pymongo.MongoClient(course_cluster_uri)\n",
    "db = client['mflix']"
   ]
  },
  {
   "cell_type": "code",
   "execution_count": 5,
   "metadata": {},
   "outputs": [],
   "source": [
    "filters = {}\n",
    "page = 0\n",
    "movies_per_page = 20"
   ]
  },
  {
   "cell_type": "code",
   "execution_count": 8,
   "metadata": {},
   "outputs": [],
   "source": [
    "sort_key = \"tomatoes.viewer.numReviews\"\n",
    "\n",
    "movies = db.movies.find(filters).sort(sort_key, DESCENDING)"
   ]
  },
  {
   "cell_type": "code",
   "execution_count": 9,
   "metadata": {},
   "outputs": [
    {
     "name": "stdout",
     "output_type": "stream",
     "text": [
      "46014\n"
     ]
    }
   ],
   "source": [
    "# count number of total movie documents\n",
    "total_num_movies = movies.count()\n",
    "pprint.pprint(total_num_movies)"
   ]
  },
  {
   "cell_type": "code",
   "execution_count": 10,
   "metadata": {},
   "outputs": [
    {
     "data": {
      "text/plain": [
       "<pymongo.cursor.Cursor at 0x7f602c091128>"
      ]
     },
     "execution_count": 10,
     "metadata": {},
     "output_type": "execute_result"
    }
   ],
   "source": [
    "# limit records based on page number\n",
    "movies.skip(movies_per_page * page) \\\n",
    "               .limit(movies_per_page)"
   ]
  },
  {
   "cell_type": "code",
   "execution_count": 11,
   "metadata": {},
   "outputs": [],
   "source": [
    "movie_list = list(movies)"
   ]
  },
  {
   "cell_type": "code",
   "execution_count": 12,
   "metadata": {},
   "outputs": [
    {
     "data": {
      "text/plain": [
       "20"
      ]
     },
     "execution_count": 12,
     "metadata": {},
     "output_type": "execute_result"
    }
   ],
   "source": [
    "len(movie_list)"
   ]
  },
  {
   "cell_type": "code",
   "execution_count": 13,
   "metadata": {},
   "outputs": [
    {
     "data": {
      "text/plain": [
       "{'_id': ObjectId('573a139af29313caabcf0d74'),\n",
       " 'awards': 'Won 11 Oscars. Another 116 wins & 63 nominations.',\n",
       " 'cast': ['Leonardo DiCaprio', 'Kate Winslet', 'Billy Zane', 'Kathy Bates'],\n",
       " 'comments': [{'_id': '573a139af29313caabcf0d74-Davos Seaworth-1502584252.0',\n",
       "   'date': datetime.datetime(2017, 8, 12, 20, 30, 52),\n",
       "   'email': 'liam_cunningham@gameofthron.es',\n",
       "   'movie_id': ObjectId('573a139af29313caabcf0d74'),\n",
       "   'name': 'Davos Seaworth',\n",
       "   'text': 'Nulla quod dolor amet. Quia perferendis illum nihil consequuntur deleniti a sequi. Quae pariatur nesciunt fugiat corrupti.'},\n",
       "  {'_id': '573a139af29313caabcf0d74-Sherri Marshall-1499099411.0',\n",
       "   'date': datetime.datetime(2017, 7, 3, 12, 30, 11),\n",
       "   'email': 'sherri_marshall@fakegmail.com',\n",
       "   'movie_id': ObjectId('573a139af29313caabcf0d74'),\n",
       "   'name': 'Sherri Marshall',\n",
       "   'text': 'Quibusdam ea minima nihil ducimus cumque. Dicta at eius ipsa similique.'},\n",
       "  {'_id': '573a139af29313caabcf0d74-Talisa Maegyr-1497498383.0',\n",
       "   'date': datetime.datetime(2017, 6, 14, 23, 46, 23),\n",
       "   'email': 'oona_chaplin@gameofthron.es',\n",
       "   'movie_id': ObjectId('573a139af29313caabcf0d74'),\n",
       "   'name': 'Talisa Maegyr',\n",
       "   'text': 'Iste tenetur commodi quae nam adipisci aperiam iusto. Labore blanditiis laborum natus. Deserunt animi dicta occaecati. Saepe nemo qui excepturi corporis.'},\n",
       "  {'_id': '573a139af29313caabcf0d74-Brienne of Tarth-1496687755.0',\n",
       "   'date': datetime.datetime(2017, 6, 5, 14, 35, 55),\n",
       "   'email': 'gwendoline_christie@gameofthron.es',\n",
       "   'movie_id': ObjectId('573a139af29313caabcf0d74'),\n",
       "   'name': 'Brienne of Tarth',\n",
       "   'text': 'Beatae nemo facere quisquam occaecati accusamus error veniam. Vel nostrum cum itaque vitae quae non. Deleniti hic deleniti amet cupiditate doloremque laborum alias.'},\n",
       "  {'_id': '573a139af29313caabcf0d74-Amanda Delgado-1493169115.0',\n",
       "   'date': datetime.datetime(2017, 4, 25, 21, 11, 55),\n",
       "   'email': 'amanda_delgado@fakegmail.com',\n",
       "   'movie_id': ObjectId('573a139af29313caabcf0d74'),\n",
       "   'name': 'Amanda Delgado',\n",
       "   'text': 'Animi illum necessitatibus at quasi voluptas neque. Excepturi reprehenderit nisi exercitationem debitis. Porro vel at quasi laudantium odit laudantium.'},\n",
       "  {'_id': '573a139af29313caabcf0d74-Miranda Brooks-1492177151.0',\n",
       "   'date': datetime.datetime(2017, 4, 14, 9, 39, 11),\n",
       "   'email': 'miranda_brooks@fakegmail.com',\n",
       "   'movie_id': ObjectId('573a139af29313caabcf0d74'),\n",
       "   'name': 'Miranda Brooks',\n",
       "   'text': 'Facilis deleniti autem quas a eos nulla magnam. Beatae perspiciatis in ab mollitia numquam. Quidem odio rem itaque qui vel commodi exercitationem.'},\n",
       "  {'_id': '573a139af29313caabcf0d74-Kristi Lynch-1489703922.0',\n",
       "   'date': datetime.datetime(2017, 3, 16, 18, 38, 42),\n",
       "   'email': 'kristi_lynch@fakegmail.com',\n",
       "   'movie_id': ObjectId('573a139af29313caabcf0d74'),\n",
       "   'name': 'Kristi Lynch',\n",
       "   'text': 'Velit enim maiores cumque facere numquam. Recusandae fugit placeat officiis quas tempora debitis. At illum est excepturi amet. Et sed beatae et repellat.'},\n",
       "  {'_id': '573a139af29313caabcf0d74-Emily Walters-1486126416.0',\n",
       "   'date': datetime.datetime(2017, 2, 3, 7, 53, 36),\n",
       "   'email': 'emily_walters@fakegmail.com',\n",
       "   'movie_id': ObjectId('573a139af29313caabcf0d74'),\n",
       "   'name': 'Emily Walters',\n",
       "   'text': 'Pariatur autem nesciunt illo iste quas consectetur. Assumenda rem id similique amet dolorum distinctio. Quod dicta dolores dolorem. Vitae voluptate temporibus iste neque enim corrupti.'},\n",
       "  {'_id': '573a139af29313caabcf0d74-Andrew Savage-1482008415.0',\n",
       "   'date': datetime.datetime(2016, 12, 17, 16, 0, 15),\n",
       "   'email': 'andrew_savage@fakegmail.com',\n",
       "   'movie_id': ObjectId('573a139af29313caabcf0d74'),\n",
       "   'name': 'Andrew Savage',\n",
       "   'text': 'Quisquam sint quidem quaerat dolorem eligendi eius architecto. Officia eos delectus itaque quam enim eos consequuntur. Amet eos at fugiat.'},\n",
       "  {'_id': '573a139af29313caabcf0d74-Davos Seaworth-1481551533.0',\n",
       "   'date': datetime.datetime(2016, 12, 12, 9, 5, 33),\n",
       "   'email': 'liam_cunningham@gameofthron.es',\n",
       "   'movie_id': ObjectId('573a139af29313caabcf0d74'),\n",
       "   'name': 'Davos Seaworth',\n",
       "   'text': 'Praesentium blanditiis libero sit optio. Corrupti et cum commodi harum. Repudiandae fuga corrupti esse delectus.'}],\n",
       " 'countries': ['USA'],\n",
       " 'directors': ['James Cameron'],\n",
       " 'fullplot': '84 years later, a 101-year-old woman named Rose DeWitt Bukater tells the story to her granddaughter Lizzy Calvert, Brock Lovett, Lewis Bodine, Bobby Buell and Anatoly Mikailavich on the Keldysh about her life set in April 10th 1912, on a ship called Titanic when young Rose boards the departing ship with the upper-class passengers and her mother, Ruth DeWitt Bukater, and her fianc�, Caledon Hockley. Meanwhile, a drifter and artist named Jack Dawson and his best friend Fabrizio De Rossi win third-class tickets to the ship in a game. And she explains the whole story from departure until the death of Titanic on its first and last voyage April 15th, 1912 at 2:20 in the morning.',\n",
       " 'genres': ['Drama', 'Romance'],\n",
       " 'imdb': {'id': 120338, 'rating': 7.7, 'votes': 716392},\n",
       " 'languages': ['English', 'French', 'German', 'Swedish', 'Italian', 'Russian'],\n",
       " 'lastupdated': '2015-09-13 00:41:42.117000000',\n",
       " 'metacritic': 74,\n",
       " 'num_mflix_comments': 389.0,\n",
       " 'plot': 'A seventeen-year-old aristocrat falls in love with a kind, but poor artist aboard the luxurious, ill-fated R.M.S. Titanic.',\n",
       " 'poster': 'http://ia.media-imdb.com/images/M/MV5BMjExNzM0NDM0N15BMl5BanBnXkFtZTcwMzkxOTUwNw@@._V1_SX300.jpg',\n",
       " 'rated': 'PG-13',\n",
       " 'released': datetime.datetime(1997, 12, 19, 0, 0),\n",
       " 'runtime': 194,\n",
       " 'title': 'Titanic',\n",
       " 'tomatoes': {'boxOffice': '$57.9M',\n",
       "  'consensus': 'A mostly unqualified triumph for James Cameron, who offers a dizzying blend of spectacular visuals and old-fashioned melodrama.',\n",
       "  'critic': {'meter': 88, 'numReviews': 178, 'rating': 8.0},\n",
       "  'dvd': datetime.datetime(2012, 9, 10, 0, 0),\n",
       "  'fresh': 157,\n",
       "  'lastUpdated': datetime.datetime(2015, 9, 13, 17, 5, 18),\n",
       "  'production': 'Paramount Pictures',\n",
       "  'rotten': 21,\n",
       "  'viewer': {'meter': 69, 'numReviews': 35792304, 'rating': 3.3},\n",
       "  'website': 'http://www.titanicmovie.com/'},\n",
       " 'type': 'movie',\n",
       " 'writers': ['James Cameron'],\n",
       " 'year': 1997}"
      ]
     },
     "execution_count": 13,
     "metadata": {},
     "output_type": "execute_result"
    }
   ],
   "source": [
    "movie_list[0]"
   ]
  },
  {
   "cell_type": "code",
   "execution_count": 14,
   "metadata": {},
   "outputs": [],
   "source": [
    "page = 1"
   ]
  },
  {
   "cell_type": "code",
   "execution_count": 15,
   "metadata": {},
   "outputs": [],
   "source": [
    "movies = db.movies.find(filters) \\\n",
    "                  .sort(sort_key, DESCENDING) \\\n",
    "                  .skip(movies_per_page * page)"
   ]
  },
  {
   "cell_type": "code",
   "execution_count": 16,
   "metadata": {},
   "outputs": [
    {
     "data": {
      "text/plain": [
       "45994"
      ]
     },
     "execution_count": 16,
     "metadata": {},
     "output_type": "execute_result"
    }
   ],
   "source": [
    "len(list(movies))"
   ]
  },
  {
   "cell_type": "code",
   "execution_count": null,
   "metadata": {},
   "outputs": [],
   "source": []
  }
 ],
 "metadata": {
  "kernelspec": {
   "display_name": "Python [intro-to-mongodb]",
   "language": "python",
   "name": "intro-to-mongodb"
  },
  "language_info": {
   "codemirror_mode": {
    "name": "ipython",
    "version": 3
   },
   "file_extension": ".py",
   "mimetype": "text/x-python",
   "name": "python",
   "nbconvert_exporter": "python",
   "pygments_lexer": "ipython3",
   "version": "3.6.4"
  }
 },
 "nbformat": 4,
 "nbformat_minor": 2
}

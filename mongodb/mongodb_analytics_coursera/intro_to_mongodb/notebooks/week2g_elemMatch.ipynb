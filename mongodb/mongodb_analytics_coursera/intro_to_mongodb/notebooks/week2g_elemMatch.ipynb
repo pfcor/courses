{
 "cells": [
  {
   "cell_type": "code",
   "execution_count": null,
   "metadata": {
    "collapsed": true
   },
   "outputs": [],
   "source": [
    "# When you put a bang (exclamation point) at the beginning of a line, everything that follows \n",
    "# will be executed in your terminal.\n",
    "#\n",
    "# In this case, we're using pip to install the dateparser module.\n",
    "# This module will help us parse datetimes from strings.\n",
    "# !pip install dateparser"
   ]
  },
  {
   "cell_type": "code",
   "execution_count": 1,
   "metadata": {},
   "outputs": [],
   "source": [
    "import pymongo\n",
    "import pprint\n",
    "import dateparser"
   ]
  },
  {
   "cell_type": "code",
   "execution_count": 2,
   "metadata": {},
   "outputs": [],
   "source": [
    "# Replace XXXX with your connection URI from the Atlas UI\n",
    "with open(\"atlas_uri.txt\") as f: course_cluster_uri = f.read()"
   ]
  },
  {
   "cell_type": "code",
   "execution_count": 3,
   "metadata": {},
   "outputs": [],
   "source": [
    "course_client = pymongo.MongoClient(course_cluster_uri)\n",
    "movies = course_client['mflix']['movies']"
   ]
  },
  {
   "cell_type": "code",
   "execution_count": 4,
   "metadata": {},
   "outputs": [
    {
     "name": "stdout",
     "output_type": "stream",
     "text": [
      "{'_id': ObjectId('573a1390f29313caabcd4135'),\n",
      " 'comments': [{'_id': '573a1390f29313caabcd4135-Richard Davis-593338270.0',\n",
      "               'date': datetime.datetime(1988, 10, 20, 4, 11, 10),\n",
      "               'email': 'richard_davis@fakegmail.com',\n",
      "               'movie_id': ObjectId('573a1390f29313caabcd4135'),\n",
      "               'name': 'Richard Davis',\n",
      "               'text': 'Veniam repudiandae neque ipsam temporibus corporis et. '\n",
      "                       'Vitae sed incidunt quaerat odio hic debitis odit. '\n",
      "                       'Ullam perspiciatis suscipit fugiat suscipit.'}]}\n"
     ]
    }
   ],
   "source": [
    "query = {\"comments\":{\"$exists\": True}}\n",
    "projection = {\"comments\": 1}\n",
    "\n",
    "movie = movies.find_one(query, projection)\n",
    "\n",
    "pprint.pprint(movie)"
   ]
  },
  {
   "cell_type": "code",
   "execution_count": 5,
   "metadata": {},
   "outputs": [
    {
     "name": "stdout",
     "output_type": "stream",
     "text": [
      "{'_id': ObjectId('573a1390f29313caabcd54ed'),\n",
      " 'comments': [{'_id': '573a1390f29313caabcd54ed-Tywin Lannister-1337423784.0',\n",
      "               'date': datetime.datetime(2012, 5, 19, 6, 36, 24),\n",
      "               'email': 'charles_dance@gameofthron.es',\n",
      "               'movie_id': ObjectId('573a1390f29313caabcd54ed'),\n",
      "               'name': 'Tywin Lannister',\n",
      "               'text': 'Sapiente tempora non vero officiis assumenda eligendi. '\n",
      "                       'Consequatur iusto qui in possimus animi modi. Id '\n",
      "                       'commodi non ipsam. Ad officia nisi dolor voluptatibus '\n",
      "                       'numquam porro ducimus.'},\n",
      "              {'_id': '573a1390f29313caabcd54ed-Samwell Tarly-572777793.0',\n",
      "               'date': datetime.datetime(1988, 2, 25, 3, 56, 33),\n",
      "               'email': 'john_bradley-west@gameofthron.es',\n",
      "               'movie_id': ObjectId('573a1390f29313caabcd54ed'),\n",
      "               'name': 'Samwell Tarly',\n",
      "               'text': 'Natus enim voluptate dolore. Quo porro ipsum enim. Est '\n",
      "                       'totam sapiente nam vero.'},\n",
      "              {'_id': '573a1390f29313caabcd54ed-Emily Ellis-557039795.0',\n",
      "               'date': datetime.datetime(1987, 8, 27, 1, 16, 35),\n",
      "               'email': 'emily_ellis@fakegmail.com',\n",
      "               'movie_id': ObjectId('573a1390f29313caabcd54ed'),\n",
      "               'name': 'Emily Ellis',\n",
      "               'text': 'Facere magnam quibusdam impedit sed expedita neque. '\n",
      "                       'Eos rem minus blanditiis non id quibusdam quia. Nam '\n",
      "                       'harum nam iure voluptatem doloribus quis ut incidunt. '\n",
      "                       'Maxime accusamus veniam ut quas ipsam.'}]}\n"
     ]
    }
   ],
   "source": [
    "query = {\"comments.name\": \"Samwell Tarly\"}\n",
    "\n",
    "movie = movies.find_one(query, projection)\n",
    "\n",
    "pprint.pprint(movie)"
   ]
  },
  {
   "cell_type": "code",
   "execution_count": 6,
   "metadata": {},
   "outputs": [
    {
     "name": "stdout",
     "output_type": "stream",
     "text": [
      "{'_id': ObjectId('573a1390f29313caabcd54ed'),\n",
      " 'comments': [{'_id': '573a1390f29313caabcd54ed-Tywin Lannister-1337423784.0',\n",
      "               'date': datetime.datetime(2012, 5, 19, 6, 36, 24),\n",
      "               'email': 'charles_dance@gameofthron.es',\n",
      "               'movie_id': ObjectId('573a1390f29313caabcd54ed'),\n",
      "               'name': 'Tywin Lannister',\n",
      "               'text': 'Sapiente tempora non vero officiis assumenda eligendi. '\n",
      "                       'Consequatur iusto qui in possimus animi modi. Id '\n",
      "                       'commodi non ipsam. Ad officia nisi dolor voluptatibus '\n",
      "                       'numquam porro ducimus.'},\n",
      "              {'_id': '573a1390f29313caabcd54ed-Samwell Tarly-572777793.0',\n",
      "               'date': datetime.datetime(1988, 2, 25, 3, 56, 33),\n",
      "               'email': 'john_bradley-west@gameofthron.es',\n",
      "               'movie_id': ObjectId('573a1390f29313caabcd54ed'),\n",
      "               'name': 'Samwell Tarly',\n",
      "               'text': 'Natus enim voluptate dolore. Quo porro ipsum enim. Est '\n",
      "                       'totam sapiente nam vero.'},\n",
      "              {'_id': '573a1390f29313caabcd54ed-Emily Ellis-557039795.0',\n",
      "               'date': datetime.datetime(1987, 8, 27, 1, 16, 35),\n",
      "               'email': 'emily_ellis@fakegmail.com',\n",
      "               'movie_id': ObjectId('573a1390f29313caabcd54ed'),\n",
      "               'name': 'Emily Ellis',\n",
      "               'text': 'Facere magnam quibusdam impedit sed expedita neque. '\n",
      "                       'Eos rem minus blanditiis non id quibusdam quia. Nam '\n",
      "                       'harum nam iure voluptatem doloribus quis ut incidunt. '\n",
      "                       'Maxime accusamus veniam ut quas ipsam.'}]}\n"
     ]
    }
   ],
   "source": [
    "query = {\n",
    "  \"comments.name\": \"Samwell Tarly\",\n",
    "  \"comments.date\": {\n",
    "    \"$lt\": dateparser.parse(\"1995-01-01\")\n",
    "  }\n",
    "}\n",
    "\n",
    "movie = movies.find_one(query, projection)\n",
    "\n",
    "pprint.pprint(movie)"
   ]
  },
  {
   "cell_type": "code",
   "execution_count": 7,
   "metadata": {},
   "outputs": [
    {
     "name": "stdout",
     "output_type": "stream",
     "text": [
      "[{'_id': ObjectId('573a1391f29313caabcd8f9a'),\n",
      "  'comments': [{'_id': '573a1391f29313caabcd8f9a-Kelsey Smith-1367246967.0',\n",
      "                'date': datetime.datetime(2013, 4, 29, 10, 49, 27),\n",
      "                'email': 'kelsey_smith@fakegmail.com',\n",
      "                'movie_id': ObjectId('573a1391f29313caabcd8f9a'),\n",
      "                'name': 'Kelsey Smith',\n",
      "                'text': 'Modi minima necessitatibus beatae deleniti suscipit '\n",
      "                        'rerum. Nulla blanditiis officiis sed at vel repellat '\n",
      "                        'sequi. Fuga ipsam molestiae architecto nulla qui '\n",
      "                        'aut.'},\n",
      "               {'_id': '573a1391f29313caabcd8f9a-Samwell Tarly-961928262.0',\n",
      "                'date': datetime.datetime(2000, 6, 25, 6, 17, 42),\n",
      "                'email': 'john_bradley-west@gameofthron.es',\n",
      "                'movie_id': ObjectId('573a1391f29313caabcd8f9a'),\n",
      "                'name': 'Samwell Tarly',\n",
      "                'text': 'Incidunt placeat rem molestiae optio laborum. At '\n",
      "                        'necessitatibus impedit ratione iure voluptates nobis '\n",
      "                        'explicabo. In quae pariatur repellat nobis. '\n",
      "                        'Exercitationem ullam eveniet non.'},\n",
      "               {'_id': '573a1391f29313caabcd8f9a-Kristen Schmidt-489082166.0',\n",
      "                'date': datetime.datetime(1985, 7, 1, 12, 9, 26),\n",
      "                'email': 'kristen_schmidt@fakegmail.com',\n",
      "                'movie_id': ObjectId('573a1391f29313caabcd8f9a'),\n",
      "                'name': 'Kristen Schmidt',\n",
      "                'text': 'Sit quam eos at eligendi quis ex ipsam. Ab alias cum '\n",
      "                        'ex ipsam. Reprehenderit harum incidunt iusto veniam '\n",
      "                        'omnis est.'}]}]\n"
     ]
    }
   ],
   "source": [
    "movie = movies.find(query, projection).skip(1).limit(1)\n",
    "\n",
    "pprint.pprint(list(movie))"
   ]
  },
  {
   "cell_type": "code",
   "execution_count": 8,
   "metadata": {},
   "outputs": [
    {
     "name": "stdout",
     "output_type": "stream",
     "text": [
      "[{'_id': ObjectId('573a1390f29313caabcd54ed'),\n",
      "  'comments': [{'_id': '573a1390f29313caabcd54ed-Tywin Lannister-1337423784.0',\n",
      "                'date': datetime.datetime(2012, 5, 19, 6, 36, 24),\n",
      "                'email': 'charles_dance@gameofthron.es',\n",
      "                'movie_id': ObjectId('573a1390f29313caabcd54ed'),\n",
      "                'name': 'Tywin Lannister',\n",
      "                'text': 'Sapiente tempora non vero officiis assumenda '\n",
      "                        'eligendi. Consequatur iusto qui in possimus animi '\n",
      "                        'modi. Id commodi non ipsam. Ad officia nisi dolor '\n",
      "                        'voluptatibus numquam porro ducimus.'},\n",
      "               {'_id': '573a1390f29313caabcd54ed-Samwell Tarly-572777793.0',\n",
      "                'date': datetime.datetime(1988, 2, 25, 3, 56, 33),\n",
      "                'email': 'john_bradley-west@gameofthron.es',\n",
      "                'movie_id': ObjectId('573a1390f29313caabcd54ed'),\n",
      "                'name': 'Samwell Tarly',\n",
      "                'text': 'Natus enim voluptate dolore. Quo porro ipsum enim. '\n",
      "                        'Est totam sapiente nam vero.'},\n",
      "               {'_id': '573a1390f29313caabcd54ed-Emily Ellis-557039795.0',\n",
      "                'date': datetime.datetime(1987, 8, 27, 1, 16, 35),\n",
      "                'email': 'emily_ellis@fakegmail.com',\n",
      "                'movie_id': ObjectId('573a1390f29313caabcd54ed'),\n",
      "                'name': 'Emily Ellis',\n",
      "                'text': 'Facere magnam quibusdam impedit sed expedita neque. '\n",
      "                        'Eos rem minus blanditiis non id quibusdam quia. Nam '\n",
      "                        'harum nam iure voluptatem doloribus quis ut incidunt. '\n",
      "                        'Maxime accusamus veniam ut quas ipsam.'}]},\n",
      " {'_id': ObjectId('573a1391f29313caabcd91dc'),\n",
      "  'comments': [{'_id': '573a1391f29313caabcd91dc-Patricia Good-1254693496.0',\n",
      "                'date': datetime.datetime(2009, 10, 4, 17, 58, 16),\n",
      "                'email': 'patricia_good@fakegmail.com',\n",
      "                'movie_id': ObjectId('573a1391f29313caabcd91dc'),\n",
      "                'name': 'Patricia Good',\n",
      "                'text': 'Laudantium sed amet sed sint blanditiis facilis. '\n",
      "                        'Alias omnis sequi pariatur voluptates repudiandae '\n",
      "                        'dicta. Dignissimos natus corporis voluptatum impedit '\n",
      "                        'commodi.'},\n",
      "               {'_id': '573a1391f29313caabcd91dc-Samwell Tarly-766239623.0',\n",
      "                'date': datetime.datetime(1994, 4, 13, 8, 20, 23),\n",
      "                'email': 'john_bradley-west@gameofthron.es',\n",
      "                'movie_id': ObjectId('573a1391f29313caabcd91dc'),\n",
      "                'name': 'Samwell Tarly',\n",
      "                'text': 'Alias qui voluptate facilis id. Odit ducimus nulla '\n",
      "                        'excepturi. Veniam quam voluptatem recusandae vitae '\n",
      "                        'perspiciatis. Inventore ad laborum amet magnam '\n",
      "                        'voluptatum.'},\n",
      "               {'_id': '573a1391f29313caabcd91dc-Megan Richards-345323060.0',\n",
      "                'date': datetime.datetime(1980, 12, 10, 14, 4, 20),\n",
      "                'email': 'megan_richards@fakegmail.com',\n",
      "                'movie_id': ObjectId('573a1391f29313caabcd91dc'),\n",
      "                'name': 'Megan Richards',\n",
      "                'text': 'Nisi rerum quasi nemo eaque incidunt optio nisi. '\n",
      "                        'Eveniet delectus ex iure vero cum quae nisi. Numquam '\n",
      "                        'repudiandae similique doloremque.'}]}]\n"
     ]
    }
   ],
   "source": [
    "betterQuery = {\n",
    "  \"comments\": {\n",
    "    \"$elemMatch\": {\n",
    "      \"name\": \"Samwell Tarly\",\n",
    "      \"date\": {\n",
    "        \"$lt\": dateparser.parse(\"1995-01-01\")\n",
    "      }\n",
    "    }\n",
    "  }\n",
    "}\n",
    "\n",
    "correctMovies = list(movies.find(betterQuery, projection).limit(2))\n",
    "\n",
    "pprint.pprint(correctMovies)"
   ]
  },
  {
   "cell_type": "code",
   "execution_count": null,
   "metadata": {},
   "outputs": [],
   "source": []
  }
 ],
 "metadata": {
  "kernelspec": {
   "display_name": "Python [intro-to-mongodb]",
   "language": "python",
   "name": "intro-to-mongodb"
  },
  "language_info": {
   "codemirror_mode": {
    "name": "ipython",
    "version": 3
   },
   "file_extension": ".py",
   "mimetype": "text/x-python",
   "name": "python",
   "nbconvert_exporter": "python",
   "pygments_lexer": "ipython3",
   "version": "3.6.4"
  }
 },
 "nbformat": 4,
 "nbformat_minor": 2
}

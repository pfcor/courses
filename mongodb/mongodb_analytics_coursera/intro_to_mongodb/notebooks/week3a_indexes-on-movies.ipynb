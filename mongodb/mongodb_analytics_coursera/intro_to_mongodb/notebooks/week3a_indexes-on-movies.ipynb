{
 "cells": [
  {
   "cell_type": "markdown",
   "metadata": {},
   "source": [
    "Connect to MongoDB Atlas\n",
    "------------------------"
   ]
  },
  {
   "cell_type": "code",
   "execution_count": 1,
   "metadata": {},
   "outputs": [],
   "source": [
    "import pymongo\n",
    "import pprint"
   ]
  },
  {
   "cell_type": "code",
   "execution_count": 2,
   "metadata": {},
   "outputs": [],
   "source": [
    "# Replace XXXX with your connection URI from the Atlas UI\n",
    "with open(\"atlas_uri.txt\") as f: uri = f.read()\n",
    "mc = pymongo.MongoClient(uri)\n",
    "mflix = mc.mflix"
   ]
  },
  {
   "cell_type": "markdown",
   "metadata": {},
   "source": [
    "List Indexes\n",
    "-----------"
   ]
  },
  {
   "cell_type": "code",
   "execution_count": 3,
   "metadata": {
    "scrolled": true
   },
   "outputs": [
    {
     "name": "stdout",
     "output_type": "stream",
     "text": [
      "{'_id_': {'key': [('_id', 1)], 'ns': 'mflix.movies', 'v': 2},\n",
      " 'genres_1_tomatoes.viewer.numReviews_-1': {'key': [('genres', 1),\n",
      "                                                    ('tomatoes.viewer.numReviews',\n",
      "                                                     -1)],\n",
      "                                            'ns': 'mflix.movies',\n",
      "                                            'v': 2},\n",
      " 'title_text_cast_text_directors_text': {'default_language': 'english',\n",
      "                                         'key': [('_fts', 'text'),\n",
      "                                                 ('_ftsx', 1)],\n",
      "                                         'language_override': 'language',\n",
      "                                         'ns': 'mflix.movies',\n",
      "                                         'textIndexVersion': 3,\n",
      "                                         'v': 2,\n",
      "                                         'weights': {'cast': 1,\n",
      "                                                     'directors': 1,\n",
      "                                                     'title': 1}},\n",
      " 'tomatoes.viewer.numReviews_-1': {'key': [('tomatoes.viewer.numReviews', -1)],\n",
      "                                   'ns': 'mflix.movies',\n",
      "                                   'v': 2}}\n"
     ]
    }
   ],
   "source": [
    "# get list of indexes on movies collection\n",
    "pprint.pprint(mflix.movies.index_information())"
   ]
  },
  {
   "cell_type": "code",
   "execution_count": 4,
   "metadata": {},
   "outputs": [
    {
     "name": "stdout",
     "output_type": "stream",
     "text": [
      "{'_id': ObjectId('573a1390f29313caabcd4132'),\n",
      " 'cast': ['Carmencita'],\n",
      " 'countries': ['USA'],\n",
      " 'directors': ['William K.L. Dickson'],\n",
      " 'fullplot': 'Performing on what looks like a small wooden stage, wearing a '\n",
      "             'dress with a hoop skirt and white high-heeled pumps, Carmencita '\n",
      "             'does a dance with kicks and twirls, a smile always on her face.',\n",
      " 'genres': ['Documentary', 'Short'],\n",
      " 'imdb': {'id': 1, 'rating': 5.9, 'votes': 1032},\n",
      " 'lastupdated': '2015-08-26 00:03:45.040000000',\n",
      " 'plot': 'Performing on what looks like a small wooden stage, wearing a dress '\n",
      "         'with a hoop skirt and white high-heeled pumps, Carmencita does a '\n",
      "         'dance with kicks and twirls, a smile always on her face.',\n",
      " 'poster': 'http://ia.media-imdb.com/images/M/MV5BMjAzNDEwMzk3OV5BMl5BanBnXkFtZTcwOTk4OTM5Ng@@._V1_SX300.jpg',\n",
      " 'rated': 'NOT RATED',\n",
      " 'runtime': 1,\n",
      " 'title': 'Carmencita',\n",
      " 'type': 'movie',\n",
      " 'year': 1894}\n"
     ]
    }
   ],
   "source": [
    "pprint.pprint(mflix.movies.find_one())"
   ]
  },
  {
   "cell_type": "markdown",
   "metadata": {},
   "source": [
    "Explain a Query\n",
    "--------------"
   ]
  },
  {
   "cell_type": "code",
   "execution_count": 5,
   "metadata": {
    "scrolled": true
   },
   "outputs": [
    {
     "data": {
      "text/plain": [
       "{'executionStats': {'executionStages': {'advanced': 35519,\n",
       "   'alreadyHasObj': 0,\n",
       "   'docsExamined': 35519,\n",
       "   'executionTimeMillisEstimate': 51,\n",
       "   'inputStage': {'advanced': 35519,\n",
       "    'direction': 'forward',\n",
       "    'dupsDropped': 0,\n",
       "    'dupsTested': 0,\n",
       "    'executionTimeMillisEstimate': 10,\n",
       "    'indexBounds': {'tomatoes.viewer.numReviews': ['[inf.0, 10)']},\n",
       "    'indexName': 'tomatoes.viewer.numReviews_-1',\n",
       "    'indexVersion': 2,\n",
       "    'invalidates': 0,\n",
       "    'isEOF': 1,\n",
       "    'isMultiKey': False,\n",
       "    'isPartial': False,\n",
       "    'isSparse': False,\n",
       "    'isUnique': False,\n",
       "    'keyPattern': {'tomatoes.viewer.numReviews': -1},\n",
       "    'keysExamined': 35519,\n",
       "    'multiKeyPaths': {'tomatoes.viewer.numReviews': []},\n",
       "    'nReturned': 35519,\n",
       "    'needTime': 0,\n",
       "    'needYield': 0,\n",
       "    'restoreState': 277,\n",
       "    'saveState': 277,\n",
       "    'seeks': 1,\n",
       "    'seenInvalidated': 0,\n",
       "    'stage': 'IXSCAN',\n",
       "    'works': 35520},\n",
       "   'invalidates': 0,\n",
       "   'isEOF': 1,\n",
       "   'nReturned': 35519,\n",
       "   'needTime': 0,\n",
       "   'needYield': 0,\n",
       "   'restoreState': 277,\n",
       "   'saveState': 277,\n",
       "   'stage': 'FETCH',\n",
       "   'works': 35520},\n",
       "  'executionSuccess': True,\n",
       "  'executionTimeMillis': 49,\n",
       "  'nReturned': 35519,\n",
       "  'totalDocsExamined': 35519,\n",
       "  'totalKeysExamined': 35519},\n",
       " 'ok': 1.0,\n",
       " 'queryPlanner': {'indexFilterSet': False,\n",
       "  'namespace': 'mflix.movies',\n",
       "  'parsedQuery': {'tomatoes.viewer.numReviews': {'$gt': 10}},\n",
       "  'plannerVersion': 1,\n",
       "  'rejectedPlans': [],\n",
       "  'winningPlan': {'inputStage': {'direction': 'forward',\n",
       "    'indexBounds': {'tomatoes.viewer.numReviews': ['[inf.0, 10)']},\n",
       "    'indexName': 'tomatoes.viewer.numReviews_-1',\n",
       "    'indexVersion': 2,\n",
       "    'isMultiKey': False,\n",
       "    'isPartial': False,\n",
       "    'isSparse': False,\n",
       "    'isUnique': False,\n",
       "    'keyPattern': {'tomatoes.viewer.numReviews': -1},\n",
       "    'multiKeyPaths': {'tomatoes.viewer.numReviews': []},\n",
       "    'stage': 'IXSCAN'},\n",
       "   'stage': 'FETCH'}},\n",
       " 'serverInfo': {'gitVersion': '078f28920cb24de0dd479b5ea6c66c644f6326e9',\n",
       "  'host': 'cluster0-shard-00-00-siwhm.mongodb.net',\n",
       "  'port': 27017,\n",
       "  'version': '3.4.10'}}"
      ]
     },
     "execution_count": 5,
     "metadata": {},
     "output_type": "execute_result"
    }
   ],
   "source": [
    "explain = {\n",
    "    \"explain\": {\n",
    "        \"find\": \"movies\",\n",
    "        \"filter\": {\n",
    "            \"tomatoes.viewer.numReviews\": {\"$gt\": 10}\n",
    "        },\n",
    "    },\n",
    "    \"verbosity\": \"executionStats\"\n",
    "}\n",
    "mflix.command(explain)"
   ]
  },
  {
   "cell_type": "markdown",
   "metadata": {},
   "source": [
    "Text Search vs Exact Match\n",
    "-------------------------"
   ]
  },
  {
   "cell_type": "code",
   "execution_count": null,
   "metadata": {
    "collapsed": true
   },
   "outputs": [],
   "source": [
    "filters = {\"title\": \"Titanic\"}\n",
    "for m in mflix.movies.find(filters):\n",
    "    pprint.pprint(m['title'])"
   ]
  },
  {
   "cell_type": "code",
   "execution_count": null,
   "metadata": {
    "collapsed": true
   },
   "outputs": [],
   "source": [
    "filters = { \"$text\": { \n",
    "    \"$search\": \"titanic\"\n",
    "}} \n",
    "for m in mflix.movies.find(filters):\n",
    "    pprint.pprint(m['title'])\n",
    "    pprint.pprint(m['cast'])\n",
    "    pprint.pprint(m.get('directors', \"\"))\n",
    "    pprint.pprint(\"======\")"
   ]
  },
  {
   "cell_type": "markdown",
   "metadata": {},
   "source": [
    "Create an Index\n",
    "--------------"
   ]
  },
  {
   "cell_type": "code",
   "execution_count": null,
   "metadata": {
    "collapsed": true
   },
   "outputs": [],
   "source": [
    "mflix.movies.create_index([(\"countries\", pymongo.ASCENDING)])"
   ]
  }
 ],
 "metadata": {
  "kernelspec": {
   "display_name": "Python [intro-to-mongodb]",
   "language": "python",
   "name": "intro-to-mongodb"
  },
  "language_info": {
   "codemirror_mode": {
    "name": "ipython",
    "version": 3
   },
   "file_extension": ".py",
   "mimetype": "text/x-python",
   "name": "python",
   "nbconvert_exporter": "python",
   "pygments_lexer": "ipython3",
   "version": "3.6.4"
  }
 },
 "nbformat": 4,
 "nbformat_minor": 2
}

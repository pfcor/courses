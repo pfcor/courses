{
 "cells": [
  {
   "cell_type": "markdown",
   "metadata": {},
   "source": [
    "# Introduction to DataFrames\n",
    "**[Bogumił Kamiński](http://bogumilkaminski.pl/about/), Dec 5, 2017**\n",
    "\n",
    "A brief introduction to basic usage of `DataFrames`. Tested under `DataFrames` master on 2017-12-05.\n",
    "I will try to keep it up to date as the package evolves."
   ]
  },
  {
   "cell_type": "code",
   "execution_count": 1,
   "metadata": {
    "collapsed": false
   },
   "outputs": [],
   "source": [
    "using DataFrames # load package\n",
    "srand(1);"
   ]
  },
  {
   "cell_type": "markdown",
   "metadata": {},
   "source": [
    "## Manipulating rows of DataFrame"
   ]
  },
  {
   "cell_type": "markdown",
   "metadata": {},
   "source": [
    "### Reordering rows"
   ]
  },
  {
   "cell_type": "code",
   "execution_count": 2,
   "metadata": {
    "collapsed": false
   },
   "outputs": [
    {
     "data": {
      "text/html": [
       "<table class=\"data-frame\"><thead><tr><th></th><th>id</th><th>x</th><th>y</th></tr></thead><tbody><tr><th>1</th><td>1</td><td>0.236033</td><td>0.0</td></tr><tr><th>2</th><td>2</td><td>0.346517</td><td>0.0</td></tr><tr><th>3</th><td>3</td><td>0.312707</td><td>0.0</td></tr><tr><th>4</th><td>4</td><td>0.00790928</td><td>0.0</td></tr><tr><th>5</th><td>5</td><td>0.488613</td><td>0.0</td></tr><tr><th>6</th><td>6</td><td>0.210968</td><td>1.0</td></tr><tr><th>7</th><td>7</td><td>0.951916</td><td>1.0</td></tr><tr><th>8</th><td>8</td><td>0.999905</td><td>1.0</td></tr><tr><th>9</th><td>9</td><td>0.251662</td><td>1.0</td></tr><tr><th>10</th><td>10</td><td>0.986666</td><td>1.0</td></tr></tbody></table>"
      ],
      "text/plain": [
       "10×3 DataFrames.DataFrame\n",
       "│ Row │ id │ x          │ y   │\n",
       "├─────┼────┼────────────┼─────┤\n",
       "│ 1   │ 1  │ 0.236033   │ 0.0 │\n",
       "│ 2   │ 2  │ 0.346517   │ 0.0 │\n",
       "│ 3   │ 3  │ 0.312707   │ 0.0 │\n",
       "│ 4   │ 4  │ 0.00790928 │ 0.0 │\n",
       "│ 5   │ 5  │ 0.488613   │ 0.0 │\n",
       "│ 6   │ 6  │ 0.210968   │ 1.0 │\n",
       "│ 7   │ 7  │ 0.951916   │ 1.0 │\n",
       "│ 8   │ 8  │ 0.999905   │ 1.0 │\n",
       "│ 9   │ 9  │ 0.251662   │ 1.0 │\n",
       "│ 10  │ 10 │ 0.986666   │ 1.0 │"
      ]
     },
     "execution_count": 2,
     "metadata": {},
     "output_type": "execute_result"
    }
   ],
   "source": [
    "x = DataFrame(id=1:10, x = rand(10), y = [zeros(5); ones(5)]) # and we hope that x[:x] is not sorted :)"
   ]
  },
  {
   "cell_type": "code",
   "execution_count": 3,
   "metadata": {
    "collapsed": false
   },
   "outputs": [
    {
     "data": {
      "text/html": [
       "<table class=\"data-frame\"><thead><tr><th></th><th>id</th><th>x</th><th>y</th></tr></thead><tbody><tr><th>1</th><td>4</td><td>0.00790928</td><td>0.0</td></tr><tr><th>2</th><td>6</td><td>0.210968</td><td>1.0</td></tr><tr><th>3</th><td>1</td><td>0.236033</td><td>0.0</td></tr><tr><th>4</th><td>9</td><td>0.251662</td><td>1.0</td></tr><tr><th>5</th><td>3</td><td>0.312707</td><td>0.0</td></tr><tr><th>6</th><td>2</td><td>0.346517</td><td>0.0</td></tr><tr><th>7</th><td>5</td><td>0.488613</td><td>0.0</td></tr><tr><th>8</th><td>7</td><td>0.951916</td><td>1.0</td></tr><tr><th>9</th><td>10</td><td>0.986666</td><td>1.0</td></tr><tr><th>10</th><td>8</td><td>0.999905</td><td>1.0</td></tr></tbody></table>"
      ],
      "text/plain": [
       "10×3 DataFrames.DataFrame\n",
       "│ Row │ id │ x          │ y   │\n",
       "├─────┼────┼────────────┼─────┤\n",
       "│ 1   │ 4  │ 0.00790928 │ 0.0 │\n",
       "│ 2   │ 6  │ 0.210968   │ 1.0 │\n",
       "│ 3   │ 1  │ 0.236033   │ 0.0 │\n",
       "│ 4   │ 9  │ 0.251662   │ 1.0 │\n",
       "│ 5   │ 3  │ 0.312707   │ 0.0 │\n",
       "│ 6   │ 2  │ 0.346517   │ 0.0 │\n",
       "│ 7   │ 5  │ 0.488613   │ 0.0 │\n",
       "│ 8   │ 7  │ 0.951916   │ 1.0 │\n",
       "│ 9   │ 10 │ 0.986666   │ 1.0 │\n",
       "│ 10  │ 8  │ 0.999905   │ 1.0 │"
      ]
     },
     "execution_count": 3,
     "metadata": {},
     "output_type": "execute_result"
    }
   ],
   "source": [
    "sort!(x, cols=:x) # sort x in place"
   ]
  },
  {
   "cell_type": "code",
   "execution_count": 4,
   "metadata": {
    "collapsed": false
   },
   "outputs": [
    {
     "data": {
      "text/html": [
       "<table class=\"data-frame\"><thead><tr><th></th><th>id</th><th>x</th><th>y</th></tr></thead><tbody><tr><th>1</th><td>1</td><td>0.236033</td><td>0.0</td></tr><tr><th>2</th><td>2</td><td>0.346517</td><td>0.0</td></tr><tr><th>3</th><td>3</td><td>0.312707</td><td>0.0</td></tr><tr><th>4</th><td>4</td><td>0.00790928</td><td>0.0</td></tr><tr><th>5</th><td>5</td><td>0.488613</td><td>0.0</td></tr><tr><th>6</th><td>6</td><td>0.210968</td><td>1.0</td></tr><tr><th>7</th><td>7</td><td>0.951916</td><td>1.0</td></tr><tr><th>8</th><td>8</td><td>0.999905</td><td>1.0</td></tr><tr><th>9</th><td>9</td><td>0.251662</td><td>1.0</td></tr><tr><th>10</th><td>10</td><td>0.986666</td><td>1.0</td></tr></tbody></table>"
      ],
      "text/plain": [
       "10×3 DataFrames.DataFrame\n",
       "│ Row │ id │ x          │ y   │\n",
       "├─────┼────┼────────────┼─────┤\n",
       "│ 1   │ 1  │ 0.236033   │ 0.0 │\n",
       "│ 2   │ 2  │ 0.346517   │ 0.0 │\n",
       "│ 3   │ 3  │ 0.312707   │ 0.0 │\n",
       "│ 4   │ 4  │ 0.00790928 │ 0.0 │\n",
       "│ 5   │ 5  │ 0.488613   │ 0.0 │\n",
       "│ 6   │ 6  │ 0.210968   │ 1.0 │\n",
       "│ 7   │ 7  │ 0.951916   │ 1.0 │\n",
       "│ 8   │ 8  │ 0.999905   │ 1.0 │\n",
       "│ 9   │ 9  │ 0.251662   │ 1.0 │\n",
       "│ 10  │ 10 │ 0.986666   │ 1.0 │"
      ]
     },
     "execution_count": 4,
     "metadata": {},
     "output_type": "execute_result"
    }
   ],
   "source": [
    "y = sort(x, cols=:id) # new DataFrame"
   ]
  },
  {
   "cell_type": "code",
   "execution_count": 5,
   "metadata": {
    "collapsed": false
   },
   "outputs": [
    {
     "data": {
      "text/html": [
       "<table class=\"data-frame\"><thead><tr><th></th><th>id</th><th>x</th><th>y</th></tr></thead><tbody><tr><th>1</th><td>6</td><td>0.210968</td><td>1.0</td></tr><tr><th>2</th><td>9</td><td>0.251662</td><td>1.0</td></tr><tr><th>3</th><td>7</td><td>0.951916</td><td>1.0</td></tr><tr><th>4</th><td>10</td><td>0.986666</td><td>1.0</td></tr><tr><th>5</th><td>8</td><td>0.999905</td><td>1.0</td></tr><tr><th>6</th><td>4</td><td>0.00790928</td><td>0.0</td></tr><tr><th>7</th><td>1</td><td>0.236033</td><td>0.0</td></tr><tr><th>8</th><td>3</td><td>0.312707</td><td>0.0</td></tr><tr><th>9</th><td>2</td><td>0.346517</td><td>0.0</td></tr><tr><th>10</th><td>5</td><td>0.488613</td><td>0.0</td></tr></tbody></table>"
      ],
      "text/plain": [
       "10×3 DataFrames.DataFrame\n",
       "│ Row │ id │ x          │ y   │\n",
       "├─────┼────┼────────────┼─────┤\n",
       "│ 1   │ 6  │ 0.210968   │ 1.0 │\n",
       "│ 2   │ 9  │ 0.251662   │ 1.0 │\n",
       "│ 3   │ 7  │ 0.951916   │ 1.0 │\n",
       "│ 4   │ 10 │ 0.986666   │ 1.0 │\n",
       "│ 5   │ 8  │ 0.999905   │ 1.0 │\n",
       "│ 6   │ 4  │ 0.00790928 │ 0.0 │\n",
       "│ 7   │ 1  │ 0.236033   │ 0.0 │\n",
       "│ 8   │ 3  │ 0.312707   │ 0.0 │\n",
       "│ 9   │ 2  │ 0.346517   │ 0.0 │\n",
       "│ 10  │ 5  │ 0.488613   │ 0.0 │"
      ]
     },
     "execution_count": 5,
     "metadata": {},
     "output_type": "execute_result"
    }
   ],
   "source": [
    "sort(x, cols = (:y, :x), rev=(true, false))"
   ]
  },
  {
   "cell_type": "code",
   "execution_count": 6,
   "metadata": {
    "collapsed": false
   },
   "outputs": [
    {
     "data": {
      "text/html": [
       "<table class=\"data-frame\"><thead><tr><th></th><th>id</th><th>x</th><th>y</th></tr></thead><tbody><tr><th>1</th><td>6</td><td>0.210968</td><td>1.0</td></tr><tr><th>2</th><td>9</td><td>0.251662</td><td>1.0</td></tr><tr><th>3</th><td>7</td><td>0.951916</td><td>1.0</td></tr><tr><th>4</th><td>10</td><td>0.986666</td><td>1.0</td></tr><tr><th>5</th><td>8</td><td>0.999905</td><td>1.0</td></tr><tr><th>6</th><td>4</td><td>0.00790928</td><td>0.0</td></tr><tr><th>7</th><td>1</td><td>0.236033</td><td>0.0</td></tr><tr><th>8</th><td>3</td><td>0.312707</td><td>0.0</td></tr><tr><th>9</th><td>2</td><td>0.346517</td><td>0.0</td></tr><tr><th>10</th><td>5</td><td>0.488613</td><td>0.0</td></tr></tbody></table>"
      ],
      "text/plain": [
       "10×3 DataFrames.DataFrame\n",
       "│ Row │ id │ x          │ y   │\n",
       "├─────┼────┼────────────┼─────┤\n",
       "│ 1   │ 6  │ 0.210968   │ 1.0 │\n",
       "│ 2   │ 9  │ 0.251662   │ 1.0 │\n",
       "│ 3   │ 7  │ 0.951916   │ 1.0 │\n",
       "│ 4   │ 10 │ 0.986666   │ 1.0 │\n",
       "│ 5   │ 8  │ 0.999905   │ 1.0 │\n",
       "│ 6   │ 4  │ 0.00790928 │ 0.0 │\n",
       "│ 7   │ 1  │ 0.236033   │ 0.0 │\n",
       "│ 8   │ 3  │ 0.312707   │ 0.0 │\n",
       "│ 9   │ 2  │ 0.346517   │ 0.0 │\n",
       "│ 10  │ 5  │ 0.488613   │ 0.0 │"
      ]
     },
     "execution_count": 6,
     "metadata": {},
     "output_type": "execute_result"
    }
   ],
   "source": [
    "sort(x, cols = (order(:y, rev=true), :x)) # the same as above"
   ]
  },
  {
   "cell_type": "code",
   "execution_count": 7,
   "metadata": {
    "collapsed": false
   },
   "outputs": [
    {
     "data": {
      "text/html": [
       "<table class=\"data-frame\"><thead><tr><th></th><th>id</th><th>x</th><th>y</th></tr></thead><tbody><tr><th>1</th><td>6</td><td>0.210968</td><td>1.0</td></tr><tr><th>2</th><td>9</td><td>0.251662</td><td>1.0</td></tr><tr><th>3</th><td>7</td><td>0.951916</td><td>1.0</td></tr><tr><th>4</th><td>10</td><td>0.986666</td><td>1.0</td></tr><tr><th>5</th><td>8</td><td>0.999905</td><td>1.0</td></tr><tr><th>6</th><td>4</td><td>0.00790928</td><td>0.0</td></tr><tr><th>7</th><td>1</td><td>0.236033</td><td>0.0</td></tr><tr><th>8</th><td>3</td><td>0.312707</td><td>0.0</td></tr><tr><th>9</th><td>2</td><td>0.346517</td><td>0.0</td></tr><tr><th>10</th><td>5</td><td>0.488613</td><td>0.0</td></tr></tbody></table>"
      ],
      "text/plain": [
       "10×3 DataFrames.DataFrame\n",
       "│ Row │ id │ x          │ y   │\n",
       "├─────┼────┼────────────┼─────┤\n",
       "│ 1   │ 6  │ 0.210968   │ 1.0 │\n",
       "│ 2   │ 9  │ 0.251662   │ 1.0 │\n",
       "│ 3   │ 7  │ 0.951916   │ 1.0 │\n",
       "│ 4   │ 10 │ 0.986666   │ 1.0 │\n",
       "│ 5   │ 8  │ 0.999905   │ 1.0 │\n",
       "│ 6   │ 4  │ 0.00790928 │ 0.0 │\n",
       "│ 7   │ 1  │ 0.236033   │ 0.0 │\n",
       "│ 8   │ 3  │ 0.312707   │ 0.0 │\n",
       "│ 9   │ 2  │ 0.346517   │ 0.0 │\n",
       "│ 10  │ 5  │ 0.488613   │ 0.0 │"
      ]
     },
     "execution_count": 7,
     "metadata": {},
     "output_type": "execute_result"
    }
   ],
   "source": [
    "sort(x, cols = (order(:y, rev=true), order(:x, by=v->rem(v,1)))) # some more fancy sorting stuff"
   ]
  },
  {
   "cell_type": "code",
   "execution_count": 8,
   "metadata": {
    "collapsed": false
   },
   "outputs": [
    {
     "data": {
      "text/html": [
       "<table class=\"data-frame\"><thead><tr><th></th><th>id</th><th>x</th><th>y</th></tr></thead><tbody><tr><th>1</th><td>8</td><td>0.999905</td><td>1.0</td></tr><tr><th>2</th><td>10</td><td>0.986666</td><td>1.0</td></tr><tr><th>3</th><td>7</td><td>0.951916</td><td>1.0</td></tr><tr><th>4</th><td>2</td><td>0.346517</td><td>0.0</td></tr><tr><th>5</th><td>5</td><td>0.488613</td><td>0.0</td></tr><tr><th>6</th><td>1</td><td>0.236033</td><td>0.0</td></tr><tr><th>7</th><td>6</td><td>0.210968</td><td>1.0</td></tr><tr><th>8</th><td>9</td><td>0.251662</td><td>1.0</td></tr><tr><th>9</th><td>4</td><td>0.00790928</td><td>0.0</td></tr><tr><th>10</th><td>3</td><td>0.312707</td><td>0.0</td></tr></tbody></table>"
      ],
      "text/plain": [
       "10×3 DataFrames.DataFrame\n",
       "│ Row │ id │ x          │ y   │\n",
       "├─────┼────┼────────────┼─────┤\n",
       "│ 1   │ 8  │ 0.999905   │ 1.0 │\n",
       "│ 2   │ 10 │ 0.986666   │ 1.0 │\n",
       "│ 3   │ 7  │ 0.951916   │ 1.0 │\n",
       "│ 4   │ 2  │ 0.346517   │ 0.0 │\n",
       "│ 5   │ 5  │ 0.488613   │ 0.0 │\n",
       "│ 6   │ 1  │ 0.236033   │ 0.0 │\n",
       "│ 7   │ 6  │ 0.210968   │ 1.0 │\n",
       "│ 8   │ 9  │ 0.251662   │ 1.0 │\n",
       "│ 9   │ 4  │ 0.00790928 │ 0.0 │\n",
       "│ 10  │ 3  │ 0.312707   │ 0.0 │"
      ]
     },
     "execution_count": 8,
     "metadata": {},
     "output_type": "execute_result"
    }
   ],
   "source": [
    "x[shuffle(1:10), :] # reorder rows (here randomly)"
   ]
  },
  {
   "cell_type": "code",
   "execution_count": 9,
   "metadata": {
    "collapsed": false,
    "scrolled": true
   },
   "outputs": [
    {
     "data": {
      "text/html": [
       "<table class=\"data-frame\"><thead><tr><th></th><th>id</th><th>x</th><th>y</th></tr></thead><tbody><tr><th>1</th><td>10</td><td>0.986666</td><td>1.0</td></tr><tr><th>2</th><td>2</td><td>0.346517</td><td>0.0</td></tr><tr><th>3</th><td>3</td><td>0.312707</td><td>0.0</td></tr><tr><th>4</th><td>4</td><td>0.00790928</td><td>0.0</td></tr><tr><th>5</th><td>5</td><td>0.488613</td><td>0.0</td></tr><tr><th>6</th><td>6</td><td>0.210968</td><td>1.0</td></tr><tr><th>7</th><td>7</td><td>0.951916</td><td>1.0</td></tr><tr><th>8</th><td>8</td><td>0.999905</td><td>1.0</td></tr><tr><th>9</th><td>9</td><td>0.251662</td><td>1.0</td></tr><tr><th>10</th><td>1</td><td>0.236033</td><td>0.0</td></tr></tbody></table>"
      ],
      "text/plain": [
       "10×3 DataFrames.DataFrame\n",
       "│ Row │ id │ x          │ y   │\n",
       "├─────┼────┼────────────┼─────┤\n",
       "│ 1   │ 10 │ 0.986666   │ 1.0 │\n",
       "│ 2   │ 2  │ 0.346517   │ 0.0 │\n",
       "│ 3   │ 3  │ 0.312707   │ 0.0 │\n",
       "│ 4   │ 4  │ 0.00790928 │ 0.0 │\n",
       "│ 5   │ 5  │ 0.488613   │ 0.0 │\n",
       "│ 6   │ 6  │ 0.210968   │ 1.0 │\n",
       "│ 7   │ 7  │ 0.951916   │ 1.0 │\n",
       "│ 8   │ 8  │ 0.999905   │ 1.0 │\n",
       "│ 9   │ 9  │ 0.251662   │ 1.0 │\n",
       "│ 10  │ 1  │ 0.236033   │ 0.0 │"
      ]
     },
     "execution_count": 9,
     "metadata": {},
     "output_type": "execute_result"
    }
   ],
   "source": [
    "sort!(x, cols=:id)\n",
    "x[[1,10],:] = x[[10,1],:] # swap rows\n",
    "x"
   ]
  },
  {
   "cell_type": "code",
   "execution_count": 10,
   "metadata": {
    "collapsed": false
   },
   "outputs": [
    {
     "data": {
      "text/html": [
       "<table class=\"data-frame\"><thead><tr><th></th><th>id</th><th>x</th><th>y</th></tr></thead><tbody><tr><th>1</th><td>1</td><td>0.236033</td><td>0.0</td></tr><tr><th>2</th><td>2</td><td>0.346517</td><td>0.0</td></tr><tr><th>3</th><td>3</td><td>0.312707</td><td>0.0</td></tr><tr><th>4</th><td>4</td><td>0.00790928</td><td>0.0</td></tr><tr><th>5</th><td>5</td><td>0.488613</td><td>0.0</td></tr><tr><th>6</th><td>6</td><td>0.210968</td><td>1.0</td></tr><tr><th>7</th><td>7</td><td>0.951916</td><td>1.0</td></tr><tr><th>8</th><td>8</td><td>0.999905</td><td>1.0</td></tr><tr><th>9</th><td>9</td><td>0.251662</td><td>1.0</td></tr><tr><th>10</th><td>10</td><td>0.986666</td><td>1.0</td></tr></tbody></table>"
      ],
      "text/plain": [
       "10×3 DataFrames.DataFrame\n",
       "│ Row │ id │ x          │ y   │\n",
       "├─────┼────┼────────────┼─────┤\n",
       "│ 1   │ 1  │ 0.236033   │ 0.0 │\n",
       "│ 2   │ 2  │ 0.346517   │ 0.0 │\n",
       "│ 3   │ 3  │ 0.312707   │ 0.0 │\n",
       "│ 4   │ 4  │ 0.00790928 │ 0.0 │\n",
       "│ 5   │ 5  │ 0.488613   │ 0.0 │\n",
       "│ 6   │ 6  │ 0.210968   │ 1.0 │\n",
       "│ 7   │ 7  │ 0.951916   │ 1.0 │\n",
       "│ 8   │ 8  │ 0.999905   │ 1.0 │\n",
       "│ 9   │ 9  │ 0.251662   │ 1.0 │\n",
       "│ 10  │ 10 │ 0.986666   │ 1.0 │"
      ]
     },
     "execution_count": 10,
     "metadata": {},
     "output_type": "execute_result"
    }
   ],
   "source": [
    "x[1,:], x[10,:] = x[10,:], x[1,:] # and swap again\n",
    "x"
   ]
  },
  {
   "cell_type": "markdown",
   "metadata": {},
   "source": [
    "### Merging/adding rows"
   ]
  },
  {
   "cell_type": "code",
   "execution_count": 11,
   "metadata": {
    "collapsed": false
   },
   "outputs": [
    {
     "data": {
      "text/html": [
       "<table class=\"data-frame\"><thead><tr><th></th><th>x1</th><th>x2</th><th>x3</th><th>x4</th><th>x5</th></tr></thead><tbody><tr><th>1</th><td>0.0856352</td><td>0.185821</td><td>0.0516146</td><td>0.279395</td><td>0.370971</td></tr><tr><th>2</th><td>0.553206</td><td>0.111981</td><td>0.53803</td><td>0.178246</td><td>0.894166</td></tr><tr><th>3</th><td>0.46335</td><td>0.976312</td><td>0.455692</td><td>0.548983</td><td>0.648054</td></tr></tbody></table>"
      ],
      "text/plain": [
       "3×5 DataFrames.DataFrame\n",
       "│ Row │ x1        │ x2       │ x3        │ x4       │ x5       │\n",
       "├─────┼───────────┼──────────┼───────────┼──────────┼──────────┤\n",
       "│ 1   │ 0.0856352 │ 0.185821 │ 0.0516146 │ 0.279395 │ 0.370971 │\n",
       "│ 2   │ 0.553206  │ 0.111981 │ 0.53803   │ 0.178246 │ 0.894166 │\n",
       "│ 3   │ 0.46335   │ 0.976312 │ 0.455692  │ 0.548983 │ 0.648054 │"
      ]
     },
     "execution_count": 11,
     "metadata": {},
     "output_type": "execute_result"
    }
   ],
   "source": [
    "x = DataFrame(rand(3, 5))"
   ]
  },
  {
   "cell_type": "code",
   "execution_count": 12,
   "metadata": {
    "collapsed": false
   },
   "outputs": [
    {
     "data": {
      "text/html": [
       "<table class=\"data-frame\"><thead><tr><th></th><th>x1</th><th>x2</th><th>x3</th><th>x4</th><th>x5</th></tr></thead><tbody><tr><th>1</th><td>0.0856352</td><td>0.185821</td><td>0.0516146</td><td>0.279395</td><td>0.370971</td></tr><tr><th>2</th><td>0.553206</td><td>0.111981</td><td>0.53803</td><td>0.178246</td><td>0.894166</td></tr><tr><th>3</th><td>0.46335</td><td>0.976312</td><td>0.455692</td><td>0.548983</td><td>0.648054</td></tr><tr><th>4</th><td>0.0856352</td><td>0.185821</td><td>0.0516146</td><td>0.279395</td><td>0.370971</td></tr><tr><th>5</th><td>0.553206</td><td>0.111981</td><td>0.53803</td><td>0.178246</td><td>0.894166</td></tr><tr><th>6</th><td>0.46335</td><td>0.976312</td><td>0.455692</td><td>0.548983</td><td>0.648054</td></tr></tbody></table>"
      ],
      "text/plain": [
       "6×5 DataFrames.DataFrame\n",
       "│ Row │ x1        │ x2       │ x3        │ x4       │ x5       │\n",
       "├─────┼───────────┼──────────┼───────────┼──────────┼──────────┤\n",
       "│ 1   │ 0.0856352 │ 0.185821 │ 0.0516146 │ 0.279395 │ 0.370971 │\n",
       "│ 2   │ 0.553206  │ 0.111981 │ 0.53803   │ 0.178246 │ 0.894166 │\n",
       "│ 3   │ 0.46335   │ 0.976312 │ 0.455692  │ 0.548983 │ 0.648054 │\n",
       "│ 4   │ 0.0856352 │ 0.185821 │ 0.0516146 │ 0.279395 │ 0.370971 │\n",
       "│ 5   │ 0.553206  │ 0.111981 │ 0.53803   │ 0.178246 │ 0.894166 │\n",
       "│ 6   │ 0.46335   │ 0.976312 │ 0.455692  │ 0.548983 │ 0.648054 │"
      ]
     },
     "execution_count": 12,
     "metadata": {},
     "output_type": "execute_result"
    }
   ],
   "source": [
    "[x; x] # merge by rows - data frames must have the same column names; the same is vcat"
   ]
  },
  {
   "cell_type": "code",
   "execution_count": 13,
   "metadata": {
    "collapsed": false
   },
   "outputs": [
    {
     "data": {
      "text/html": [
       "<table class=\"data-frame\"><thead><tr><th></th><th>x1</th><th>x2</th><th>x3</th><th>x4</th><th>x5</th></tr></thead><tbody><tr><th>1</th><td>0.0856352</td><td>0.185821</td><td>0.0516146</td><td>0.279395</td><td>0.370971</td></tr><tr><th>2</th><td>0.553206</td><td>0.111981</td><td>0.53803</td><td>0.178246</td><td>0.894166</td></tr><tr><th>3</th><td>0.46335</td><td>0.976312</td><td>0.455692</td><td>0.548983</td><td>0.648054</td></tr><tr><th>4</th><td>0.0856352</td><td>0.185821</td><td>0.0516146</td><td>0.279395</td><td>0.370971</td></tr><tr><th>5</th><td>0.553206</td><td>0.111981</td><td>0.53803</td><td>0.178246</td><td>0.894166</td></tr><tr><th>6</th><td>0.46335</td><td>0.976312</td><td>0.455692</td><td>0.548983</td><td>0.648054</td></tr></tbody></table>"
      ],
      "text/plain": [
       "6×5 DataFrames.DataFrame\n",
       "│ Row │ x1        │ x2       │ x3        │ x4       │ x5       │\n",
       "├─────┼───────────┼──────────┼───────────┼──────────┼──────────┤\n",
       "│ 1   │ 0.0856352 │ 0.185821 │ 0.0516146 │ 0.279395 │ 0.370971 │\n",
       "│ 2   │ 0.553206  │ 0.111981 │ 0.53803   │ 0.178246 │ 0.894166 │\n",
       "│ 3   │ 0.46335   │ 0.976312 │ 0.455692  │ 0.548983 │ 0.648054 │\n",
       "│ 4   │ 0.0856352 │ 0.185821 │ 0.0516146 │ 0.279395 │ 0.370971 │\n",
       "│ 5   │ 0.553206  │ 0.111981 │ 0.53803   │ 0.178246 │ 0.894166 │\n",
       "│ 6   │ 0.46335   │ 0.976312 │ 0.455692  │ 0.548983 │ 0.648054 │"
      ]
     },
     "execution_count": 13,
     "metadata": {},
     "output_type": "execute_result"
    }
   ],
   "source": [
    "append!(x, x) # the same but modifies x"
   ]
  },
  {
   "cell_type": "code",
   "execution_count": 14,
   "metadata": {
    "collapsed": false
   },
   "outputs": [
    {
     "data": {
      "text/html": [
       "<table class=\"data-frame\"><thead><tr><th></th><th>x1</th><th>x2</th><th>x3</th><th>x4</th><th>x5</th></tr></thead><tbody><tr><th>1</th><td>0.0856352</td><td>0.185821</td><td>0.0516146</td><td>0.279395</td><td>0.370971</td></tr><tr><th>2</th><td>0.553206</td><td>0.111981</td><td>0.53803</td><td>0.178246</td><td>0.894166</td></tr><tr><th>3</th><td>0.46335</td><td>0.976312</td><td>0.455692</td><td>0.548983</td><td>0.648054</td></tr><tr><th>4</th><td>0.0856352</td><td>0.185821</td><td>0.0516146</td><td>0.279395</td><td>0.370971</td></tr><tr><th>5</th><td>0.553206</td><td>0.111981</td><td>0.53803</td><td>0.178246</td><td>0.894166</td></tr><tr><th>6</th><td>0.46335</td><td>0.976312</td><td>0.455692</td><td>0.548983</td><td>0.648054</td></tr><tr><th>7</th><td>1.0</td><td>2.0</td><td>3.0</td><td>4.0</td><td>5.0</td></tr></tbody></table>"
      ],
      "text/plain": [
       "7×5 DataFrames.DataFrame\n",
       "│ Row │ x1        │ x2       │ x3        │ x4       │ x5       │\n",
       "├─────┼───────────┼──────────┼───────────┼──────────┼──────────┤\n",
       "│ 1   │ 0.0856352 │ 0.185821 │ 0.0516146 │ 0.279395 │ 0.370971 │\n",
       "│ 2   │ 0.553206  │ 0.111981 │ 0.53803   │ 0.178246 │ 0.894166 │\n",
       "│ 3   │ 0.46335   │ 0.976312 │ 0.455692  │ 0.548983 │ 0.648054 │\n",
       "│ 4   │ 0.0856352 │ 0.185821 │ 0.0516146 │ 0.279395 │ 0.370971 │\n",
       "│ 5   │ 0.553206  │ 0.111981 │ 0.53803   │ 0.178246 │ 0.894166 │\n",
       "│ 6   │ 0.46335   │ 0.976312 │ 0.455692  │ 0.548983 │ 0.648054 │\n",
       "│ 7   │ 1.0       │ 2.0      │ 3.0       │ 4.0      │ 5.0      │"
      ]
     },
     "execution_count": 14,
     "metadata": {},
     "output_type": "execute_result"
    }
   ],
   "source": [
    "push!(x, 1:5) # add one row to x at the end; must give correct number of values and correct types\n",
    "x"
   ]
  },
  {
   "cell_type": "code",
   "execution_count": 15,
   "metadata": {
    "collapsed": false
   },
   "outputs": [
    {
     "data": {
      "text/html": [
       "<table class=\"data-frame\"><thead><tr><th></th><th>x1</th><th>x2</th><th>x3</th><th>x4</th><th>x5</th></tr></thead><tbody><tr><th>1</th><td>0.0856352</td><td>0.185821</td><td>0.0516146</td><td>0.279395</td><td>0.370971</td></tr><tr><th>2</th><td>0.553206</td><td>0.111981</td><td>0.53803</td><td>0.178246</td><td>0.894166</td></tr><tr><th>3</th><td>0.46335</td><td>0.976312</td><td>0.455692</td><td>0.548983</td><td>0.648054</td></tr><tr><th>4</th><td>0.0856352</td><td>0.185821</td><td>0.0516146</td><td>0.279395</td><td>0.370971</td></tr><tr><th>5</th><td>0.553206</td><td>0.111981</td><td>0.53803</td><td>0.178246</td><td>0.894166</td></tr><tr><th>6</th><td>0.46335</td><td>0.976312</td><td>0.455692</td><td>0.548983</td><td>0.648054</td></tr><tr><th>7</th><td>1.0</td><td>2.0</td><td>3.0</td><td>4.0</td><td>5.0</td></tr><tr><th>8</th><td>11.0</td><td>12.0</td><td>13.0</td><td>14.0</td><td>15.0</td></tr></tbody></table>"
      ],
      "text/plain": [
       "8×5 DataFrames.DataFrame\n",
       "│ Row │ x1        │ x2       │ x3        │ x4       │ x5       │\n",
       "├─────┼───────────┼──────────┼───────────┼──────────┼──────────┤\n",
       "│ 1   │ 0.0856352 │ 0.185821 │ 0.0516146 │ 0.279395 │ 0.370971 │\n",
       "│ 2   │ 0.553206  │ 0.111981 │ 0.53803   │ 0.178246 │ 0.894166 │\n",
       "│ 3   │ 0.46335   │ 0.976312 │ 0.455692  │ 0.548983 │ 0.648054 │\n",
       "│ 4   │ 0.0856352 │ 0.185821 │ 0.0516146 │ 0.279395 │ 0.370971 │\n",
       "│ 5   │ 0.553206  │ 0.111981 │ 0.53803   │ 0.178246 │ 0.894166 │\n",
       "│ 6   │ 0.46335   │ 0.976312 │ 0.455692  │ 0.548983 │ 0.648054 │\n",
       "│ 7   │ 1.0       │ 2.0      │ 3.0       │ 4.0      │ 5.0      │\n",
       "│ 8   │ 11.0      │ 12.0     │ 13.0      │ 14.0     │ 15.0     │"
      ]
     },
     "execution_count": 15,
     "metadata": {},
     "output_type": "execute_result"
    }
   ],
   "source": [
    "push!(x, Dict(:x1=> 11, :x2=> 12, :x3=> 13, :x4=> 14, :x5=> 15)) # also works with dictionaries\n",
    "x"
   ]
  },
  {
   "cell_type": "markdown",
   "metadata": {},
   "source": [
    "### Subsetting/removing rows"
   ]
  },
  {
   "cell_type": "code",
   "execution_count": 16,
   "metadata": {
    "collapsed": false
   },
   "outputs": [
    {
     "data": {
      "text/html": [
       "<table class=\"data-frame\"><thead><tr><th></th><th>x1</th><th>x2</th><th>x3</th><th>x4</th><th>x5</th></tr></thead><tbody><tr><th>1</th><td>0.0856352</td><td>0.185821</td><td>0.0516146</td><td>0.279395</td><td>0.370971</td></tr><tr><th>2</th><td>0.553206</td><td>0.111981</td><td>0.53803</td><td>0.178246</td><td>0.894166</td></tr></tbody></table>"
      ],
      "text/plain": [
       "2×5 DataFrames.DataFrame\n",
       "│ Row │ x1        │ x2       │ x3        │ x4       │ x5       │\n",
       "├─────┼───────────┼──────────┼───────────┼──────────┼──────────┤\n",
       "│ 1   │ 0.0856352 │ 0.185821 │ 0.0516146 │ 0.279395 │ 0.370971 │\n",
       "│ 2   │ 0.553206  │ 0.111981 │ 0.53803   │ 0.178246 │ 0.894166 │"
      ]
     },
     "execution_count": 16,
     "metadata": {},
     "output_type": "execute_result"
    }
   ],
   "source": [
    "x[1:2, :] # by index"
   ]
  },
  {
   "cell_type": "code",
   "execution_count": 17,
   "metadata": {
    "collapsed": false
   },
   "outputs": [
    {
     "data": {
      "text/html": [
       "<table class=\"data-frame\"><thead><tr><th></th><th>x1</th><th>x2</th><th>x3</th><th>x4</th><th>x5</th></tr></thead><tbody><tr><th>1</th><td>0.0856352</td><td>0.185821</td><td>0.0516146</td><td>0.279395</td><td>0.370971</td></tr><tr><th>2</th><td>0.553206</td><td>0.111981</td><td>0.53803</td><td>0.178246</td><td>0.894166</td></tr></tbody></table>"
      ],
      "text/plain": [
       "2×5 DataFrames.SubDataFrame{UnitRange{Int64}}\n",
       "│ Row │ x1        │ x2       │ x3        │ x4       │ x5       │\n",
       "├─────┼───────────┼──────────┼───────────┼──────────┼──────────┤\n",
       "│ 1   │ 0.0856352 │ 0.185821 │ 0.0516146 │ 0.279395 │ 0.370971 │\n",
       "│ 2   │ 0.553206  │ 0.111981 │ 0.53803   │ 0.178246 │ 0.894166 │"
      ]
     },
     "execution_count": 17,
     "metadata": {},
     "output_type": "execute_result"
    }
   ],
   "source": [
    "view(x, 1:2) # the same but a view"
   ]
  },
  {
   "cell_type": "code",
   "execution_count": 18,
   "metadata": {
    "collapsed": false
   },
   "outputs": [
    {
     "data": {
      "text/html": [
       "<table class=\"data-frame\"><thead><tr><th></th><th>x1</th><th>x2</th><th>x3</th></tr></thead><tbody><tr><th>1</th><td>0.0856352</td><td>0.185821</td><td>0.0516146</td></tr><tr><th>2</th><td>0.46335</td><td>0.976312</td><td>0.455692</td></tr><tr><th>3</th><td>0.553206</td><td>0.111981</td><td>0.53803</td></tr><tr><th>4</th><td>1.0</td><td>2.0</td><td>3.0</td></tr></tbody></table>"
      ],
      "text/plain": [
       "4×3 DataFrames.DataFrame\n",
       "│ Row │ x1        │ x2       │ x3        │\n",
       "├─────┼───────────┼──────────┼───────────┤\n",
       "│ 1   │ 0.0856352 │ 0.185821 │ 0.0516146 │\n",
       "│ 2   │ 0.46335   │ 0.976312 │ 0.455692  │\n",
       "│ 3   │ 0.553206  │ 0.111981 │ 0.53803   │\n",
       "│ 4   │ 1.0       │ 2.0      │ 3.0       │"
      ]
     },
     "execution_count": 18,
     "metadata": {},
     "output_type": "execute_result"
    }
   ],
   "source": [
    "x[repmat([true, false], 4), 1:3] # by Bool, exact length required"
   ]
  },
  {
   "cell_type": "code",
   "execution_count": 19,
   "metadata": {
    "collapsed": false
   },
   "outputs": [
    {
     "data": {
      "text/html": [
       "<table class=\"data-frame\"><thead><tr><th></th><th>x1</th><th>x2</th><th>x3</th></tr></thead><tbody><tr><th>1</th><td>0.0856352</td><td>0.185821</td><td>0.0516146</td></tr><tr><th>2</th><td>0.46335</td><td>0.976312</td><td>0.455692</td></tr><tr><th>3</th><td>0.553206</td><td>0.111981</td><td>0.53803</td></tr><tr><th>4</th><td>1.0</td><td>2.0</td><td>3.0</td></tr></tbody></table>"
      ],
      "text/plain": [
       "4×3 DataFrames.SubDataFrame{Array{Int64,1}}\n",
       "│ Row │ x1        │ x2       │ x3        │\n",
       "├─────┼───────────┼──────────┼───────────┤\n",
       "│ 1   │ 0.0856352 │ 0.185821 │ 0.0516146 │\n",
       "│ 2   │ 0.46335   │ 0.976312 │ 0.455692  │\n",
       "│ 3   │ 0.553206  │ 0.111981 │ 0.53803   │\n",
       "│ 4   │ 1.0       │ 2.0      │ 3.0       │"
      ]
     },
     "execution_count": 19,
     "metadata": {},
     "output_type": "execute_result"
    }
   ],
   "source": [
    "view(x, repmat([true, false], 4), 1:3) # view again"
   ]
  },
  {
   "cell_type": "code",
   "execution_count": 20,
   "metadata": {
    "collapsed": false
   },
   "outputs": [
    {
     "data": {
      "text/html": [
       "<table class=\"data-frame\"><thead><tr><th></th><th>x1</th><th>x2</th><th>x3</th><th>x4</th><th>x5</th></tr></thead><tbody><tr><th>1</th><td>0.0856352</td><td>0.185821</td><td>0.0516146</td><td>0.279395</td><td>0.370971</td></tr><tr><th>2</th><td>0.553206</td><td>0.111981</td><td>0.53803</td><td>0.178246</td><td>0.894166</td></tr><tr><th>3</th><td>0.46335</td><td>0.976312</td><td>0.455692</td><td>0.548983</td><td>0.648054</td></tr><tr><th>4</th><td>0.0856352</td><td>0.185821</td><td>0.0516146</td><td>0.279395</td><td>0.370971</td></tr><tr><th>5</th><td>0.553206</td><td>0.111981</td><td>0.53803</td><td>0.178246</td><td>0.894166</td></tr><tr><th>6</th><td>0.46335</td><td>0.976312</td><td>0.455692</td><td>0.548983</td><td>0.648054</td></tr><tr><th>7</th><td>11.0</td><td>12.0</td><td>13.0</td><td>14.0</td><td>15.0</td></tr></tbody></table>"
      ],
      "text/plain": [
       "7×5 DataFrames.DataFrame\n",
       "│ Row │ x1        │ x2       │ x3        │ x4       │ x5       │\n",
       "├─────┼───────────┼──────────┼───────────┼──────────┼──────────┤\n",
       "│ 1   │ 0.0856352 │ 0.185821 │ 0.0516146 │ 0.279395 │ 0.370971 │\n",
       "│ 2   │ 0.553206  │ 0.111981 │ 0.53803   │ 0.178246 │ 0.894166 │\n",
       "│ 3   │ 0.46335   │ 0.976312 │ 0.455692  │ 0.548983 │ 0.648054 │\n",
       "│ 4   │ 0.0856352 │ 0.185821 │ 0.0516146 │ 0.279395 │ 0.370971 │\n",
       "│ 5   │ 0.553206  │ 0.111981 │ 0.53803   │ 0.178246 │ 0.894166 │\n",
       "│ 6   │ 0.46335   │ 0.976312 │ 0.455692  │ 0.548983 │ 0.648054 │\n",
       "│ 7   │ 11.0      │ 12.0     │ 13.0      │ 14.0     │ 15.0     │"
      ]
     },
     "execution_count": 20,
     "metadata": {},
     "output_type": "execute_result"
    }
   ],
   "source": [
    "deleterows!(x, 7) # delete one row"
   ]
  },
  {
   "cell_type": "code",
   "execution_count": 21,
   "metadata": {
    "collapsed": false
   },
   "outputs": [
    {
     "data": {
      "text/html": [
       "<table class=\"data-frame\"><thead><tr><th></th><th>x1</th><th>x2</th><th>x3</th><th>x4</th><th>x5</th></tr></thead><tbody><tr><th>1</th><td>0.0856352</td><td>0.185821</td><td>0.0516146</td><td>0.279395</td><td>0.370971</td></tr><tr><th>2</th><td>0.553206</td><td>0.111981</td><td>0.53803</td><td>0.178246</td><td>0.894166</td></tr><tr><th>3</th><td>0.46335</td><td>0.976312</td><td>0.455692</td><td>0.548983</td><td>0.648054</td></tr><tr><th>4</th><td>0.0856352</td><td>0.185821</td><td>0.0516146</td><td>0.279395</td><td>0.370971</td></tr><tr><th>5</th><td>0.553206</td><td>0.111981</td><td>0.53803</td><td>0.178246</td><td>0.894166</td></tr></tbody></table>"
      ],
      "text/plain": [
       "5×5 DataFrames.DataFrame\n",
       "│ Row │ x1        │ x2       │ x3        │ x4       │ x5       │\n",
       "├─────┼───────────┼──────────┼───────────┼──────────┼──────────┤\n",
       "│ 1   │ 0.0856352 │ 0.185821 │ 0.0516146 │ 0.279395 │ 0.370971 │\n",
       "│ 2   │ 0.553206  │ 0.111981 │ 0.53803   │ 0.178246 │ 0.894166 │\n",
       "│ 3   │ 0.46335   │ 0.976312 │ 0.455692  │ 0.548983 │ 0.648054 │\n",
       "│ 4   │ 0.0856352 │ 0.185821 │ 0.0516146 │ 0.279395 │ 0.370971 │\n",
       "│ 5   │ 0.553206  │ 0.111981 │ 0.53803   │ 0.178246 │ 0.894166 │"
      ]
     },
     "execution_count": 21,
     "metadata": {},
     "output_type": "execute_result"
    }
   ],
   "source": [
    "deleterows!(x, 6:7) # delete collection of rows"
   ]
  },
  {
   "cell_type": "code",
   "execution_count": 22,
   "metadata": {
    "collapsed": false
   },
   "outputs": [
    {
     "data": {
      "text/html": [
       "<table class=\"data-frame\"><thead><tr><th></th><th>x1</th><th>x2</th><th>x3</th></tr></thead><tbody><tr><th>1</th><td>1</td><td>2</td><td>3</td></tr><tr><th>2</th><td>2</td><td>3</td><td>4</td></tr><tr><th>3</th><td>3</td><td>4</td><td>5</td></tr><tr><th>4</th><td>4</td><td>5</td><td>6</td></tr></tbody></table>"
      ],
      "text/plain": [
       "4×3 DataFrames.DataFrame\n",
       "│ Row │ x1 │ x2 │ x3 │\n",
       "├─────┼────┼────┼────┤\n",
       "│ 1   │ 1  │ 2  │ 3  │\n",
       "│ 2   │ 2  │ 3  │ 4  │\n",
       "│ 3   │ 3  │ 4  │ 5  │\n",
       "│ 4   │ 4  │ 5  │ 6  │"
      ]
     },
     "execution_count": 22,
     "metadata": {},
     "output_type": "execute_result"
    }
   ],
   "source": [
    "x = DataFrame([1:4, 2:5, 3:6])"
   ]
  },
  {
   "cell_type": "code",
   "execution_count": 23,
   "metadata": {
    "collapsed": false
   },
   "outputs": [
    {
     "data": {
      "text/html": [
       "<table class=\"data-frame\"><thead><tr><th></th><th>x1</th><th>x2</th><th>x3</th></tr></thead><tbody><tr><th>1</th><td>3</td><td>4</td><td>5</td></tr><tr><th>2</th><td>4</td><td>5</td><td>6</td></tr></tbody></table>"
      ],
      "text/plain": [
       "2×3 DataFrames.DataFrame\n",
       "│ Row │ x1 │ x2 │ x3 │\n",
       "├─────┼────┼────┼────┤\n",
       "│ 1   │ 3  │ 4  │ 5  │\n",
       "│ 2   │ 4  │ 5  │ 6  │"
      ]
     },
     "execution_count": 23,
     "metadata": {},
     "output_type": "execute_result"
    }
   ],
   "source": [
    "filter(r -> r[:x1] > 2.5, x) # create a new DataFrame where filtering function operates on DataFrameRow"
   ]
  },
  {
   "cell_type": "code",
   "execution_count": 24,
   "metadata": {
    "collapsed": false
   },
   "outputs": [
    {
     "data": {
      "text/html": [
       "<table class=\"data-frame\"><thead><tr><th></th><th>x1</th><th>x2</th><th>x3</th></tr></thead><tbody><tr><th>1</th><td>1</td><td>2</td><td>3</td></tr><tr><th>2</th><td>3</td><td>4</td><td>5</td></tr></tbody></table>"
      ],
      "text/plain": [
       "2×3 DataFrames.DataFrame\n",
       "│ Row │ x1 │ x2 │ x3 │\n",
       "├─────┼────┼────┼────┤\n",
       "│ 1   │ 1  │ 2  │ 3  │\n",
       "│ 2   │ 3  │ 4  │ 5  │"
      ]
     },
     "execution_count": 24,
     "metadata": {},
     "output_type": "execute_result"
    }
   ],
   "source": [
    "# in place modification of x, an example with do-block syntax\n",
    "filter!(x) do r\n",
    "    if r[:x1] > 2.5\n",
    "        return r[:x2] < 4.5\n",
    "    end\n",
    "    r[:x3] < 3.5\n",
    "end"
   ]
  },
  {
   "cell_type": "markdown",
   "metadata": {},
   "source": [
    "### Deduplicating"
   ]
  },
  {
   "cell_type": "code",
   "execution_count": 25,
   "metadata": {
    "collapsed": false
   },
   "outputs": [
    {
     "data": {
      "text/html": [
       "<table class=\"data-frame\"><thead><tr><th></th><th>A</th><th>B</th><th>C</th></tr></thead><tbody><tr><th>1</th><td>1</td><td>x</td><td>1</td></tr><tr><th>2</th><td>2</td><td>y</td><td>2</td></tr><tr><th>3</th><td>1</td><td>x</td><td>3</td></tr><tr><th>4</th><td>2</td><td>y</td><td>4</td></tr></tbody></table>"
      ],
      "text/plain": [
       "4×3 DataFrames.DataFrame\n",
       "│ Row │ A │ B │ C │\n",
       "├─────┼───┼───┼───┤\n",
       "│ 1   │ 1 │ x │ 1 │\n",
       "│ 2   │ 2 │ y │ 2 │\n",
       "│ 3   │ 1 │ x │ 3 │\n",
       "│ 4   │ 2 │ y │ 4 │"
      ]
     },
     "execution_count": 25,
     "metadata": {},
     "output_type": "execute_result"
    }
   ],
   "source": [
    "x = DataFrame(A=[1,2], B=[\"x\",\"y\"])\n",
    "append!(x, x)\n",
    "x[:C] = 1:4\n",
    "x"
   ]
  },
  {
   "cell_type": "code",
   "execution_count": 26,
   "metadata": {
    "collapsed": false
   },
   "outputs": [
    {
     "data": {
      "text/html": [
       "<table class=\"data-frame\"><thead><tr><th></th><th>A</th><th>B</th><th>C</th></tr></thead><tbody><tr><th>1</th><td>1</td><td>x</td><td>1</td></tr><tr><th>2</th><td>2</td><td>y</td><td>2</td></tr></tbody></table>"
      ],
      "text/plain": [
       "2×3 DataFrames.DataFrame\n",
       "│ Row │ A │ B │ C │\n",
       "├─────┼───┼───┼───┤\n",
       "│ 1   │ 1 │ x │ 1 │\n",
       "│ 2   │ 2 │ y │ 2 │"
      ]
     },
     "execution_count": 26,
     "metadata": {},
     "output_type": "execute_result"
    }
   ],
   "source": [
    "unique(x, [1,2]) # get first unique rows for given index"
   ]
  },
  {
   "cell_type": "code",
   "execution_count": 27,
   "metadata": {
    "collapsed": false
   },
   "outputs": [
    {
     "data": {
      "text/html": [
       "<table class=\"data-frame\"><thead><tr><th></th><th>A</th><th>B</th><th>C</th></tr></thead><tbody><tr><th>1</th><td>1</td><td>x</td><td>1</td></tr><tr><th>2</th><td>2</td><td>y</td><td>2</td></tr><tr><th>3</th><td>1</td><td>x</td><td>3</td></tr><tr><th>4</th><td>2</td><td>y</td><td>4</td></tr></tbody></table>"
      ],
      "text/plain": [
       "4×3 DataFrames.DataFrame\n",
       "│ Row │ A │ B │ C │\n",
       "├─────┼───┼───┼───┤\n",
       "│ 1   │ 1 │ x │ 1 │\n",
       "│ 2   │ 2 │ y │ 2 │\n",
       "│ 3   │ 1 │ x │ 3 │\n",
       "│ 4   │ 2 │ y │ 4 │"
      ]
     },
     "execution_count": 27,
     "metadata": {},
     "output_type": "execute_result"
    }
   ],
   "source": [
    "unique(x) # now we look at whole rows"
   ]
  },
  {
   "cell_type": "code",
   "execution_count": 28,
   "metadata": {
    "collapsed": false
   },
   "outputs": [
    {
     "data": {
      "text/plain": [
       "4-element Array{Bool,1}:\n",
       " false\n",
       " false\n",
       "  true\n",
       "  true"
      ]
     },
     "execution_count": 28,
     "metadata": {},
     "output_type": "execute_result"
    }
   ],
   "source": [
    "nonunique(x, :A) # get indicators of non-unique rows"
   ]
  },
  {
   "cell_type": "code",
   "execution_count": 29,
   "metadata": {
    "collapsed": false
   },
   "outputs": [
    {
     "data": {
      "text/html": [
       "<table class=\"data-frame\"><thead><tr><th></th><th>A</th><th>B</th><th>C</th></tr></thead><tbody><tr><th>1</th><td>1</td><td>x</td><td>1</td></tr><tr><th>2</th><td>2</td><td>y</td><td>2</td></tr></tbody></table>"
      ],
      "text/plain": [
       "2×3 DataFrames.DataFrame\n",
       "│ Row │ A │ B │ C │\n",
       "├─────┼───┼───┼───┤\n",
       "│ 1   │ 1 │ x │ 1 │\n",
       "│ 2   │ 2 │ y │ 2 │"
      ]
     },
     "execution_count": 29,
     "metadata": {},
     "output_type": "execute_result"
    }
   ],
   "source": [
    "unique!(x, :B) # modify x in place"
   ]
  }
 ],
 "metadata": {
  "kernelspec": {
   "display_name": "Julia 0.6.0",
   "language": "julia",
   "name": "julia-0.6"
  },
  "language_info": {
   "file_extension": ".jl",
   "mimetype": "application/julia",
   "name": "julia",
   "version": "0.6.2"
  }
 },
 "nbformat": 4,
 "nbformat_minor": 0
}

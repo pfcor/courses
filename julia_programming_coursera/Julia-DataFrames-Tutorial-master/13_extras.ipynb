{
 "cells": [
  {
   "cell_type": "markdown",
   "metadata": {},
   "source": [
    "# Introduction to DataFrames\n",
    "**[Bogumił Kamiński](http://bogumilkaminski.pl/about/), Dec 25, 2017**\n",
    "\n",
    "A brief introduction to basic usage of `DataFrames`. Tested under `DataFrames` master on 2017-12-05.\n",
    "I will try to keep it up to date as the package evolves."
   ]
  },
  {
   "cell_type": "code",
   "execution_count": 1,
   "metadata": {
    "collapsed": false
   },
   "outputs": [],
   "source": [
    "using DataFrames"
   ]
  },
  {
   "cell_type": "markdown",
   "metadata": {},
   "source": [
    "## Extras - selected functionalities of selected packages"
   ]
  },
  {
   "cell_type": "markdown",
   "metadata": {},
   "source": [
    "### FreqTables: creating categorical tables"
   ]
  },
  {
   "cell_type": "code",
   "execution_count": 2,
   "metadata": {
    "collapsed": false
   },
   "outputs": [
    {
     "data": {
      "text/plain": [
       "4×3 Named Array{Int64,2}\n",
       "a ╲ b │   x    y    z\n",
       "──────┼──────────────\n",
       "'a'   │  86   93   82\n",
       "'b'   │  72   75   78\n",
       "'c'   │  82  103   86\n",
       "'d'   │  73   77   93"
      ]
     },
     "execution_count": 2,
     "metadata": {},
     "output_type": "execute_result"
    }
   ],
   "source": [
    "using FreqTables\n",
    "df = DataFrame(a=rand('a':'d', 1000), b=rand([\"x\", \"y\", \"z\"], 1000))\n",
    "ft = freqtable(df, :a, :b) # observe that dimensions are sorted if possible"
   ]
  },
  {
   "cell_type": "code",
   "execution_count": 3,
   "metadata": {
    "collapsed": false
   },
   "outputs": [
    {
     "data": {
      "text/plain": [
       "(86, 78)"
      ]
     },
     "execution_count": 3,
     "metadata": {},
     "output_type": "execute_result"
    }
   ],
   "source": [
    "ft[1,1], ft['b', \"z\"] # you can index the result using numbers or names"
   ]
  },
  {
   "cell_type": "code",
   "execution_count": 4,
   "metadata": {
    "collapsed": false
   },
   "outputs": [
    {
     "data": {
      "text/plain": [
       "4×3 Named Array{Float64,2}\n",
       "a ╲ b │        x         y         z\n",
       "──────┼─────────────────────────────\n",
       "'a'   │ 0.329502  0.356322  0.314176\n",
       "'b'   │     0.32  0.333333  0.346667\n",
       "'c'   │ 0.302583  0.380074  0.317343\n",
       "'d'   │ 0.300412  0.316872  0.382716"
      ]
     },
     "execution_count": 4,
     "metadata": {},
     "output_type": "execute_result"
    }
   ],
   "source": [
    "prop(ft, 1) # getting proportions - 1 means we want to calculate them in rows (first dimension)"
   ]
  },
  {
   "cell_type": "code",
   "execution_count": 5,
   "metadata": {
    "collapsed": false
   },
   "outputs": [
    {
     "data": {
      "text/plain": [
       "4×3 Named Array{Float64,2}\n",
       "a ╲ b │        x         y         z\n",
       "──────┼─────────────────────────────\n",
       "'a'   │  0.27476  0.267241  0.241888\n",
       "'b'   │ 0.230032  0.215517  0.230088\n",
       "'c'   │ 0.261981  0.295977  0.253687\n",
       "'d'   │ 0.233227  0.221264  0.274336"
      ]
     },
     "execution_count": 5,
     "metadata": {},
     "output_type": "execute_result"
    }
   ],
   "source": [
    "prop(ft, 2) # and columns are normalized to 1.0 now"
   ]
  },
  {
   "cell_type": "code",
   "execution_count": 6,
   "metadata": {
    "collapsed": false
   },
   "outputs": [
    {
     "data": {
      "text/plain": [
       "4-element Named Array{Int64,1}\n",
       "Dim1  │ \n",
       "──────┼──\n",
       "3     │ 2\n",
       "1     │ 2\n",
       "2     │ 6\n",
       "4     │ 0"
      ]
     },
     "execution_count": 6,
     "metadata": {},
     "output_type": "execute_result"
    }
   ],
   "source": [
    "x = categorical(rand(1:3, 10))\n",
    "levels!(x, [3, 1, 2, 4]) # reordering levels and adding an extra level\n",
    "freqtable(x) # order is preserved and not-used level is shown"
   ]
  },
  {
   "cell_type": "code",
   "execution_count": 7,
   "metadata": {
    "collapsed": false
   },
   "outputs": [
    {
     "data": {
      "text/plain": [
       "4-element Named Array{Int64,1}\n",
       "Dim1    │ \n",
       "────────┼──\n",
       "1       │ 2\n",
       "2       │ 1\n",
       "3       │ 1\n",
       "missing │ 1"
      ]
     },
     "execution_count": 7,
     "metadata": {},
     "output_type": "execute_result"
    }
   ],
   "source": [
    "freqtable([1,1,2,3,missing]) # by default missings are listed"
   ]
  },
  {
   "cell_type": "code",
   "execution_count": 8,
   "metadata": {
    "collapsed": false
   },
   "outputs": [
    {
     "data": {
      "text/plain": [
       "3-element Named Array{Int64,1}\n",
       "Dim1  │ \n",
       "──────┼──\n",
       "1     │ 2\n",
       "2     │ 1\n",
       "3     │ 1"
      ]
     },
     "execution_count": 8,
     "metadata": {},
     "output_type": "execute_result"
    }
   ],
   "source": [
    "freqtable([1,1,2,3,missing], skipmissing=true) # but we can skip them"
   ]
  },
  {
   "cell_type": "markdown",
   "metadata": {},
   "source": [
    "### DataFramesMeta - working on `DataFrame`"
   ]
  },
  {
   "cell_type": "code",
   "execution_count": 9,
   "metadata": {
    "collapsed": false
   },
   "outputs": [
    {
     "data": {
      "text/html": [
       "<table class=\"data-frame\"><thead><tr><th></th><th>x</th><th>y</th><th>z</th></tr></thead><tbody><tr><th>1</th><td>1</td><td>'a'</td><td>true</td></tr><tr><th>2</th><td>2</td><td>'b'</td><td>false</td></tr><tr><th>3</th><td>3</td><td>'c'</td><td>true</td></tr><tr><th>4</th><td>4</td><td>'d'</td><td>false</td></tr><tr><th>5</th><td>5</td><td>'e'</td><td>true</td></tr><tr><th>6</th><td>6</td><td>'f'</td><td>false</td></tr><tr><th>7</th><td>7</td><td>'g'</td><td>true</td></tr><tr><th>8</th><td>8</td><td>'h'</td><td>false</td></tr></tbody></table>"
      ],
      "text/plain": [
       "8×3 DataFrames.DataFrame\n",
       "│ Row │ x │ y   │ z     │\n",
       "├─────┼───┼─────┼───────┤\n",
       "│ 1   │ 1 │ 'a' │ true  │\n",
       "│ 2   │ 2 │ 'b' │ false │\n",
       "│ 3   │ 3 │ 'c' │ true  │\n",
       "│ 4   │ 4 │ 'd' │ false │\n",
       "│ 5   │ 5 │ 'e' │ true  │\n",
       "│ 6   │ 6 │ 'f' │ false │\n",
       "│ 7   │ 7 │ 'g' │ true  │\n",
       "│ 8   │ 8 │ 'h' │ false │"
      ]
     },
     "execution_count": 9,
     "metadata": {},
     "output_type": "execute_result"
    }
   ],
   "source": [
    "using DataFramesMeta\n",
    "df = DataFrame(x=1:8, y='a':'h', z=repeat([true,false], outer=4))"
   ]
  },
  {
   "cell_type": "code",
   "execution_count": 10,
   "metadata": {
    "collapsed": false
   },
   "outputs": [
    {
     "data": {
      "text/plain": [
       "8-element Array{Int64,1}:\n",
       " 2\n",
       " 2\n",
       " 4\n",
       " 4\n",
       " 6\n",
       " 6\n",
       " 8\n",
       " 8"
      ]
     },
     "execution_count": 10,
     "metadata": {},
     "output_type": "execute_result"
    }
   ],
   "source": [
    "@with(df, :x+:z) # expressions with columns of DataFrame"
   ]
  },
  {
   "cell_type": "code",
   "execution_count": 11,
   "metadata": {
    "collapsed": false
   },
   "outputs": [
    {
     "data": {
      "text/plain": [
       "8-element Array{Char,1}:\n",
       " 'b'\n",
       " 'e'\n",
       " 'h'\n",
       " 'k'\n",
       " 'g'\n",
       " 'j'\n",
       " 'm'\n",
       " 'p'"
      ]
     },
     "execution_count": 11,
     "metadata": {},
     "output_type": "execute_result"
    }
   ],
   "source": [
    "@with df begin # you can define code blocks\n",
    "    a = :x[:z]\n",
    "    b = :x[.!:z]\n",
    "    :y + [a; b]\n",
    "end"
   ]
  },
  {
   "cell_type": "code",
   "execution_count": 12,
   "metadata": {
    "collapsed": false
   },
   "outputs": [
    {
     "ename": "LoadError",
     "evalue": "\u001b[91mUndefVarError: a not defined\u001b[39m",
     "output_type": "error",
     "traceback": [
      "\u001b[91mUndefVarError: a not defined\u001b[39m",
      "",
      "Stacktrace:",
      " [1] \u001b[1minclude_string\u001b[22m\u001b[22m\u001b[1m(\u001b[22m\u001b[22m::String, ::String\u001b[1m)\u001b[22m\u001b[22m at \u001b[1m.\\loading.jl:522\u001b[22m\u001b[22m"
     ]
    }
   ],
   "source": [
    "a # @with creates hard scope so variables do not leak out"
   ]
  },
  {
   "cell_type": "code",
   "execution_count": 13,
   "metadata": {
    "collapsed": false
   },
   "outputs": [
    {
     "data": {
      "text/plain": [
       "3-element BitArray{1}:\n",
       "  true\n",
       " false\n",
       " false"
      ]
     },
     "execution_count": 13,
     "metadata": {},
     "output_type": "execute_result"
    }
   ],
   "source": [
    "df2 = DataFrame(a = [:a, :b, :c])\n",
    "@with(df2, :a .== ^(:a)) # sometimes we want to work on raw Symbol, ^() escapes it"
   ]
  },
  {
   "cell_type": "code",
   "execution_count": 14,
   "metadata": {
    "collapsed": false
   },
   "outputs": [
    {
     "data": {
      "text/html": [
       "<table class=\"data-frame\"><thead><tr><th></th><th>y</th><th>z</th></tr></thead><tbody><tr><th>1</th><td>4</td><td>7</td></tr><tr><th>2</th><td>5</td><td>8</td></tr><tr><th>3</th><td>6</td><td>9</td></tr></tbody></table>"
      ],
      "text/plain": [
       "3×2 DataFrames.DataFrame\n",
       "│ Row │ y │ z │\n",
       "├─────┼───┼───┤\n",
       "│ 1   │ 4 │ 7 │\n",
       "│ 2   │ 5 │ 8 │\n",
       "│ 3   │ 6 │ 9 │"
      ]
     },
     "execution_count": 14,
     "metadata": {},
     "output_type": "execute_result"
    }
   ],
   "source": [
    "df2 = DataFrame(x=1:3, y=4:6, z=7:9)\n",
    "@with(df2, _I_(2:3)) # _I_(expression) is translated to df2[expression]"
   ]
  },
  {
   "cell_type": "code",
   "execution_count": 15,
   "metadata": {
    "collapsed": false
   },
   "outputs": [
    {
     "data": {
      "text/html": [
       "<table class=\"data-frame\"><thead><tr><th></th><th>x</th><th>y</th><th>z</th></tr></thead><tbody><tr><th>1</th><td>1</td><td>'a'</td><td>true</td></tr><tr><th>2</th><td>3</td><td>'c'</td><td>true</td></tr></tbody></table>"
      ],
      "text/plain": [
       "2×3 DataFrames.DataFrame\n",
       "│ Row │ x │ y   │ z    │\n",
       "├─────┼───┼─────┼──────┤\n",
       "│ 1   │ 1 │ 'a' │ true │\n",
       "│ 2   │ 3 │ 'c' │ true │"
      ]
     },
     "execution_count": 15,
     "metadata": {},
     "output_type": "execute_result"
    }
   ],
   "source": [
    "@where(df, :x .< 4, :z .== true) # very useful macro for filtering"
   ]
  },
  {
   "cell_type": "code",
   "execution_count": 16,
   "metadata": {
    "collapsed": false
   },
   "outputs": [
    {
     "data": {
      "text/html": [
       "<table class=\"data-frame\"><thead><tr><th></th><th>x</th><th>y</th><th>z</th></tr></thead><tbody><tr><th>1</th><td>1</td><td>2</td><td>'a'</td></tr><tr><th>2</th><td>2</td><td>4</td><td>'b'</td></tr><tr><th>3</th><td>3</td><td>6</td><td>'c'</td></tr><tr><th>4</th><td>4</td><td>8</td><td>'d'</td></tr><tr><th>5</th><td>5</td><td>10</td><td>'e'</td></tr><tr><th>6</th><td>6</td><td>12</td><td>'f'</td></tr><tr><th>7</th><td>7</td><td>14</td><td>'g'</td></tr><tr><th>8</th><td>8</td><td>16</td><td>'h'</td></tr></tbody></table>"
      ],
      "text/plain": [
       "8×3 DataFrames.DataFrame\n",
       "│ Row │ x │ y  │ z   │\n",
       "├─────┼───┼────┼─────┤\n",
       "│ 1   │ 1 │ 2  │ 'a' │\n",
       "│ 2   │ 2 │ 4  │ 'b' │\n",
       "│ 3   │ 3 │ 6  │ 'c' │\n",
       "│ 4   │ 4 │ 8  │ 'd' │\n",
       "│ 5   │ 5 │ 10 │ 'e' │\n",
       "│ 6   │ 6 │ 12 │ 'f' │\n",
       "│ 7   │ 7 │ 14 │ 'g' │\n",
       "│ 8   │ 8 │ 16 │ 'h' │"
      ]
     },
     "execution_count": 16,
     "metadata": {},
     "output_type": "execute_result"
    }
   ],
   "source": [
    "@select(df, :x, y = 2*:x, z=:y) # create a new DataFrame based on the old one"
   ]
  },
  {
   "cell_type": "code",
   "execution_count": 17,
   "metadata": {
    "collapsed": false
   },
   "outputs": [
    {
     "data": {
      "text/html": [
       "<table class=\"data-frame\"><thead><tr><th></th><th>x</th><th>y</th><th>z</th><th>a</th></tr></thead><tbody><tr><th>1</th><td>2</td><td>1</td><td>true</td><td>1</td></tr><tr><th>2</th><td>4</td><td>2</td><td>false</td><td>1</td></tr><tr><th>3</th><td>6</td><td>3</td><td>true</td><td>1</td></tr><tr><th>4</th><td>8</td><td>4</td><td>false</td><td>1</td></tr><tr><th>5</th><td>10</td><td>5</td><td>true</td><td>1</td></tr><tr><th>6</th><td>12</td><td>6</td><td>false</td><td>1</td></tr><tr><th>7</th><td>14</td><td>7</td><td>true</td><td>1</td></tr><tr><th>8</th><td>16</td><td>8</td><td>false</td><td>1</td></tr></tbody></table>"
      ],
      "text/plain": [
       "8×4 DataFrames.DataFrame\n",
       "│ Row │ x  │ y │ z     │ a │\n",
       "├─────┼────┼───┼───────┼───┤\n",
       "│ 1   │ 2  │ 1 │ true  │ 1 │\n",
       "│ 2   │ 4  │ 2 │ false │ 1 │\n",
       "│ 3   │ 6  │ 3 │ true  │ 1 │\n",
       "│ 4   │ 8  │ 4 │ false │ 1 │\n",
       "│ 5   │ 10 │ 5 │ true  │ 1 │\n",
       "│ 6   │ 12 │ 6 │ false │ 1 │\n",
       "│ 7   │ 14 │ 7 │ true  │ 1 │\n",
       "│ 8   │ 16 │ 8 │ false │ 1 │"
      ]
     },
     "execution_count": 17,
     "metadata": {},
     "output_type": "execute_result"
    }
   ],
   "source": [
    "@transform(df, a=1, x = 2*:x, y=:x) # create a new DataFrame adding columns based on the old one"
   ]
  },
  {
   "cell_type": "code",
   "execution_count": 18,
   "metadata": {
    "collapsed": false
   },
   "outputs": [
    {
     "ename": "LoadError",
     "evalue": "\u001b[91mKeyError: key :a not found\u001b[39m",
     "output_type": "error",
     "traceback": [
      "\u001b[91mKeyError: key :a not found\u001b[39m",
      "",
      "Stacktrace:",
      " [1] \u001b[1mgetindex\u001b[22m\u001b[22m at \u001b[1m.\\dict.jl:474\u001b[22m\u001b[22m [inlined]",
      " [2] \u001b[1mgetindex\u001b[22m\u001b[22m\u001b[1m(\u001b[22m\u001b[22m::DataFrames.Index, ::Symbol\u001b[1m)\u001b[22m\u001b[22m at \u001b[1mD:\\Software\\JULIA_PKG\\v0.6\\DataFrames\\src\\other\\index.jl:121\u001b[22m\u001b[22m",
      " [3] \u001b[1mgetindex\u001b[22m\u001b[22m at \u001b[1mD:\\Software\\JULIA_PKG\\v0.6\\DataFrames\\src\\dataframe\\dataframe.jl:224\u001b[22m\u001b[22m [inlined]",
      " [4] \u001b[1m(::##16#18)\u001b[22m\u001b[22m\u001b[1m(\u001b[22m\u001b[22m::DataFrames.DataFrame\u001b[1m)\u001b[22m\u001b[22m at \u001b[1mD:\\Software\\JULIA_PKG\\v0.6\\DataFramesMeta\\src\\DataFramesMeta.jl:72\u001b[22m\u001b[22m",
      " [5] \u001b[1m#transform#39\u001b[22m\u001b[22m\u001b[1m(\u001b[22m\u001b[22m::Array{Any,1}, ::Function, ::DataFrames.DataFrame\u001b[1m)\u001b[22m\u001b[22m at \u001b[1mD:\\Software\\JULIA_PKG\\v0.6\\DataFramesMeta\\src\\DataFramesMeta.jl:388\u001b[22m\u001b[22m",
      " [6] \u001b[1m(::DataFramesMeta.#kw##transform)\u001b[22m\u001b[22m\u001b[1m(\u001b[22m\u001b[22m::Array{Any,1}, ::DataFramesMeta.#transform, ::DataFrames.DataFrame\u001b[1m)\u001b[22m\u001b[22m at \u001b[1m.\\<missing>:0\u001b[22m\u001b[22m",
      " [7] \u001b[1minclude_string\u001b[22m\u001b[22m\u001b[1m(\u001b[22m\u001b[22m::String, ::String\u001b[1m)\u001b[22m\u001b[22m at \u001b[1m.\\loading.jl:522\u001b[22m\u001b[22m"
     ]
    }
   ],
   "source": [
    "@transform(df, a=1, b=:a) # old DataFrame is used and :a is not present there"
   ]
  },
  {
   "cell_type": "markdown",
   "metadata": {},
   "source": [
    "WIP: @by, grouping, sorting"
   ]
  },
  {
   "cell_type": "code",
   "execution_count": 19,
   "metadata": {
    "collapsed": false
   },
   "outputs": [
    {
     "data": {
      "text/html": [
       "<table class=\"data-frame\"><thead><tr><th></th><th>x</th><th>y</th><th>z</th></tr></thead><tbody><tr><th>1</th><td>8</td><td>'h'</td><td>false</td></tr><tr><th>2</th><td>6</td><td>'f'</td><td>false</td></tr><tr><th>3</th><td>4</td><td>'d'</td><td>false</td></tr><tr><th>4</th><td>2</td><td>'b'</td><td>false</td></tr><tr><th>5</th><td>7</td><td>'g'</td><td>true</td></tr><tr><th>6</th><td>5</td><td>'e'</td><td>true</td></tr><tr><th>7</th><td>3</td><td>'c'</td><td>true</td></tr><tr><th>8</th><td>1</td><td>'a'</td><td>true</td></tr></tbody></table>"
      ],
      "text/plain": [
       "8×3 DataFrames.DataFrame\n",
       "│ Row │ x │ y   │ z     │\n",
       "├─────┼───┼─────┼───────┤\n",
       "│ 1   │ 8 │ 'h' │ false │\n",
       "│ 2   │ 6 │ 'f' │ false │\n",
       "│ 3   │ 4 │ 'd' │ false │\n",
       "│ 4   │ 2 │ 'b' │ false │\n",
       "│ 5   │ 7 │ 'g' │ true  │\n",
       "│ 6   │ 5 │ 'e' │ true  │\n",
       "│ 7   │ 3 │ 'c' │ true  │\n",
       "│ 8   │ 1 │ 'a' │ true  │"
      ]
     },
     "execution_count": 19,
     "metadata": {},
     "output_type": "execute_result"
    }
   ],
   "source": [
    "@orderby(df, :z, -:x) # sorting into a new data frame, less powerful than sort, but lightweight"
   ]
  },
  {
   "cell_type": "code",
   "execution_count": 20,
   "metadata": {
    "collapsed": false
   },
   "outputs": [
    {
     "data": {
      "text/html": [
       "<table class=\"data-frame\"><thead><tr><th></th><th>z</th><th>x</th><th>x²</th></tr></thead><tbody><tr><th>1</th><td>false</td><td>2</td><td>4</td></tr><tr><th>2</th><td>false</td><td>4</td><td>16</td></tr><tr><th>3</th><td>true</td><td>1</td><td>1</td></tr><tr><th>4</th><td>true</td><td>3</td><td>9</td></tr></tbody></table>"
      ],
      "text/plain": [
       "4×3 DataFrames.DataFrame\n",
       "│ Row │ z     │ x │ x² │\n",
       "├─────┼───────┼───┼────┤\n",
       "│ 1   │ false │ 2 │ 4  │\n",
       "│ 2   │ false │ 4 │ 16 │\n",
       "│ 3   │ true  │ 1 │ 1  │\n",
       "│ 4   │ true  │ 3 │ 9  │"
      ]
     },
     "execution_count": 20,
     "metadata": {},
     "output_type": "execute_result"
    }
   ],
   "source": [
    "@linq df |> # chaining of operations on DataFrame\n",
    "    where(:x .< 5) |>\n",
    "    orderby(:z) |>\n",
    "    transform(x²=:x.^2) |>\n",
    "    select(:z, :x, :x²)"
   ]
  },
  {
   "cell_type": "code",
   "execution_count": 21,
   "metadata": {
    "collapsed": false
   },
   "outputs": [
    {
     "data": {
      "text/plain": [
       "4-element Array{Int64,1}:\n",
       " 1\n",
       " 2\n",
       " 3\n",
       " 4"
      ]
     },
     "execution_count": 21,
     "metadata": {},
     "output_type": "execute_result"
    }
   ],
   "source": [
    "f(df, col) = df[col] # you can define your own functions and put them in the chain\n",
    "@linq df |> where(:x .<= 4) |> f(:x)"
   ]
  },
  {
   "cell_type": "markdown",
   "metadata": {},
   "source": [
    "### DataFramesMeta - working on grouped `DataFrame`"
   ]
  },
  {
   "cell_type": "code",
   "execution_count": 22,
   "metadata": {
    "collapsed": false
   },
   "outputs": [
    {
     "data": {
      "text/plain": [
       "DataFrames.GroupedDataFrame  4 groups with keys: Symbol[:b]\n",
       "First Group:\n",
       "3×2 DataFrames.SubDataFrame{Array{Int64,1}}\n",
       "│ Row │ a │ b   │\n",
       "├─────┼───┼─────┤\n",
       "│ 1   │ 1 │ 'a' │\n",
       "│ 2   │ 5 │ 'a' │\n",
       "│ 3   │ 9 │ 'a' │\n",
       "⋮\n",
       "Last Group:\n",
       "3×2 DataFrames.SubDataFrame{Array{Int64,1}}\n",
       "│ Row │ a  │ b   │\n",
       "├─────┼────┼─────┤\n",
       "│ 1   │ 4  │ 'd' │\n",
       "│ 2   │ 8  │ 'd' │\n",
       "│ 3   │ 12 │ 'd' │"
      ]
     },
     "execution_count": 22,
     "metadata": {},
     "output_type": "execute_result"
    }
   ],
   "source": [
    "df = DataFrame(a = 1:12, b = repeat('a':'d', outer=3))\n",
    "g = groupby(df, :b)"
   ]
  },
  {
   "cell_type": "code",
   "execution_count": 23,
   "metadata": {
    "collapsed": false
   },
   "outputs": [
    {
     "data": {
      "text/html": [
       "<table class=\"data-frame\"><thead><tr><th></th><th>b</th><th>first</th><th>last</th><th>mean</th></tr></thead><tbody><tr><th>1</th><td>'a'</td><td>1</td><td>9</td><td>5.0</td></tr><tr><th>2</th><td>'b'</td><td>2</td><td>10</td><td>6.0</td></tr><tr><th>3</th><td>'c'</td><td>3</td><td>11</td><td>7.0</td></tr><tr><th>4</th><td>'d'</td><td>4</td><td>12</td><td>8.0</td></tr></tbody></table>"
      ],
      "text/plain": [
       "4×4 DataFrames.DataFrame\n",
       "│ Row │ b   │ first │ last │ mean │\n",
       "├─────┼─────┼───────┼──────┼──────┤\n",
       "│ 1   │ 'a' │ 1     │ 9    │ 5.0  │\n",
       "│ 2   │ 'b' │ 2     │ 10   │ 6.0  │\n",
       "│ 3   │ 'c' │ 3     │ 11   │ 7.0  │\n",
       "│ 4   │ 'd' │ 4     │ 12   │ 8.0  │"
      ]
     },
     "execution_count": 23,
     "metadata": {},
     "output_type": "execute_result"
    }
   ],
   "source": [
    "@by(df, :b, first=first(:a), last=last(:a), mean=mean(:a)) # more convinient than by from DataFrames"
   ]
  },
  {
   "cell_type": "code",
   "execution_count": 24,
   "metadata": {
    "collapsed": false
   },
   "outputs": [
    {
     "data": {
      "text/html": [
       "<table class=\"data-frame\"><thead><tr><th></th><th>b</th><th>first</th><th>last</th><th>mean</th></tr></thead><tbody><tr><th>1</th><td>'a'</td><td>1</td><td>9</td><td>5.0</td></tr><tr><th>2</th><td>'b'</td><td>2</td><td>10</td><td>6.0</td></tr><tr><th>3</th><td>'c'</td><td>3</td><td>11</td><td>7.0</td></tr><tr><th>4</th><td>'d'</td><td>4</td><td>12</td><td>8.0</td></tr></tbody></table>"
      ],
      "text/plain": [
       "4×4 DataFrames.DataFrame\n",
       "│ Row │ b   │ first │ last │ mean │\n",
       "├─────┼─────┼───────┼──────┼──────┤\n",
       "│ 1   │ 'a' │ 1     │ 9    │ 5.0  │\n",
       "│ 2   │ 'b' │ 2     │ 10   │ 6.0  │\n",
       "│ 3   │ 'c' │ 3     │ 11   │ 7.0  │\n",
       "│ 4   │ 'd' │ 4     │ 12   │ 8.0  │"
      ]
     },
     "execution_count": 24,
     "metadata": {},
     "output_type": "execute_result"
    }
   ],
   "source": [
    "@based_on(g, first=first(:a), last=last(:a), mean=mean(:a)) # the same as by but on grouped DataFrame"
   ]
  },
  {
   "cell_type": "code",
   "execution_count": 25,
   "metadata": {
    "collapsed": false
   },
   "outputs": [
    {
     "data": {
      "text/plain": [
       "DataFrames.GroupedDataFrame  2 groups with keys: Symbol[:b]\n",
       "First Group:\n",
       "3×2 DataFrames.SubDataFrame{Array{Int64,1}}\n",
       "│ Row │ a  │ b   │\n",
       "├─────┼────┼─────┤\n",
       "│ 1   │ 3  │ 'c' │\n",
       "│ 2   │ 7  │ 'c' │\n",
       "│ 3   │ 11 │ 'c' │\n",
       "⋮\n",
       "Last Group:\n",
       "3×2 DataFrames.SubDataFrame{Array{Int64,1}}\n",
       "│ Row │ a  │ b   │\n",
       "├─────┼────┼─────┤\n",
       "│ 1   │ 4  │ 'd' │\n",
       "│ 2   │ 8  │ 'd' │\n",
       "│ 3   │ 12 │ 'd' │"
      ]
     },
     "execution_count": 25,
     "metadata": {},
     "output_type": "execute_result"
    }
   ],
   "source": [
    "@where(g, mean(:a) > 6.5) # filter gropus on aggregate conditions"
   ]
  },
  {
   "cell_type": "code",
   "execution_count": 26,
   "metadata": {
    "collapsed": false
   },
   "outputs": [
    {
     "data": {
      "text/plain": [
       "DataFrames.GroupedDataFrame  4 groups with keys: Symbol[:b]\n",
       "First Group:\n",
       "3×2 DataFrames.SubDataFrame{Array{Int64,1}}\n",
       "│ Row │ a  │ b   │\n",
       "├─────┼────┼─────┤\n",
       "│ 1   │ 4  │ 'd' │\n",
       "│ 2   │ 8  │ 'd' │\n",
       "│ 3   │ 12 │ 'd' │\n",
       "⋮\n",
       "Last Group:\n",
       "3×2 DataFrames.SubDataFrame{Array{Int64,1}}\n",
       "│ Row │ a │ b   │\n",
       "├─────┼───┼─────┤\n",
       "│ 1   │ 1 │ 'a' │\n",
       "│ 2   │ 5 │ 'a' │\n",
       "│ 3   │ 9 │ 'a' │"
      ]
     },
     "execution_count": 26,
     "metadata": {},
     "output_type": "execute_result"
    }
   ],
   "source": [
    "@orderby(g, -sum(:a)) # order groups on aggregate conditions"
   ]
  },
  {
   "cell_type": "code",
   "execution_count": 27,
   "metadata": {
    "collapsed": false
   },
   "outputs": [
    {
     "data": {
      "text/html": [
       "<table class=\"data-frame\"><thead><tr><th></th><th>a</th><th>b</th><th>center</th><th>centered</th></tr></thead><tbody><tr><th>1</th><td>1</td><td>'a'</td><td>5.0</td><td>-4.0</td></tr><tr><th>2</th><td>5</td><td>'a'</td><td>5.0</td><td>0.0</td></tr><tr><th>3</th><td>9</td><td>'a'</td><td>5.0</td><td>4.0</td></tr><tr><th>4</th><td>2</td><td>'b'</td><td>6.0</td><td>-4.0</td></tr><tr><th>5</th><td>6</td><td>'b'</td><td>6.0</td><td>0.0</td></tr><tr><th>6</th><td>10</td><td>'b'</td><td>6.0</td><td>4.0</td></tr><tr><th>7</th><td>3</td><td>'c'</td><td>7.0</td><td>-4.0</td></tr><tr><th>8</th><td>7</td><td>'c'</td><td>7.0</td><td>0.0</td></tr><tr><th>9</th><td>11</td><td>'c'</td><td>7.0</td><td>4.0</td></tr><tr><th>10</th><td>4</td><td>'d'</td><td>8.0</td><td>-4.0</td></tr><tr><th>11</th><td>8</td><td>'d'</td><td>8.0</td><td>0.0</td></tr><tr><th>12</th><td>12</td><td>'d'</td><td>8.0</td><td>4.0</td></tr></tbody></table>"
      ],
      "text/plain": [
       "12×4 DataFrames.DataFrame\n",
       "│ Row │ a  │ b   │ center │ centered │\n",
       "├─────┼────┼─────┼────────┼──────────┤\n",
       "│ 1   │ 1  │ 'a' │ 5.0    │ -4.0     │\n",
       "│ 2   │ 5  │ 'a' │ 5.0    │ 0.0      │\n",
       "│ 3   │ 9  │ 'a' │ 5.0    │ 4.0      │\n",
       "│ 4   │ 2  │ 'b' │ 6.0    │ -4.0     │\n",
       "│ 5   │ 6  │ 'b' │ 6.0    │ 0.0      │\n",
       "│ 6   │ 10 │ 'b' │ 6.0    │ 4.0      │\n",
       "│ 7   │ 3  │ 'c' │ 7.0    │ -4.0     │\n",
       "│ 8   │ 7  │ 'c' │ 7.0    │ 0.0      │\n",
       "│ 9   │ 11 │ 'c' │ 7.0    │ 4.0      │\n",
       "│ 10  │ 4  │ 'd' │ 8.0    │ -4.0     │\n",
       "│ 11  │ 8  │ 'd' │ 8.0    │ 0.0      │\n",
       "│ 12  │ 12 │ 'd' │ 8.0    │ 4.0      │"
      ]
     },
     "execution_count": 27,
     "metadata": {},
     "output_type": "execute_result"
    }
   ],
   "source": [
    "@transform(g, center = mean(:a), centered = :a - mean(:a)) # perform operations within a group and return ungroped DataFrame"
   ]
  },
  {
   "cell_type": "code",
   "execution_count": 28,
   "metadata": {
    "collapsed": false
   },
   "outputs": [
    {
     "data": {
      "text/html": [
       "<table class=\"data-frame\"><thead><tr><th></th><th>a</th><th>b</th></tr></thead><tbody><tr><th>1</th><td>1</td><td>'a'</td></tr><tr><th>2</th><td>5</td><td>'a'</td></tr><tr><th>3</th><td>9</td><td>'a'</td></tr><tr><th>4</th><td>2</td><td>'b'</td></tr><tr><th>5</th><td>6</td><td>'b'</td></tr><tr><th>6</th><td>10</td><td>'b'</td></tr><tr><th>7</th><td>3</td><td>'c'</td></tr><tr><th>8</th><td>7</td><td>'c'</td></tr><tr><th>9</th><td>11</td><td>'c'</td></tr><tr><th>10</th><td>4</td><td>'d'</td></tr><tr><th>11</th><td>8</td><td>'d'</td></tr><tr><th>12</th><td>12</td><td>'d'</td></tr></tbody></table>"
      ],
      "text/plain": [
       "12×2 DataFrames.DataFrame\n",
       "│ Row │ a  │ b   │\n",
       "├─────┼────┼─────┤\n",
       "│ 1   │ 1  │ 'a' │\n",
       "│ 2   │ 5  │ 'a' │\n",
       "│ 3   │ 9  │ 'a' │\n",
       "│ 4   │ 2  │ 'b' │\n",
       "│ 5   │ 6  │ 'b' │\n",
       "│ 6   │ 10 │ 'b' │\n",
       "│ 7   │ 3  │ 'c' │\n",
       "│ 8   │ 7  │ 'c' │\n",
       "│ 9   │ 11 │ 'c' │\n",
       "│ 10  │ 4  │ 'd' │\n",
       "│ 11  │ 8  │ 'd' │\n",
       "│ 12  │ 12 │ 'd' │"
      ]
     },
     "execution_count": 28,
     "metadata": {},
     "output_type": "execute_result"
    }
   ],
   "source": [
    "DataFrame(g) # a nice convinience function not defined in DataFrames"
   ]
  },
  {
   "cell_type": "code",
   "execution_count": 29,
   "metadata": {
    "collapsed": false
   },
   "outputs": [
    {
     "data": {
      "text/html": [
       "<table class=\"data-frame\"><thead><tr><th></th><th>a</th><th>b</th></tr></thead><tbody><tr><th>1</th><td>1</td><td>'a'</td></tr><tr><th>2</th><td>5</td><td>'a'</td></tr><tr><th>3</th><td>9</td><td>'a'</td></tr><tr><th>4</th><td>2</td><td>'b'</td></tr><tr><th>5</th><td>6</td><td>'b'</td></tr><tr><th>6</th><td>10</td><td>'b'</td></tr><tr><th>7</th><td>3</td><td>'c'</td></tr><tr><th>8</th><td>7</td><td>'c'</td></tr><tr><th>9</th><td>11</td><td>'c'</td></tr><tr><th>10</th><td>4</td><td>'d'</td></tr><tr><th>11</th><td>8</td><td>'d'</td></tr><tr><th>12</th><td>12</td><td>'d'</td></tr></tbody></table>"
      ],
      "text/plain": [
       "12×2 DataFrames.DataFrame\n",
       "│ Row │ a  │ b   │\n",
       "├─────┼────┼─────┤\n",
       "│ 1   │ 1  │ 'a' │\n",
       "│ 2   │ 5  │ 'a' │\n",
       "│ 3   │ 9  │ 'a' │\n",
       "│ 4   │ 2  │ 'b' │\n",
       "│ 5   │ 6  │ 'b' │\n",
       "│ 6   │ 10 │ 'b' │\n",
       "│ 7   │ 3  │ 'c' │\n",
       "│ 8   │ 7  │ 'c' │\n",
       "│ 9   │ 11 │ 'c' │\n",
       "│ 10  │ 4  │ 'd' │\n",
       "│ 11  │ 8  │ 'd' │\n",
       "│ 12  │ 12 │ 'd' │"
      ]
     },
     "execution_count": 29,
     "metadata": {},
     "output_type": "execute_result"
    }
   ],
   "source": [
    "@transform(g) # actually this is the same"
   ]
  },
  {
   "cell_type": "code",
   "execution_count": 30,
   "metadata": {
    "collapsed": false
   },
   "outputs": [
    {
     "data": {
      "text/html": [
       "<table class=\"data-frame\"><thead><tr><th></th><th>a</th><th>b</th></tr></thead><tbody><tr><th>1</th><td>3</td><td>'c'</td></tr><tr><th>2</th><td>7</td><td>'c'</td></tr><tr><th>3</th><td>11</td><td>'c'</td></tr><tr><th>4</th><td>4</td><td>'d'</td></tr><tr><th>5</th><td>8</td><td>'d'</td></tr><tr><th>6</th><td>12</td><td>'d'</td></tr></tbody></table>"
      ],
      "text/plain": [
       "6×2 DataFrames.DataFrame\n",
       "│ Row │ a  │ b   │\n",
       "├─────┼────┼─────┤\n",
       "│ 1   │ 3  │ 'c' │\n",
       "│ 2   │ 7  │ 'c' │\n",
       "│ 3   │ 11 │ 'c' │\n",
       "│ 4   │ 4  │ 'd' │\n",
       "│ 5   │ 8  │ 'd' │\n",
       "│ 6   │ 12 │ 'd' │"
      ]
     },
     "execution_count": 30,
     "metadata": {},
     "output_type": "execute_result"
    }
   ],
   "source": [
    "@linq df |> groupby(:b) |> where(mean(:a) > 6.5) |> DataFrame # you can do chaining on grouped DataFrames as well"
   ]
  }
 ],
 "metadata": {
  "kernelspec": {
   "display_name": "Julia 0.6.0",
   "language": "julia",
   "name": "julia-0.6"
  },
  "language_info": {
   "file_extension": ".jl",
   "mimetype": "application/julia",
   "name": "julia",
   "version": "0.6.2"
  }
 },
 "nbformat": 4,
 "nbformat_minor": 0
}

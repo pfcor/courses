{
 "cells": [
  {
   "cell_type": "markdown",
   "metadata": {},
   "source": [
    "# Introduction to DataFrames\n",
    "**[Bogumił Kamiński](http://bogumilkaminski.pl/about/), Dec 5, 2017**\n",
    "\n",
    "A brief introduction to basic usage of `DataFrames`. Tested under `DataFrames` master on 2017-12-05.\n",
    "I will try to keep it up to date as the package evolves."
   ]
  },
  {
   "cell_type": "code",
   "execution_count": 1,
   "metadata": {
    "collapsed": false
   },
   "outputs": [],
   "source": [
    "using DataFrames # load package"
   ]
  },
  {
   "cell_type": "markdown",
   "metadata": {},
   "source": [
    "## Reshaping DataFrames"
   ]
  },
  {
   "cell_type": "markdown",
   "metadata": {},
   "source": [
    "### Wide to long"
   ]
  },
  {
   "cell_type": "code",
   "execution_count": 2,
   "metadata": {
    "collapsed": false
   },
   "outputs": [
    {
     "data": {
      "text/html": [
       "<table class=\"data-frame\"><thead><tr><th></th><th>id</th><th>id2</th><th>M1</th><th>M2</th></tr></thead><tbody><tr><th>1</th><td>1</td><td>1</td><td>11</td><td>111</td></tr><tr><th>2</th><td>2</td><td>1</td><td>12</td><td>112</td></tr><tr><th>3</th><td>3</td><td>2</td><td>13</td><td>113</td></tr><tr><th>4</th><td>4</td><td>2</td><td>14</td><td>114</td></tr></tbody></table>"
      ],
      "text/plain": [
       "4×4 DataFrames.DataFrame\n",
       "│ Row │ id │ id2 │ M1 │ M2  │\n",
       "├─────┼────┼─────┼────┼─────┤\n",
       "│ 1   │ 1  │ 1   │ 11 │ 111 │\n",
       "│ 2   │ 2  │ 1   │ 12 │ 112 │\n",
       "│ 3   │ 3  │ 2   │ 13 │ 113 │\n",
       "│ 4   │ 4  │ 2   │ 14 │ 114 │"
      ]
     },
     "execution_count": 2,
     "metadata": {},
     "output_type": "execute_result"
    }
   ],
   "source": [
    "x = DataFrame(id=[1,2,3,4], id2=[1,1,2,2], M1=[11,12,13,14], M2=[111,112,113,114])"
   ]
  },
  {
   "cell_type": "code",
   "execution_count": 3,
   "metadata": {
    "collapsed": false
   },
   "outputs": [
    {
     "data": {
      "text/html": [
       "<table class=\"data-frame\"><thead><tr><th></th><th>variable</th><th>value</th><th>id</th></tr></thead><tbody><tr><th>1</th><td>M1</td><td>11</td><td>1</td></tr><tr><th>2</th><td>M1</td><td>12</td><td>2</td></tr><tr><th>3</th><td>M1</td><td>13</td><td>3</td></tr><tr><th>4</th><td>M1</td><td>14</td><td>4</td></tr><tr><th>5</th><td>M2</td><td>111</td><td>1</td></tr><tr><th>6</th><td>M2</td><td>112</td><td>2</td></tr><tr><th>7</th><td>M2</td><td>113</td><td>3</td></tr><tr><th>8</th><td>M2</td><td>114</td><td>4</td></tr></tbody></table>"
      ],
      "text/plain": [
       "8×3 DataFrames.DataFrame\n",
       "│ Row │ variable │ value │ id │\n",
       "├─────┼──────────┼───────┼────┤\n",
       "│ 1   │ M1       │ 11    │ 1  │\n",
       "│ 2   │ M1       │ 12    │ 2  │\n",
       "│ 3   │ M1       │ 13    │ 3  │\n",
       "│ 4   │ M1       │ 14    │ 4  │\n",
       "│ 5   │ M2       │ 111   │ 1  │\n",
       "│ 6   │ M2       │ 112   │ 2  │\n",
       "│ 7   │ M2       │ 113   │ 3  │\n",
       "│ 8   │ M2       │ 114   │ 4  │"
      ]
     },
     "execution_count": 3,
     "metadata": {},
     "output_type": "execute_result"
    }
   ],
   "source": [
    "melt(x, :id, [:M1, :M2]) # first pass id-variables and then measure variables; meltdf makes a view"
   ]
  },
  {
   "cell_type": "code",
   "execution_count": 4,
   "metadata": {
    "collapsed": false
   },
   "outputs": [
    {
     "data": {
      "text/html": [
       "<table class=\"data-frame\"><thead><tr><th></th><th>key</th><th>observed</th><th>id</th></tr></thead><tbody><tr><th>1</th><td>M1</td><td>11</td><td>1</td></tr><tr><th>2</th><td>M1</td><td>12</td><td>2</td></tr><tr><th>3</th><td>M1</td><td>13</td><td>3</td></tr><tr><th>4</th><td>M1</td><td>14</td><td>4</td></tr><tr><th>5</th><td>M2</td><td>111</td><td>1</td></tr><tr><th>6</th><td>M2</td><td>112</td><td>2</td></tr><tr><th>7</th><td>M2</td><td>113</td><td>3</td></tr><tr><th>8</th><td>M2</td><td>114</td><td>4</td></tr></tbody></table>"
      ],
      "text/plain": [
       "8×3 DataFrames.DataFrame\n",
       "│ Row │ key │ observed │ id │\n",
       "├─────┼─────┼──────────┼────┤\n",
       "│ 1   │ M1  │ 11       │ 1  │\n",
       "│ 2   │ M1  │ 12       │ 2  │\n",
       "│ 3   │ M1  │ 13       │ 3  │\n",
       "│ 4   │ M1  │ 14       │ 4  │\n",
       "│ 5   │ M2  │ 111      │ 1  │\n",
       "│ 6   │ M2  │ 112      │ 2  │\n",
       "│ 7   │ M2  │ 113      │ 3  │\n",
       "│ 8   │ M2  │ 114      │ 4  │"
      ]
     },
     "execution_count": 4,
     "metadata": {},
     "output_type": "execute_result"
    }
   ],
   "source": [
    "# optionally you can rename columns; melt and stack are identical but order of arguments is reversed\n",
    "stack(x, [:M1, :M2], :id, variable_name=:key, value_name=:observed) # first measures and then id-s; stackdf creates view"
   ]
  },
  {
   "cell_type": "code",
   "execution_count": 5,
   "metadata": {
    "collapsed": false
   },
   "outputs": [
    {
     "data": {
      "text/html": [
       "<table class=\"data-frame\"><thead><tr><th></th><th>variable</th><th>value</th><th>id</th><th>id2</th></tr></thead><tbody><tr><th>1</th><td>M1</td><td>11</td><td>1</td><td>1</td></tr><tr><th>2</th><td>M1</td><td>12</td><td>2</td><td>1</td></tr><tr><th>3</th><td>M1</td><td>13</td><td>3</td><td>2</td></tr><tr><th>4</th><td>M1</td><td>14</td><td>4</td><td>2</td></tr><tr><th>5</th><td>M2</td><td>111</td><td>1</td><td>1</td></tr><tr><th>6</th><td>M2</td><td>112</td><td>2</td><td>1</td></tr><tr><th>7</th><td>M2</td><td>113</td><td>3</td><td>2</td></tr><tr><th>8</th><td>M2</td><td>114</td><td>4</td><td>2</td></tr></tbody></table>"
      ],
      "text/plain": [
       "8×4 DataFrames.DataFrame\n",
       "│ Row │ variable │ value │ id │ id2 │\n",
       "├─────┼──────────┼───────┼────┼─────┤\n",
       "│ 1   │ M1       │ 11    │ 1  │ 1   │\n",
       "│ 2   │ M1       │ 12    │ 2  │ 1   │\n",
       "│ 3   │ M1       │ 13    │ 3  │ 2   │\n",
       "│ 4   │ M1       │ 14    │ 4  │ 2   │\n",
       "│ 5   │ M2       │ 111   │ 1  │ 1   │\n",
       "│ 6   │ M2       │ 112   │ 2  │ 1   │\n",
       "│ 7   │ M2       │ 113   │ 3  │ 2   │\n",
       "│ 8   │ M2       │ 114   │ 4  │ 2   │"
      ]
     },
     "execution_count": 5,
     "metadata": {},
     "output_type": "execute_result"
    }
   ],
   "source": [
    "# if second argument is omitted in melt or stack , all other columns are assumed to be the second argument\n",
    "# but measure variables are selected only if they are <: AbstractFloat\n",
    "melt(x, [:id, :id2])"
   ]
  },
  {
   "cell_type": "code",
   "execution_count": 6,
   "metadata": {
    "collapsed": false
   },
   "outputs": [
    {
     "data": {
      "text/html": [
       "<table class=\"data-frame\"><thead><tr><th></th><th>variable</th><th>value</th><th>id</th><th>id2</th></tr></thead><tbody><tr><th>1</th><td>M1</td><td>11</td><td>1</td><td>1</td></tr><tr><th>2</th><td>M1</td><td>12</td><td>2</td><td>1</td></tr><tr><th>3</th><td>M1</td><td>13</td><td>3</td><td>2</td></tr><tr><th>4</th><td>M1</td><td>14</td><td>4</td><td>2</td></tr><tr><th>5</th><td>M2</td><td>111</td><td>1</td><td>1</td></tr><tr><th>6</th><td>M2</td><td>112</td><td>2</td><td>1</td></tr><tr><th>7</th><td>M2</td><td>113</td><td>3</td><td>2</td></tr><tr><th>8</th><td>M2</td><td>114</td><td>4</td><td>2</td></tr></tbody></table>"
      ],
      "text/plain": [
       "8×4 DataFrames.DataFrame\n",
       "│ Row │ variable │ value │ id │ id2 │\n",
       "├─────┼──────────┼───────┼────┼─────┤\n",
       "│ 1   │ M1       │ 11    │ 1  │ 1   │\n",
       "│ 2   │ M1       │ 12    │ 2  │ 1   │\n",
       "│ 3   │ M1       │ 13    │ 3  │ 2   │\n",
       "│ 4   │ M1       │ 14    │ 4  │ 2   │\n",
       "│ 5   │ M2       │ 111   │ 1  │ 1   │\n",
       "│ 6   │ M2       │ 112   │ 2  │ 1   │\n",
       "│ 7   │ M2       │ 113   │ 3  │ 2   │\n",
       "│ 8   │ M2       │ 114   │ 4  │ 2   │"
      ]
     },
     "execution_count": 6,
     "metadata": {},
     "output_type": "execute_result"
    }
   ],
   "source": [
    "melt(x, [1, 2]) # you can use index instead of symbol"
   ]
  },
  {
   "cell_type": "code",
   "execution_count": 7,
   "metadata": {
    "collapsed": false
   },
   "outputs": [
    {
     "name": "stdout",
     "output_type": "stream",
     "text": [
      "  0.449804 seconds (63.07 k allocations: 232.113 MiB, 25.71% gc time)\n",
      "  0.244550 seconds (103.05 k allocations: 5.486 MiB)\n"
     ]
    }
   ],
   "source": [
    "bigx = DataFrame(rand(10^6, 10)) # a test comparing creation of new DataFrame and a view\n",
    "bigx[:id] = 1:10^6\n",
    "@time melt(bigx, :id)\n",
    "@time meltdf(bigx, :id);"
   ]
  },
  {
   "cell_type": "code",
   "execution_count": 8,
   "metadata": {
    "collapsed": false
   },
   "outputs": [
    {
     "data": {
      "text/html": [
       "<table class=\"data-frame\"><thead><tr><th></th><th>id</th><th>id2</th><th>a1</th><th>a2</th></tr></thead><tbody><tr><th>1</th><td>1</td><td>'a'</td><td>0.397696</td><td>0.342166</td></tr><tr><th>2</th><td>1</td><td>'b'</td><td>0.599515</td><td>0.545464</td></tr><tr><th>3</th><td>1</td><td>'c'</td><td>0.931184</td><td>0.19341</td></tr></tbody></table>"
      ],
      "text/plain": [
       "3×4 DataFrames.DataFrame\n",
       "│ Row │ id │ id2 │ a1       │ a2       │\n",
       "├─────┼────┼─────┼──────────┼──────────┤\n",
       "│ 1   │ 1  │ 'a' │ 0.397696 │ 0.342166 │\n",
       "│ 2   │ 1  │ 'b' │ 0.599515 │ 0.545464 │\n",
       "│ 3   │ 1  │ 'c' │ 0.931184 │ 0.19341  │"
      ]
     },
     "execution_count": 8,
     "metadata": {},
     "output_type": "execute_result"
    }
   ],
   "source": [
    "x = DataFrame(id = [1,1,1], id2=['a','b','c'], a1 = rand(3), a2 = rand(3))"
   ]
  },
  {
   "cell_type": "code",
   "execution_count": 9,
   "metadata": {
    "collapsed": false
   },
   "outputs": [
    {
     "data": {
      "text/html": [
       "<table class=\"data-frame\"><thead><tr><th></th><th>variable</th><th>value</th><th>id</th><th>id2</th></tr></thead><tbody><tr><th>1</th><td>a1</td><td>0.397696</td><td>1</td><td>'a'</td></tr><tr><th>2</th><td>a1</td><td>0.599515</td><td>1</td><td>'b'</td></tr><tr><th>3</th><td>a1</td><td>0.931184</td><td>1</td><td>'c'</td></tr><tr><th>4</th><td>a2</td><td>0.342166</td><td>1</td><td>'a'</td></tr><tr><th>5</th><td>a2</td><td>0.545464</td><td>1</td><td>'b'</td></tr><tr><th>6</th><td>a2</td><td>0.19341</td><td>1</td><td>'c'</td></tr></tbody></table>"
      ],
      "text/plain": [
       "6×4 DataFrames.DataFrame\n",
       "│ Row │ variable │ value    │ id │ id2 │\n",
       "├─────┼──────────┼──────────┼────┼─────┤\n",
       "│ 1   │ a1       │ 0.397696 │ 1  │ 'a' │\n",
       "│ 2   │ a1       │ 0.599515 │ 1  │ 'b' │\n",
       "│ 3   │ a1       │ 0.931184 │ 1  │ 'c' │\n",
       "│ 4   │ a2       │ 0.342166 │ 1  │ 'a' │\n",
       "│ 5   │ a2       │ 0.545464 │ 1  │ 'b' │\n",
       "│ 6   │ a2       │ 0.19341  │ 1  │ 'c' │"
      ]
     },
     "execution_count": 9,
     "metadata": {},
     "output_type": "execute_result"
    }
   ],
   "source": [
    "melt(x)"
   ]
  },
  {
   "cell_type": "code",
   "execution_count": 10,
   "metadata": {
    "collapsed": false
   },
   "outputs": [
    {
     "data": {
      "text/html": [
       "<table class=\"data-frame\"><thead><tr><th></th><th>variable</th><th>value</th></tr></thead><tbody><tr><th>1</th><td>x1</td><td>0.469007</td></tr><tr><th>2</th><td>x1</td><td>0.30913</td></tr><tr><th>3</th><td>x1</td><td>0.369626</td></tr><tr><th>4</th><td>x2</td><td>0.264322</td></tr><tr><th>5</th><td>x2</td><td>0.742297</td></tr><tr><th>6</th><td>x2</td><td>0.489639</td></tr></tbody></table>"
      ],
      "text/plain": [
       "6×2 DataFrames.DataFrame\n",
       "│ Row │ variable │ value    │\n",
       "├─────┼──────────┼──────────┤\n",
       "│ 1   │ x1       │ 0.469007 │\n",
       "│ 2   │ x1       │ 0.30913  │\n",
       "│ 3   │ x1       │ 0.369626 │\n",
       "│ 4   │ x2       │ 0.264322 │\n",
       "│ 5   │ x2       │ 0.742297 │\n",
       "│ 6   │ x2       │ 0.489639 │"
      ]
     },
     "execution_count": 10,
     "metadata": {},
     "output_type": "execute_result"
    }
   ],
   "source": [
    "melt(DataFrame(rand(3,2))) # by default stack and melt treats floats as value columns"
   ]
  },
  {
   "cell_type": "code",
   "execution_count": 11,
   "metadata": {
    "collapsed": false
   },
   "outputs": [
    {
     "data": {
      "text/html": [
       "<table class=\"data-frame\"><thead><tr><th></th><th>variable</th><th>value</th><th>key</th></tr></thead><tbody><tr><th>1</th><td>x1</td><td>0.913449</td><td>1</td></tr><tr><th>2</th><td>x1</td><td>0.478633</td><td>1</td></tr><tr><th>3</th><td>x1</td><td>0.606392</td><td>1</td></tr><tr><th>4</th><td>x2</td><td>0.429939</td><td>1</td></tr><tr><th>5</th><td>x2</td><td>0.91427</td><td>1</td></tr><tr><th>6</th><td>x2</td><td>0.337993</td><td>1</td></tr></tbody></table>"
      ],
      "text/plain": [
       "6×3 DataFrames.DataFrame\n",
       "│ Row │ variable │ value    │ key │\n",
       "├─────┼──────────┼──────────┼─────┤\n",
       "│ 1   │ x1       │ 0.913449 │ 1   │\n",
       "│ 2   │ x1       │ 0.478633 │ 1   │\n",
       "│ 3   │ x1       │ 0.606392 │ 1   │\n",
       "│ 4   │ x2       │ 0.429939 │ 1   │\n",
       "│ 5   │ x2       │ 0.91427  │ 1   │\n",
       "│ 6   │ x2       │ 0.337993 │ 1   │"
      ]
     },
     "execution_count": 11,
     "metadata": {},
     "output_type": "execute_result"
    }
   ],
   "source": [
    "df = DataFrame(rand(3,2))\n",
    "df[:key] = [1,1,1]\n",
    "mdf = melt(df) # duplicates in key are silently accepted"
   ]
  },
  {
   "cell_type": "markdown",
   "metadata": {},
   "source": [
    "### Long to wide"
   ]
  },
  {
   "cell_type": "code",
   "execution_count": 12,
   "metadata": {
    "collapsed": false
   },
   "outputs": [
    {
     "data": {
      "text/plain": [
       "(3×4 DataFrames.DataFrame\n",
       "│ Row │ id │ id2 │ a1       │ a2       │\n",
       "├─────┼────┼─────┼──────────┼──────────┤\n",
       "│ 1   │ 1  │ 'a' │ 0.397696 │ 0.342166 │\n",
       "│ 2   │ 1  │ 'b' │ 0.599515 │ 0.545464 │\n",
       "│ 3   │ 1  │ 'c' │ 0.931184 │ 0.19341  │, 6×4 DataFrames.DataFrame\n",
       "│ Row │ variable │ value    │ id │ id2 │\n",
       "├─────┼──────────┼──────────┼────┼─────┤\n",
       "│ 1   │ a1       │ 0.397696 │ 1  │ 'a' │\n",
       "│ 2   │ a1       │ 0.599515 │ 1  │ 'b' │\n",
       "│ 3   │ a1       │ 0.931184 │ 1  │ 'c' │\n",
       "│ 4   │ a2       │ 0.342166 │ 1  │ 'a' │\n",
       "│ 5   │ a2       │ 0.545464 │ 1  │ 'b' │\n",
       "│ 6   │ a2       │ 0.19341  │ 1  │ 'c' │)"
      ]
     },
     "execution_count": 12,
     "metadata": {},
     "output_type": "execute_result"
    }
   ],
   "source": [
    "y = melt(x, [1,2])\n",
    "x,y"
   ]
  },
  {
   "cell_type": "code",
   "execution_count": 13,
   "metadata": {
    "collapsed": false
   },
   "outputs": [
    {
     "data": {
      "text/html": [
       "<table class=\"data-frame\"><thead><tr><th></th><th>id2</th><th>a1</th><th>a2</th></tr></thead><tbody><tr><th>1</th><td>'a'</td><td>0.397696</td><td>0.342166</td></tr><tr><th>2</th><td>'b'</td><td>0.599515</td><td>0.545464</td></tr><tr><th>3</th><td>'c'</td><td>0.931184</td><td>0.19341</td></tr></tbody></table>"
      ],
      "text/plain": [
       "3×3 DataFrames.DataFrame\n",
       "│ Row │ id2 │ a1       │ a2       │\n",
       "├─────┼─────┼──────────┼──────────┤\n",
       "│ 1   │ 'a' │ 0.397696 │ 0.342166 │\n",
       "│ 2   │ 'b' │ 0.599515 │ 0.545464 │\n",
       "│ 3   │ 'c' │ 0.931184 │ 0.19341  │"
      ]
     },
     "execution_count": 13,
     "metadata": {},
     "output_type": "execute_result"
    }
   ],
   "source": [
    "unstack(y, :id2, :variable, :value) # stndard unstack with unique key"
   ]
  },
  {
   "cell_type": "code",
   "execution_count": 14,
   "metadata": {
    "collapsed": false
   },
   "outputs": [
    {
     "data": {
      "text/html": [
       "<table class=\"data-frame\"><thead><tr><th></th><th>id</th><th>id2</th><th>a1</th><th>a2</th></tr></thead><tbody><tr><th>1</th><td>1</td><td>'a'</td><td>0.397696</td><td>0.342166</td></tr><tr><th>2</th><td>1</td><td>'b'</td><td>0.599515</td><td>0.545464</td></tr><tr><th>3</th><td>1</td><td>'c'</td><td>0.931184</td><td>0.19341</td></tr></tbody></table>"
      ],
      "text/plain": [
       "3×4 DataFrames.DataFrame\n",
       "│ Row │ id │ id2 │ a1       │ a2       │\n",
       "├─────┼────┼─────┼──────────┼──────────┤\n",
       "│ 1   │ 1  │ 'a' │ 0.397696 │ 0.342166 │\n",
       "│ 2   │ 1  │ 'b' │ 0.599515 │ 0.545464 │\n",
       "│ 3   │ 1  │ 'c' │ 0.931184 │ 0.19341  │"
      ]
     },
     "execution_count": 14,
     "metadata": {},
     "output_type": "execute_result"
    }
   ],
   "source": [
    "unstack(y, :variable, :value) # all other columns are treated as keys"
   ]
  },
  {
   "cell_type": "code",
   "execution_count": 15,
   "metadata": {
    "collapsed": false
   },
   "outputs": [
    {
     "name": "stderr",
     "output_type": "stream",
     "text": [
      "\u001b[1m\u001b[33mWARNING: \u001b[39m\u001b[22m\u001b[33mDuplicate entries in unstack.\u001b[39m\n"
     ]
    },
    {
     "data": {
      "text/html": [
       "<table class=\"data-frame\"><thead><tr><th></th><th>id</th><th>a1</th><th>a2</th></tr></thead><tbody><tr><th>1</th><td>1</td><td>0.931184</td><td>0.19341</td></tr></tbody></table>"
      ],
      "text/plain": [
       "1×3 DataFrames.DataFrame\n",
       "│ Row │ id │ a1       │ a2      │\n",
       "├─────┼────┼──────────┼─────────┤\n",
       "│ 1   │ 1  │ 0.931184 │ 0.19341 │"
      ]
     },
     "execution_count": 15,
     "metadata": {},
     "output_type": "execute_result"
    }
   ],
   "source": [
    "# by default :id, :variable and :value names are assumed; in this case it produces duplicate keys\n",
    "unstack(y)"
   ]
  },
  {
   "cell_type": "code",
   "execution_count": 16,
   "metadata": {
    "collapsed": false
   },
   "outputs": [
    {
     "ename": "LoadError",
     "evalue": "\u001b[91mBoundsError: attempt to access ()\n  at index [1]\u001b[39m",
     "output_type": "error",
     "traceback": [
      "\u001b[91mBoundsError: attempt to access ()\n  at index [1]\u001b[39m",
      "",
      "Stacktrace:",
      " [1] \u001b[1mrow_group_slots\u001b[22m\u001b[22m\u001b[1m(\u001b[22m\u001b[22m::Tuple{}, ::Array{UInt64,1}, ::Array{Bool,1}, ::Array{Int64,1}, ::Bool\u001b[1m)\u001b[22m\u001b[22m at \u001b[1mD:\\Software\\JULIA_PKG\\v0.6\\DataFrames\\src\\dataframerow\\utils.jl:97\u001b[22m\u001b[22m",
      " [2] \u001b[1mrow_group_slots\u001b[22m\u001b[22m\u001b[1m(\u001b[22m\u001b[22m::DataFrames.DataFrame, ::Array{Int64,1}, ::Bool\u001b[1m)\u001b[22m\u001b[22m at \u001b[1mD:\\Software\\JULIA_PKG\\v0.6\\DataFrames\\src\\dataframerow\\utils.jl:89\u001b[22m\u001b[22m",
      " [3] \u001b[1mgroup_rows\u001b[22m\u001b[22m\u001b[1m(\u001b[22m\u001b[22m::DataFrames.DataFrame, ::Bool\u001b[1m)\u001b[22m\u001b[22m at \u001b[1mD:\\Software\\JULIA_PKG\\v0.6\\DataFrames\\src\\dataframerow\\utils.jl:141\u001b[22m\u001b[22m",
      " [4] \u001b[1m#groupby#54\u001b[22m\u001b[22m\u001b[1m(\u001b[22m\u001b[22m::Bool, ::Bool, ::Function, ::DataFrames.DataFrame, ::Array{Symbol,1}\u001b[1m)\u001b[22m\u001b[22m at \u001b[1mD:\\Software\\JULIA_PKG\\v0.6\\DataFrames\\src\\groupeddataframe\\grouping.jl:83\u001b[22m\u001b[22m",
      " [5] \u001b[1m(::DataFrames.#kw##groupby)\u001b[22m\u001b[22m\u001b[1m(\u001b[22m\u001b[22m::Array{Any,1}, ::DataFrames.#groupby, ::DataFrames.DataFrame, ::Array{Symbol,1}\u001b[1m)\u001b[22m\u001b[22m at \u001b[1m.\\<missing>:0\u001b[22m\u001b[22m",
      " [6] \u001b[1munstack\u001b[22m\u001b[22m\u001b[1m(\u001b[22m\u001b[22m::DataFrames.DataFrame, ::Int64, ::Int64\u001b[1m)\u001b[22m\u001b[22m at \u001b[1mD:\\Software\\JULIA_PKG\\v0.6\\DataFrames\\src\\abstractdataframe\\reshape.jl:227\u001b[22m\u001b[22m",
      " [7] \u001b[1munstack\u001b[22m\u001b[22m\u001b[1m(\u001b[22m\u001b[22m::DataFrames.DataFrame, ::Symbol, ::Symbol\u001b[1m)\u001b[22m\u001b[22m at \u001b[1mD:\\Software\\JULIA_PKG\\v0.6\\DataFrames\\src\\abstractdataframe\\reshape.jl:222\u001b[22m\u001b[22m",
      " [8] \u001b[1minclude_string\u001b[22m\u001b[22m\u001b[1m(\u001b[22m\u001b[22m::String, ::String\u001b[1m)\u001b[22m\u001b[22m at \u001b[1m.\\loading.jl:522\u001b[22m\u001b[22m"
     ]
    }
   ],
   "source": [
    "unstack(stack(DataFrame(rand(3,2))), :variable, :value) # unable to unstack when no key column is present"
   ]
  },
  {
   "cell_type": "code",
   "execution_count": 17,
   "metadata": {
    "collapsed": false
   },
   "outputs": [
    {
     "data": {
      "text/html": [
       "<table class=\"data-frame\"><thead><tr><th></th><th>x1</th><th>x2</th></tr></thead><tbody></tbody></table>"
      ],
      "text/plain": [
       "0×2 DataFrames.DataFrame\n"
      ]
     },
     "execution_count": 17,
     "metadata": {},
     "output_type": "execute_result"
    }
   ],
   "source": [
    "# this went through as now stack assumes that columns :x1 and :x2 are keys because those are Int not Float64 as before\n",
    "unstack(stack(DataFrame(rand(Int, 3,2))), :variable, :value)"
   ]
  }
 ],
 "metadata": {
  "kernelspec": {
   "display_name": "Julia 0.6.0",
   "language": "julia",
   "name": "julia-0.6"
  },
  "language_info": {
   "file_extension": ".jl",
   "mimetype": "application/julia",
   "name": "julia",
   "version": "0.6.1"
  }
 },
 "nbformat": 4,
 "nbformat_minor": 0
}

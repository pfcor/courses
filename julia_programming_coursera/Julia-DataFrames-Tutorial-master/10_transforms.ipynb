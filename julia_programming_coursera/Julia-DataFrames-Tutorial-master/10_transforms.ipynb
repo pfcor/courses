{
 "cells": [
  {
   "cell_type": "markdown",
   "metadata": {},
   "source": [
    "# Introduction to DataFrames\n",
    "**[Bogumił Kamiński](http://bogumilkaminski.pl/about/), Dec 5, 2017**\n",
    "\n",
    "A brief introduction to basic usage of `DataFrames`. Tested under `DataFrames` master on 2017-12-05.\n",
    "I will try to keep it up to date as the package evolves."
   ]
  },
  {
   "cell_type": "code",
   "execution_count": 1,
   "metadata": {
    "collapsed": false
   },
   "outputs": [],
   "source": [
    "using DataFrames # load package"
   ]
  },
  {
   "cell_type": "markdown",
   "metadata": {},
   "source": [
    "## Split-apply-combine"
   ]
  },
  {
   "cell_type": "code",
   "execution_count": 2,
   "metadata": {
    "collapsed": false
   },
   "outputs": [
    {
     "data": {
      "text/html": [
       "<table class=\"data-frame\"><thead><tr><th></th><th>id</th><th>id2</th><th>v</th></tr></thead><tbody><tr><th>1</th><td>1</td><td>1</td><td>0.613302</td></tr><tr><th>2</th><td>2</td><td>2</td><td>0.308748</td></tr><tr><th>3</th><td>3</td><td>1</td><td>0.427095</td></tr><tr><th>4</th><td>4</td><td>2</td><td>0.445219</td></tr><tr><th>5</th><td>1</td><td>1</td><td>0.51192</td></tr><tr><th>6</th><td>2</td><td>2</td><td>0.0172866</td></tr><tr><th>7</th><td>3</td><td>1</td><td>0.580768</td></tr><tr><th>8</th><td>4</td><td>2</td><td>0.307158</td></tr></tbody></table>"
      ],
      "text/plain": [
       "8×3 DataFrames.DataFrame\n",
       "│ Row │ id │ id2 │ v         │\n",
       "├─────┼────┼─────┼───────────┤\n",
       "│ 1   │ 1  │ 1   │ 0.613302  │\n",
       "│ 2   │ 2  │ 2   │ 0.308748  │\n",
       "│ 3   │ 3  │ 1   │ 0.427095  │\n",
       "│ 4   │ 4  │ 2   │ 0.445219  │\n",
       "│ 5   │ 1  │ 1   │ 0.51192   │\n",
       "│ 6   │ 2  │ 2   │ 0.0172866 │\n",
       "│ 7   │ 3  │ 1   │ 0.580768  │\n",
       "│ 8   │ 4  │ 2   │ 0.307158  │"
      ]
     },
     "execution_count": 2,
     "metadata": {},
     "output_type": "execute_result"
    }
   ],
   "source": [
    "x = DataFrame(id=[1,2,3,4,1,2,3,4], id2=[1,2,1,2,1,2,1,2], v=rand(8))"
   ]
  },
  {
   "cell_type": "code",
   "execution_count": 3,
   "metadata": {
    "collapsed": false
   },
   "outputs": [
    {
     "data": {
      "text/plain": [
       "DataFrames.GroupedDataFrame  4 groups with keys: Symbol[:id]\n",
       "First Group:\n",
       "2×3 DataFrames.SubDataFrame{Array{Int64,1}}\n",
       "│ Row │ id │ id2 │ v        │\n",
       "├─────┼────┼─────┼──────────┤\n",
       "│ 1   │ 1  │ 1   │ 0.613302 │\n",
       "│ 2   │ 1  │ 1   │ 0.51192  │\n",
       "⋮\n",
       "Last Group:\n",
       "2×3 DataFrames.SubDataFrame{Array{Int64,1}}\n",
       "│ Row │ id │ id2 │ v        │\n",
       "├─────┼────┼─────┼──────────┤\n",
       "│ 1   │ 4  │ 2   │ 0.445219 │\n",
       "│ 2   │ 4  │ 2   │ 0.307158 │"
      ]
     },
     "execution_count": 3,
     "metadata": {},
     "output_type": "execute_result"
    }
   ],
   "source": [
    "gx1 = groupby(x, :id) # group by multiple variables"
   ]
  },
  {
   "cell_type": "code",
   "execution_count": 4,
   "metadata": {
    "collapsed": false
   },
   "outputs": [
    {
     "data": {
      "text/plain": [
       "DataFrames.GroupedDataFrame  4 groups with keys: Symbol[:id, :id2]\n",
       "First Group:\n",
       "2×3 DataFrames.SubDataFrame{Array{Int64,1}}\n",
       "│ Row │ id │ id2 │ v        │\n",
       "├─────┼────┼─────┼──────────┤\n",
       "│ 1   │ 1  │ 1   │ 0.613302 │\n",
       "│ 2   │ 1  │ 1   │ 0.51192  │\n",
       "⋮\n",
       "Last Group:\n",
       "2×3 DataFrames.SubDataFrame{Array{Int64,1}}\n",
       "│ Row │ id │ id2 │ v        │\n",
       "├─────┼────┼─────┼──────────┤\n",
       "│ 1   │ 4  │ 2   │ 0.445219 │\n",
       "│ 2   │ 4  │ 2   │ 0.307158 │"
      ]
     },
     "execution_count": 4,
     "metadata": {},
     "output_type": "execute_result"
    }
   ],
   "source": [
    "gx2 = groupby(x, [:id, :id2])"
   ]
  },
  {
   "cell_type": "code",
   "execution_count": 5,
   "metadata": {
    "collapsed": false
   },
   "outputs": [
    {
     "data": {
      "text/html": [
       "<table class=\"data-frame\"><thead><tr><th></th><th>id</th><th>id2</th><th>v</th></tr></thead><tbody><tr><th>1</th><td>1</td><td>1</td><td>0.613302</td></tr><tr><th>2</th><td>1</td><td>1</td><td>0.51192</td></tr><tr><th>3</th><td>2</td><td>2</td><td>0.308748</td></tr><tr><th>4</th><td>2</td><td>2</td><td>0.0172866</td></tr><tr><th>5</th><td>3</td><td>1</td><td>0.427095</td></tr><tr><th>6</th><td>3</td><td>1</td><td>0.580768</td></tr><tr><th>7</th><td>4</td><td>2</td><td>0.445219</td></tr><tr><th>8</th><td>4</td><td>2</td><td>0.307158</td></tr></tbody></table>"
      ],
      "text/plain": [
       "8×3 DataFrames.DataFrame\n",
       "│ Row │ id │ id2 │ v         │\n",
       "├─────┼────┼─────┼───────────┤\n",
       "│ 1   │ 1  │ 1   │ 0.613302  │\n",
       "│ 2   │ 1  │ 1   │ 0.51192   │\n",
       "│ 3   │ 2  │ 2   │ 0.308748  │\n",
       "│ 4   │ 2  │ 2   │ 0.0172866 │\n",
       "│ 5   │ 3  │ 1   │ 0.427095  │\n",
       "│ 6   │ 3  │ 1   │ 0.580768  │\n",
       "│ 7   │ 4  │ 2   │ 0.445219  │\n",
       "│ 8   │ 4  │ 2   │ 0.307158  │"
      ]
     },
     "execution_count": 5,
     "metadata": {},
     "output_type": "execute_result"
    }
   ],
   "source": [
    "vcat(gx2...) # back to the original DataFrame"
   ]
  },
  {
   "cell_type": "code",
   "execution_count": 6,
   "metadata": {
    "collapsed": false
   },
   "outputs": [
    {
     "data": {
      "text/html": [
       "<table class=\"data-frame\"><thead><tr><th></th><th>id</th><th>x</th></tr></thead><tbody><tr><th>1</th><td>missing</td><td>1</td></tr><tr><th>2</th><td>5</td><td>2</td></tr><tr><th>3</th><td>1</td><td>3</td></tr><tr><th>4</th><td>3</td><td>4</td></tr><tr><th>5</th><td>missing</td><td>5</td></tr></tbody></table>"
      ],
      "text/plain": [
       "5×2 DataFrames.DataFrame\n",
       "│ Row │ id      │ x │\n",
       "├─────┼─────────┼───┤\n",
       "│ 1   │ \u001b[90mmissing\u001b[39m │ 1 │\n",
       "│ 2   │ 5       │ 2 │\n",
       "│ 3   │ 1       │ 3 │\n",
       "│ 4   │ 3       │ 4 │\n",
       "│ 5   │ \u001b[90mmissing\u001b[39m │ 5 │"
      ]
     },
     "execution_count": 6,
     "metadata": {},
     "output_type": "execute_result"
    }
   ],
   "source": [
    "x = DataFrame(id = [missing, 5, 1, 3, missing], x = 1:5)"
   ]
  },
  {
   "cell_type": "code",
   "execution_count": 7,
   "metadata": {
    "collapsed": false
   },
   "outputs": [
    {
     "name": "stdout",
     "output_type": "stream",
     "text": [
      "DataFrames.GroupedDataFrame  4 groups with keys: Symbol[:id]\n",
      "gd[1]:\n",
      "2×2 DataFrames.SubDataFrame{Array{Int64,1}}\n",
      "│ Row │ id      │ x │\n",
      "├─────┼─────────┼───┤\n",
      "│ 1   │ \u001b[90mmissing\u001b[39m │ 1 │\n",
      "│ 2   │ \u001b[90mmissing\u001b[39m │ 5 │gd[2]:\n",
      "1×2 DataFrames.SubDataFrame{Array{Int64,1}}\n",
      "│ Row │ id │ x │\n",
      "├─────┼────┼───┤\n",
      "│ 1   │ 5  │ 2 │gd[3]:\n",
      "1×2 DataFrames.SubDataFrame{Array{Int64,1}}\n",
      "│ Row │ id │ x │\n",
      "├─────┼────┼───┤\n",
      "│ 1   │ 1  │ 3 │gd[4]:\n",
      "1×2 DataFrames.SubDataFrame{Array{Int64,1}}\n",
      "│ Row │ id │ x │\n",
      "├─────┼────┼───┤\n",
      "│ 1   │ 3  │ 4 │"
     ]
    }
   ],
   "source": [
    "showall(groupby(x, :id)) # by default groups include mising values and are not sorted"
   ]
  },
  {
   "cell_type": "code",
   "execution_count": 8,
   "metadata": {
    "collapsed": false
   },
   "outputs": [
    {
     "name": "stdout",
     "output_type": "stream",
     "text": [
      "DataFrames.GroupedDataFrame  3 groups with keys: Symbol[:id]\n",
      "gd[1]:\n",
      "1×2 DataFrames.SubDataFrame{Array{Int64,1}}\n",
      "│ Row │ id │ x │\n",
      "├─────┼────┼───┤\n",
      "│ 1   │ 1  │ 3 │gd[2]:\n",
      "1×2 DataFrames.SubDataFrame{Array{Int64,1}}\n",
      "│ Row │ id │ x │\n",
      "├─────┼────┼───┤\n",
      "│ 1   │ 3  │ 4 │gd[3]:\n",
      "1×2 DataFrames.SubDataFrame{Array{Int64,1}}\n",
      "│ Row │ id │ x │\n",
      "├─────┼────┼───┤\n",
      "│ 1   │ 5  │ 2 │"
     ]
    }
   ],
   "source": [
    "showall(groupby(x, :id, sort=true, skipmissing=true)) # but we can change it :)"
   ]
  },
  {
   "cell_type": "code",
   "execution_count": 9,
   "metadata": {
    "collapsed": false
   },
   "outputs": [
    {
     "data": {
      "text/html": [
       "<table class=\"data-frame\"><thead><tr><th></th><th>id</th><th>x1</th></tr></thead><tbody><tr><th>1</th><td>'c'</td><td>0.543879</td></tr><tr><th>2</th><td>'b'</td><td>0.566357</td></tr><tr><th>3</th><td>'d'</td><td>0.55235</td></tr><tr><th>4</th><td>'a'</td><td>0.557881</td></tr></tbody></table>"
      ],
      "text/plain": [
       "4×2 DataFrames.DataFrame\n",
       "│ Row │ id  │ x1       │\n",
       "├─────┼─────┼──────────┤\n",
       "│ 1   │ 'c' │ 0.543879 │\n",
       "│ 2   │ 'b' │ 0.566357 │\n",
       "│ 3   │ 'd' │ 0.55235  │\n",
       "│ 4   │ 'a' │ 0.557881 │"
      ]
     },
     "execution_count": 9,
     "metadata": {},
     "output_type": "execute_result"
    }
   ],
   "source": [
    "x = DataFrame(id=rand('a':'d', 100), v=rand(100));\n",
    "by(x, :id, y->mean(y[:v])) # apply a function to each group of a data frame"
   ]
  },
  {
   "cell_type": "code",
   "execution_count": 10,
   "metadata": {
    "collapsed": false
   },
   "outputs": [
    {
     "data": {
      "text/html": [
       "<table class=\"data-frame\"><thead><tr><th></th><th>id</th><th>x1</th></tr></thead><tbody><tr><th>1</th><td>'a'</td><td>0.557881</td></tr><tr><th>2</th><td>'b'</td><td>0.566357</td></tr><tr><th>3</th><td>'c'</td><td>0.543879</td></tr><tr><th>4</th><td>'d'</td><td>0.55235</td></tr></tbody></table>"
      ],
      "text/plain": [
       "4×2 DataFrames.DataFrame\n",
       "│ Row │ id  │ x1       │\n",
       "├─────┼─────┼──────────┤\n",
       "│ 1   │ 'a' │ 0.557881 │\n",
       "│ 2   │ 'b' │ 0.566357 │\n",
       "│ 3   │ 'c' │ 0.543879 │\n",
       "│ 4   │ 'd' │ 0.55235  │"
      ]
     },
     "execution_count": 10,
     "metadata": {},
     "output_type": "execute_result"
    }
   ],
   "source": [
    "by(x, :id, y->mean(y[:v]), sort=true) # we can sort the output"
   ]
  },
  {
   "cell_type": "code",
   "execution_count": 11,
   "metadata": {
    "collapsed": false
   },
   "outputs": [
    {
     "data": {
      "text/html": [
       "<table class=\"data-frame\"><thead><tr><th></th><th>id</th><th>res</th></tr></thead><tbody><tr><th>1</th><td>'c'</td><td>0.543879</td></tr><tr><th>2</th><td>'b'</td><td>0.566357</td></tr><tr><th>3</th><td>'d'</td><td>0.55235</td></tr><tr><th>4</th><td>'a'</td><td>0.557881</td></tr></tbody></table>"
      ],
      "text/plain": [
       "4×2 DataFrames.DataFrame\n",
       "│ Row │ id  │ res      │\n",
       "├─────┼─────┼──────────┤\n",
       "│ 1   │ 'c' │ 0.543879 │\n",
       "│ 2   │ 'b' │ 0.566357 │\n",
       "│ 3   │ 'd' │ 0.55235  │\n",
       "│ 4   │ 'a' │ 0.557881 │"
      ]
     },
     "execution_count": 11,
     "metadata": {},
     "output_type": "execute_result"
    }
   ],
   "source": [
    "by(x, :id, y->DataFrame(res=mean(y[:v]))) # this way we can set a name for a column - DataFramesMeta @by is better"
   ]
  },
  {
   "cell_type": "code",
   "execution_count": 12,
   "metadata": {
    "collapsed": false
   },
   "outputs": [
    {
     "data": {
      "text/html": [
       "<table class=\"data-frame\"><thead><tr><th></th><th>id</th><th>x1_sum</th><th>x2_sum</th></tr></thead><tbody><tr><th>1</th><td>'b'</td><td>10.7377</td><td>10.8649</td></tr><tr><th>2</th><td>'c'</td><td>10.5219</td><td>10.6734</td></tr><tr><th>3</th><td>'a'</td><td>15.9332</td><td>18.5059</td></tr><tr><th>4</th><td>'d'</td><td>11.2631</td><td>9.41057</td></tr></tbody></table>"
      ],
      "text/plain": [
       "4×3 DataFrames.DataFrame\n",
       "│ Row │ id  │ x1_sum  │ x2_sum  │\n",
       "├─────┼─────┼─────────┼─────────┤\n",
       "│ 1   │ 'b' │ 10.7377 │ 10.8649 │\n",
       "│ 2   │ 'c' │ 10.5219 │ 10.6734 │\n",
       "│ 3   │ 'a' │ 15.9332 │ 18.5059 │\n",
       "│ 4   │ 'd' │ 11.2631 │ 9.41057 │"
      ]
     },
     "execution_count": 12,
     "metadata": {},
     "output_type": "execute_result"
    }
   ],
   "source": [
    "x = DataFrame(id=rand('a':'d', 100), x1=rand(100), x2=rand(100))\n",
    "aggregate(x, :id, sum) # apply a function over all columns of a data frame in groups given by id"
   ]
  },
  {
   "cell_type": "code",
   "execution_count": 13,
   "metadata": {
    "collapsed": false
   },
   "outputs": [
    {
     "data": {
      "text/html": [
       "<table class=\"data-frame\"><thead><tr><th></th><th>id</th><th>x1_sum</th><th>x2_sum</th></tr></thead><tbody><tr><th>1</th><td>'a'</td><td>15.9332</td><td>18.5059</td></tr><tr><th>2</th><td>'b'</td><td>10.7377</td><td>10.8649</td></tr><tr><th>3</th><td>'c'</td><td>10.5219</td><td>10.6734</td></tr><tr><th>4</th><td>'d'</td><td>11.2631</td><td>9.41057</td></tr></tbody></table>"
      ],
      "text/plain": [
       "4×3 DataFrames.DataFrame\n",
       "│ Row │ id  │ x1_sum  │ x2_sum  │\n",
       "├─────┼─────┼─────────┼─────────┤\n",
       "│ 1   │ 'a' │ 15.9332 │ 18.5059 │\n",
       "│ 2   │ 'b' │ 10.7377 │ 10.8649 │\n",
       "│ 3   │ 'c' │ 10.5219 │ 10.6734 │\n",
       "│ 4   │ 'd' │ 11.2631 │ 9.41057 │"
      ]
     },
     "execution_count": 13,
     "metadata": {},
     "output_type": "execute_result"
    }
   ],
   "source": [
    "aggregate(x, :id, sum, sort=true) # also can be sorted"
   ]
  },
  {
   "cell_type": "markdown",
   "metadata": {},
   "source": [
    "*We omit the discussion of of map/combine as I do not find them very useful (better to use by)*"
   ]
  },
  {
   "cell_type": "code",
   "execution_count": 14,
   "metadata": {
    "collapsed": false
   },
   "outputs": [
    {
     "data": {
      "text/html": [
       "<table class=\"data-frame\"><thead><tr><th></th><th>x1</th><th>x2</th><th>x3</th><th>x4</th><th>x5</th></tr></thead><tbody><tr><th>1</th><td>0.834378</td><td>0.455071</td><td>0.0343202</td><td>0.886276</td><td>0.494359</td></tr><tr><th>2</th><td>0.805254</td><td>0.299038</td><td>0.788217</td><td>0.176212</td><td>0.195506</td></tr><tr><th>3</th><td>0.605343</td><td>0.946998</td><td>0.630307</td><td>0.817551</td><td>0.295498</td></tr></tbody></table>"
      ],
      "text/plain": [
       "3×5 DataFrames.DataFrame\n",
       "│ Row │ x1       │ x2       │ x3        │ x4       │ x5       │\n",
       "├─────┼──────────┼──────────┼───────────┼──────────┼──────────┤\n",
       "│ 1   │ 0.834378 │ 0.455071 │ 0.0343202 │ 0.886276 │ 0.494359 │\n",
       "│ 2   │ 0.805254 │ 0.299038 │ 0.788217  │ 0.176212 │ 0.195506 │\n",
       "│ 3   │ 0.605343 │ 0.946998 │ 0.630307  │ 0.817551 │ 0.295498 │"
      ]
     },
     "execution_count": 14,
     "metadata": {},
     "output_type": "execute_result"
    }
   ],
   "source": [
    "x = DataFrame(rand(3, 5))"
   ]
  },
  {
   "cell_type": "code",
   "execution_count": 15,
   "metadata": {
    "collapsed": false
   },
   "outputs": [
    {
     "data": {
      "text/html": [
       "<table class=\"data-frame\"><thead><tr><th></th><th>x1</th><th>x2</th><th>x3</th><th>x4</th><th>x5</th></tr></thead><tbody><tr><th>1</th><td>0.748325</td><td>0.567036</td><td>0.484281</td><td>0.62668</td><td>0.328454</td></tr></tbody></table>"
      ],
      "text/plain": [
       "1×5 DataFrames.DataFrame\n",
       "│ Row │ x1       │ x2       │ x3       │ x4      │ x5       │\n",
       "├─────┼──────────┼──────────┼──────────┼─────────┼──────────┤\n",
       "│ 1   │ 0.748325 │ 0.567036 │ 0.484281 │ 0.62668 │ 0.328454 │"
      ]
     },
     "execution_count": 15,
     "metadata": {},
     "output_type": "execute_result"
    }
   ],
   "source": [
    "map(mean, eachcol(x)) # map a function over each column and return a data frame"
   ]
  },
  {
   "cell_type": "code",
   "execution_count": 16,
   "metadata": {
    "collapsed": false
   },
   "outputs": [
    {
     "name": "stdout",
     "output_type": "stream",
     "text": [
      "x1: 0.7483250471393426\n",
      "x2: 0.5670357789219573\n",
      "x3: 0.48428126564113816\n",
      "x4: 0.6266796255392941\n",
      "x5: 0.3284543511272236\n"
     ]
    }
   ],
   "source": [
    "foreach(c -> println(c[1], \": \", mean(c[2])), eachcol(x)) # a raw iteration returns a tuple with column name and values"
   ]
  },
  {
   "cell_type": "code",
   "execution_count": 17,
   "metadata": {
    "collapsed": false
   },
   "outputs": [
    {
     "data": {
      "text/plain": [
       "5-element Array{Float64,1}:\n",
       " 0.748325\n",
       " 0.567036\n",
       " 0.484281\n",
       " 0.62668 \n",
       " 0.328454"
      ]
     },
     "execution_count": 17,
     "metadata": {},
     "output_type": "execute_result"
    }
   ],
   "source": [
    "colwise(mean, x) # colwise is similar, but produces a vector"
   ]
  },
  {
   "cell_type": "code",
   "execution_count": 18,
   "metadata": {
    "collapsed": false
   },
   "outputs": [
    {
     "data": {
      "text/plain": [
       "2-element Array{Array{Float64,1},1}:\n",
       " [0.819816, 0.377055, 0.411269, 0.531244, 0.344933, 1.0]\n",
       " [0.605343, 0.946998, 0.630307, 0.817551, 0.295498, 2.0]"
      ]
     },
     "execution_count": 18,
     "metadata": {},
     "output_type": "execute_result"
    }
   ],
   "source": [
    "x[:id] = [1,1,2]\n",
    "colwise(mean,groupby(x, :id)) # and works on GroupedDataFrame"
   ]
  },
  {
   "cell_type": "code",
   "execution_count": 19,
   "metadata": {
    "collapsed": false
   },
   "outputs": [
    {
     "data": {
      "text/plain": [
       "3-element Array{Float64,1}:\n",
       " 1.83351 \n",
       " 2.69281 \n",
       " 0.639223"
      ]
     },
     "execution_count": 19,
     "metadata": {},
     "output_type": "execute_result"
    }
   ],
   "source": [
    "map(r -> r[:x1]/r[:x2], eachrow(x)) # now the returned value is DataFrameRow which works similarly to a one-row DataFrame"
   ]
  }
 ],
 "metadata": {
  "kernelspec": {
   "display_name": "Julia 0.6.0",
   "language": "julia",
   "name": "julia-0.6"
  },
  "language_info": {
   "file_extension": ".jl",
   "mimetype": "application/julia",
   "name": "julia",
   "version": "0.6.2"
  }
 },
 "nbformat": 4,
 "nbformat_minor": 0
}

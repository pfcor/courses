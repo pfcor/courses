{
 "cells": [
  {
   "cell_type": "markdown",
   "metadata": {},
   "source": [
    "#### collections"
   ]
  },
  {
   "cell_type": "code",
   "execution_count": 1,
   "metadata": {},
   "outputs": [
    {
     "data": {
      "text/plain": [
       "3-element Array{Int64,1}:\n",
       " 2\n",
       " 2\n",
       " 2"
      ]
     },
     "execution_count": 1,
     "metadata": {},
     "output_type": "execute_result"
    }
   ],
   "source": [
    "[2,2,2]"
   ]
  },
  {
   "cell_type": "code",
   "execution_count": 9,
   "metadata": {},
   "outputs": [
    {
     "ename": "LoadError",
     "evalue": "\u001b[91mDimensionMismatch(\"matrix A has dimensions (3,2), vector B has length 3\")\u001b[39m",
     "output_type": "error",
     "traceback": [
      "\u001b[91mDimensionMismatch(\"matrix A has dimensions (3,2), vector B has length 3\")\u001b[39m",
      "",
      "Stacktrace:",
      " [1] \u001b[1mgeneric_matvecmul!\u001b[22m\u001b[22m\u001b[1m(\u001b[22m\u001b[22m::Array{Int64,1}, ::Char, ::Array{Int64,2}, ::Array{Int64,1}\u001b[1m)\u001b[22m\u001b[22m at \u001b[1m./linalg/matmul.jl:407\u001b[22m\u001b[22m",
      " [2] \u001b[1m*\u001b[22m\u001b[22m\u001b[1m(\u001b[22m\u001b[22m::Array{Int64,2}, ::Array{Int64,1}\u001b[1m)\u001b[22m\u001b[22m at \u001b[1m./linalg/matmul.jl:79\u001b[22m\u001b[22m",
      " [3] \u001b[1minclude_string\u001b[22m\u001b[22m\u001b[1m(\u001b[22m\u001b[22m::String, ::String\u001b[1m)\u001b[22m\u001b[22m at \u001b[1m./loading.jl:522\u001b[22m\u001b[22m"
     ]
    }
   ],
   "source": [
    "a = [[1, 2, 3] [4, 5, 6]]\n",
    "b = [1, 2, 3]\n",
    "a * b"
   ]
  },
  {
   "cell_type": "code",
   "execution_count": 10,
   "metadata": {},
   "outputs": [
    {
     "data": {
      "text/plain": [
       "6-element Array{Int64,1}:\n",
       " 1\n",
       " 2\n",
       " 1\n",
       " 2\n",
       " 1\n",
       " 2"
      ]
     },
     "execution_count": 10,
     "metadata": {},
     "output_type": "execute_result"
    }
   ],
   "source": [
    "repmat([1, 2], 3)"
   ]
  },
  {
   "cell_type": "code",
   "execution_count": 11,
   "metadata": {},
   "outputs": [
    {
     "data": {
      "text/plain": [
       "Tuple{String,Int64,String,Int64,String,Int64}"
      ]
     },
     "execution_count": 11,
     "metadata": {},
     "output_type": "execute_result"
    }
   ],
   "source": [
    "typeof((\"A\", 3, \"B\", 4, \"C\", 2))"
   ]
  },
  {
   "cell_type": "markdown",
   "metadata": {},
   "source": [
    "#### dataframes"
   ]
  },
  {
   "cell_type": "code",
   "execution_count": 1,
   "metadata": {
    "collapsed": true
   },
   "outputs": [],
   "source": [
    "using DataFrames"
   ]
  },
  {
   "cell_type": "code",
   "execution_count": 6,
   "metadata": {
    "collapsed": true
   },
   "outputs": [],
   "source": [
    "df3 = DataFrame()\n",
    "df3[:A] = rand(15)\n",
    "df3[:B] = rand(15)\n",
    "df3[:C] = rand(15)\n",
    "df3[:D] = rand(15);"
   ]
  },
  {
   "cell_type": "code",
   "execution_count": 7,
   "metadata": {},
   "outputs": [
    {
     "data": {
      "text/html": [
       "<table class=\"data-frame\"><thead><tr><th></th><th>A</th><th>B</th><th>C</th><th>D</th></tr></thead><tbody><tr><th>1</th><td>0.00814664</td><td>0.076879</td><td>0.48874</td><td>0.279595</td></tr><tr><th>2</th><td>0.553837</td><td>0.349782</td><td>0.0493033</td><td>0.0316861</td></tr><tr><th>3</th><td>0.112574</td><td>0.477234</td><td>0.50342</td><td>0.205869</td></tr><tr><th>4</th><td>0.595797</td><td>0.73844</td><td>0.143354</td><td>0.680536</td></tr><tr><th>5</th><td>0.188906</td><td>0.494736</td><td>0.610357</td><td>0.451324</td></tr><tr><th>6</th><td>0.721617</td><td>0.61728</td><td>0.217796</td><td>0.618925</td></tr><tr><th>7</th><td>0.6805</td><td>0.0740884</td><td>0.12758</td><td>0.308968</td></tr><tr><th>8</th><td>0.793292</td><td>0.254219</td><td>0.459652</td><td>0.812022</td></tr><tr><th>9</th><td>0.0377718</td><td>0.289241</td><td>0.0683935</td><td>0.0855456</td></tr><tr><th>10</th><td>0.423273</td><td>0.281706</td><td>0.139072</td><td>0.789013</td></tr><tr><th>11</th><td>0.494859</td><td>0.230787</td><td>0.706603</td><td>0.925335</td></tr><tr><th>12</th><td>0.408847</td><td>0.38374</td><td>0.850975</td><td>0.385229</td></tr><tr><th>13</th><td>0.320924</td><td>0.769739</td><td>0.999747</td><td>0.889282</td></tr><tr><th>14</th><td>0.252764</td><td>0.0737813</td><td>0.0304905</td><td>0.602408</td></tr><tr><th>15</th><td>0.526959</td><td>0.443998</td><td>0.497063</td><td>0.639177</td></tr></tbody></table>"
      ],
      "text/plain": [
       "15×4 DataFrames.DataFrame\n",
       "│ Row │ A          │ B         │ C         │ D         │\n",
       "├─────┼────────────┼───────────┼───────────┼───────────┤\n",
       "│ 1   │ 0.00814664 │ 0.076879  │ 0.48874   │ 0.279595  │\n",
       "│ 2   │ 0.553837   │ 0.349782  │ 0.0493033 │ 0.0316861 │\n",
       "│ 3   │ 0.112574   │ 0.477234  │ 0.50342   │ 0.205869  │\n",
       "│ 4   │ 0.595797   │ 0.73844   │ 0.143354  │ 0.680536  │\n",
       "│ 5   │ 0.188906   │ 0.494736  │ 0.610357  │ 0.451324  │\n",
       "│ 6   │ 0.721617   │ 0.61728   │ 0.217796  │ 0.618925  │\n",
       "│ 7   │ 0.6805     │ 0.0740884 │ 0.12758   │ 0.308968  │\n",
       "│ 8   │ 0.793292   │ 0.254219  │ 0.459652  │ 0.812022  │\n",
       "│ 9   │ 0.0377718  │ 0.289241  │ 0.0683935 │ 0.0855456 │\n",
       "│ 10  │ 0.423273   │ 0.281706  │ 0.139072  │ 0.789013  │\n",
       "│ 11  │ 0.494859   │ 0.230787  │ 0.706603  │ 0.925335  │\n",
       "│ 12  │ 0.408847   │ 0.38374   │ 0.850975  │ 0.385229  │\n",
       "│ 13  │ 0.320924   │ 0.769739  │ 0.999747  │ 0.889282  │\n",
       "│ 14  │ 0.252764   │ 0.0737813 │ 0.0304905 │ 0.602408  │\n",
       "│ 15  │ 0.526959   │ 0.443998  │ 0.497063  │ 0.639177  │"
      ]
     },
     "execution_count": 7,
     "metadata": {},
     "output_type": "execute_result"
    }
   ],
   "source": [
    "df3"
   ]
  },
  {
   "cell_type": "code",
   "execution_count": 8,
   "metadata": {},
   "outputs": [
    {
     "data": {
      "text/html": [
       "<table class=\"data-frame\"><thead><tr><th></th><th>A</th><th>B</th><th>C</th><th>D</th></tr></thead><tbody><tr><th>1</th><td>0.00814664</td><td>0.076879</td><td>0.48874</td><td>0.279595</td></tr><tr><th>2</th><td>0.553837</td><td>0.349782</td><td>0.0493033</td><td>0.0316861</td></tr><tr><th>3</th><td>0.595797</td><td>0.73844</td><td>0.143354</td><td>0.680536</td></tr><tr><th>4</th><td>0.721617</td><td>0.61728</td><td>0.217796</td><td>0.618925</td></tr><tr><th>5</th><td>0.6805</td><td>0.0740884</td><td>0.12758</td><td>0.308968</td></tr><tr><th>6</th><td>0.793292</td><td>0.254219</td><td>0.459652</td><td>0.812022</td></tr><tr><th>7</th><td>0.423273</td><td>0.281706</td><td>0.139072</td><td>0.789013</td></tr><tr><th>8</th><td>0.494859</td><td>0.230787</td><td>0.706603</td><td>0.925335</td></tr><tr><th>9</th><td>0.408847</td><td>0.38374</td><td>0.850975</td><td>0.385229</td></tr><tr><th>10</th><td>0.320924</td><td>0.769739</td><td>0.999747</td><td>0.889282</td></tr><tr><th>11</th><td>0.252764</td><td>0.0737813</td><td>0.0304905</td><td>0.602408</td></tr><tr><th>12</th><td>0.526959</td><td>0.443998</td><td>0.497063</td><td>0.639177</td></tr></tbody></table>"
      ],
      "text/plain": [
       "12×4 DataFrames.DataFrame\n",
       "│ Row │ A          │ B         │ C         │ D         │\n",
       "├─────┼────────────┼───────────┼───────────┼───────────┤\n",
       "│ 1   │ 0.00814664 │ 0.076879  │ 0.48874   │ 0.279595  │\n",
       "│ 2   │ 0.553837   │ 0.349782  │ 0.0493033 │ 0.0316861 │\n",
       "│ 3   │ 0.595797   │ 0.73844   │ 0.143354  │ 0.680536  │\n",
       "│ 4   │ 0.721617   │ 0.61728   │ 0.217796  │ 0.618925  │\n",
       "│ 5   │ 0.6805     │ 0.0740884 │ 0.12758   │ 0.308968  │\n",
       "│ 6   │ 0.793292   │ 0.254219  │ 0.459652  │ 0.812022  │\n",
       "│ 7   │ 0.423273   │ 0.281706  │ 0.139072  │ 0.789013  │\n",
       "│ 8   │ 0.494859   │ 0.230787  │ 0.706603  │ 0.925335  │\n",
       "│ 9   │ 0.408847   │ 0.38374   │ 0.850975  │ 0.385229  │\n",
       "│ 10  │ 0.320924   │ 0.769739  │ 0.999747  │ 0.889282  │\n",
       "│ 11  │ 0.252764   │ 0.0737813 │ 0.0304905 │ 0.602408  │\n",
       "│ 12  │ 0.526959   │ 0.443998  │ 0.497063  │ 0.639177  │"
      ]
     },
     "execution_count": 8,
     "metadata": {},
     "output_type": "execute_result"
    }
   ],
   "source": [
    "deleterows!(df3, [3,5,9])"
   ]
  },
  {
   "cell_type": "code",
   "execution_count": null,
   "metadata": {
    "collapsed": true
   },
   "outputs": [],
   "source": []
  }
 ],
 "metadata": {
  "kernelspec": {
   "display_name": "Julia 0.6.1",
   "language": "julia",
   "name": "julia-0.6"
  },
  "language_info": {
   "file_extension": ".jl",
   "mimetype": "application/julia",
   "name": "julia",
   "version": "0.6.1"
  }
 },
 "nbformat": 4,
 "nbformat_minor": 2
}
